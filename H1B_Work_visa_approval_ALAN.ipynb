{
  "cells": [
    {
      "cell_type": "markdown",
      "metadata": {
        "id": "ph7xtnBtS9PN"
      },
      "source": [
        "<h1>Classification of Work Visa Approval"
      ]
    },
    {
      "cell_type": "markdown",
      "metadata": {
        "id": "EvGJ316-S-VP"
      },
      "source": [
        "<h1>Name - harman jot singh\n"
      ]
    },
    {
      "cell_type": "markdown",
      "metadata": {
        "id": "HuMuhgDLS-eW"
      },
      "source": [
        "<h1>Technocolabs Data-Scientist-Internship"
      ]
    },
    {
      "cell_type": "code",
      "execution_count": 1,
      "metadata": {
        "id": "ARTj_6-_6wzK"
      },
      "outputs": [],
      "source": [
        "import pandas as pd\n",
        "import numpy as np\n",
        "import matplotlib.pyplot as plt\n",
        "import seaborn as sns\n",
        "%matplotlib inline\n",
        "import warnings\n",
        "warnings.filterwarnings('ignore')"
      ]
    },
    {
      "cell_type": "code",
      "execution_count": 2,
      "metadata": {
        "id": "YGX7o8529Vo6"
      },
      "outputs": [],
      "source": [
        "df = pd.read_excel (r'/content/drive/MyDrive/col/H-1B_Disclosure_Data_FY2019/H-1B_Disclosure_Data_FY2019.xlsx')"
      ]
    },
    {
      "cell_type": "code",
      "execution_count": 3,
      "metadata": {
        "colab": {
          "base_uri": "https://localhost:8080/",
          "height": 577
        },
        "id": "MPNSAHg7n5eH",
        "outputId": "acccacd4-3370-473e-ec94-781e6a10b437"
      },
      "outputs": [
        {
          "data": {
            "text/html": [
              "\n",
              "  <div id=\"df-924c2b20-844a-46ac-aa4a-160a5213eb56\">\n",
              "    <div class=\"colab-df-container\">\n",
              "      <div>\n",
              "<style scoped>\n",
              "    .dataframe tbody tr th:only-of-type {\n",
              "        vertical-align: middle;\n",
              "    }\n",
              "\n",
              "    .dataframe tbody tr th {\n",
              "        vertical-align: top;\n",
              "    }\n",
              "\n",
              "    .dataframe thead th {\n",
              "        text-align: right;\n",
              "    }\n",
              "</style>\n",
              "<table border=\"1\" class=\"dataframe\">\n",
              "  <thead>\n",
              "    <tr style=\"text-align: right;\">\n",
              "      <th></th>\n",
              "      <th>CASE_NUMBER</th>\n",
              "      <th>CASE_STATUS</th>\n",
              "      <th>CASE_SUBMITTED</th>\n",
              "      <th>DECISION_DATE</th>\n",
              "      <th>ORIGINAL_CERT_DATE</th>\n",
              "      <th>VISA_CLASS</th>\n",
              "      <th>JOB_TITLE</th>\n",
              "      <th>SOC_CODE</th>\n",
              "      <th>SOC_TITLE</th>\n",
              "      <th>FULL_TIME_POSITION</th>\n",
              "      <th>...</th>\n",
              "      <th>PW_OTHER_SOURCE_10</th>\n",
              "      <th>PW_NON-OES_YEAR_10</th>\n",
              "      <th>PW_SURVEY_PUBLISHER_10</th>\n",
              "      <th>PW_SURVEY_NAME_10</th>\n",
              "      <th>H-1B_DEPENDENT</th>\n",
              "      <th>WILLFUL_VIOLATOR</th>\n",
              "      <th>SUPPORT_H1B</th>\n",
              "      <th>STATUTORY_BASIS</th>\n",
              "      <th>MASTERS_EXEMPTION</th>\n",
              "      <th>PUBLIC_DISCLOSURE</th>\n",
              "    </tr>\n",
              "  </thead>\n",
              "  <tbody>\n",
              "    <tr>\n",
              "      <th>0</th>\n",
              "      <td>I-200-16092-327771</td>\n",
              "      <td>WITHDRAWN</td>\n",
              "      <td>2016-04-08</td>\n",
              "      <td>2019-04-30</td>\n",
              "      <td>NaT</td>\n",
              "      <td>H-1B</td>\n",
              "      <td>ASSOCIATE CREATIVE DIRECTOR</td>\n",
              "      <td>11-2011</td>\n",
              "      <td>ADVERTISING AND PROMOTIONS MANAGERS</td>\n",
              "      <td>Y</td>\n",
              "      <td>...</td>\n",
              "      <td>NaN</td>\n",
              "      <td>NaN</td>\n",
              "      <td>NaN</td>\n",
              "      <td>NaN</td>\n",
              "      <td>N</td>\n",
              "      <td>N</td>\n",
              "      <td>NaN</td>\n",
              "      <td>NaN</td>\n",
              "      <td>NaN</td>\n",
              "      <td>NaN</td>\n",
              "    </tr>\n",
              "    <tr>\n",
              "      <th>1</th>\n",
              "      <td>I-203-17188-450729</td>\n",
              "      <td>WITHDRAWN</td>\n",
              "      <td>2017-07-14</td>\n",
              "      <td>2019-05-13</td>\n",
              "      <td>NaT</td>\n",
              "      <td>E-3 Australian</td>\n",
              "      <td>ACCOUNT SUPERVISOR (MOTHER)</td>\n",
              "      <td>11-2011</td>\n",
              "      <td>ADVERTISING AND PROMOTIONS MANAGERS</td>\n",
              "      <td>Y</td>\n",
              "      <td>...</td>\n",
              "      <td>NaN</td>\n",
              "      <td>NaN</td>\n",
              "      <td>NaN</td>\n",
              "      <td>NaN</td>\n",
              "      <td>NaN</td>\n",
              "      <td>NaN</td>\n",
              "      <td>NaN</td>\n",
              "      <td>NaN</td>\n",
              "      <td>NaN</td>\n",
              "      <td>NaN</td>\n",
              "    </tr>\n",
              "    <tr>\n",
              "      <th>2</th>\n",
              "      <td>I-203-17229-572307</td>\n",
              "      <td>WITHDRAWN</td>\n",
              "      <td>2017-08-23</td>\n",
              "      <td>2019-04-30</td>\n",
              "      <td>NaT</td>\n",
              "      <td>E-3 Australian</td>\n",
              "      <td>EXECUTIVE CREATIVE DIRECTOR</td>\n",
              "      <td>11-2011</td>\n",
              "      <td>ADVERTISING AND PROMOTIONS MANAGERS</td>\n",
              "      <td>Y</td>\n",
              "      <td>...</td>\n",
              "      <td>NaN</td>\n",
              "      <td>NaN</td>\n",
              "      <td>NaN</td>\n",
              "      <td>NaN</td>\n",
              "      <td>NaN</td>\n",
              "      <td>NaN</td>\n",
              "      <td>NaN</td>\n",
              "      <td>NaN</td>\n",
              "      <td>NaN</td>\n",
              "      <td>NaN</td>\n",
              "    </tr>\n",
              "    <tr>\n",
              "      <th>3</th>\n",
              "      <td>I-203-17356-299648</td>\n",
              "      <td>WITHDRAWN</td>\n",
              "      <td>2017-12-22</td>\n",
              "      <td>2019-08-20</td>\n",
              "      <td>NaT</td>\n",
              "      <td>E-3 Australian</td>\n",
              "      <td>PROJECT MANAGEMENT LEAD</td>\n",
              "      <td>11-2011</td>\n",
              "      <td>ADVERTISING AND PROMOTIONS MANAGERS</td>\n",
              "      <td>Y</td>\n",
              "      <td>...</td>\n",
              "      <td>NaN</td>\n",
              "      <td>NaN</td>\n",
              "      <td>NaN</td>\n",
              "      <td>NaN</td>\n",
              "      <td>NaN</td>\n",
              "      <td>NaN</td>\n",
              "      <td>NaN</td>\n",
              "      <td>NaN</td>\n",
              "      <td>NaN</td>\n",
              "      <td>NaN</td>\n",
              "    </tr>\n",
              "    <tr>\n",
              "      <th>4</th>\n",
              "      <td>I-203-18008-577576</td>\n",
              "      <td>WITHDRAWN</td>\n",
              "      <td>2018-01-10</td>\n",
              "      <td>2019-04-15</td>\n",
              "      <td>NaT</td>\n",
              "      <td>E-3 Australian</td>\n",
              "      <td>CREATIVE DIRECTOR, UX</td>\n",
              "      <td>11-2011</td>\n",
              "      <td>ADVERTISING AND PROMOTIONS MANAGERS</td>\n",
              "      <td>Y</td>\n",
              "      <td>...</td>\n",
              "      <td>NaN</td>\n",
              "      <td>NaN</td>\n",
              "      <td>NaN</td>\n",
              "      <td>NaN</td>\n",
              "      <td>NaN</td>\n",
              "      <td>NaN</td>\n",
              "      <td>NaN</td>\n",
              "      <td>NaN</td>\n",
              "      <td>NaN</td>\n",
              "      <td>NaN</td>\n",
              "    </tr>\n",
              "  </tbody>\n",
              "</table>\n",
              "<p>5 rows × 260 columns</p>\n",
              "</div>\n",
              "      <button class=\"colab-df-convert\" onclick=\"convertToInteractive('df-924c2b20-844a-46ac-aa4a-160a5213eb56')\"\n",
              "              title=\"Convert this dataframe to an interactive table.\"\n",
              "              style=\"display:none;\">\n",
              "        \n",
              "  <svg xmlns=\"http://www.w3.org/2000/svg\" height=\"24px\"viewBox=\"0 0 24 24\"\n",
              "       width=\"24px\">\n",
              "    <path d=\"M0 0h24v24H0V0z\" fill=\"none\"/>\n",
              "    <path d=\"M18.56 5.44l.94 2.06.94-2.06 2.06-.94-2.06-.94-.94-2.06-.94 2.06-2.06.94zm-11 1L8.5 8.5l.94-2.06 2.06-.94-2.06-.94L8.5 2.5l-.94 2.06-2.06.94zm10 10l.94 2.06.94-2.06 2.06-.94-2.06-.94-.94-2.06-.94 2.06-2.06.94z\"/><path d=\"M17.41 7.96l-1.37-1.37c-.4-.4-.92-.59-1.43-.59-.52 0-1.04.2-1.43.59L10.3 9.45l-7.72 7.72c-.78.78-.78 2.05 0 2.83L4 21.41c.39.39.9.59 1.41.59.51 0 1.02-.2 1.41-.59l7.78-7.78 2.81-2.81c.8-.78.8-2.07 0-2.86zM5.41 20L4 18.59l7.72-7.72 1.47 1.35L5.41 20z\"/>\n",
              "  </svg>\n",
              "      </button>\n",
              "      \n",
              "  <style>\n",
              "    .colab-df-container {\n",
              "      display:flex;\n",
              "      flex-wrap:wrap;\n",
              "      gap: 12px;\n",
              "    }\n",
              "\n",
              "    .colab-df-convert {\n",
              "      background-color: #E8F0FE;\n",
              "      border: none;\n",
              "      border-radius: 50%;\n",
              "      cursor: pointer;\n",
              "      display: none;\n",
              "      fill: #1967D2;\n",
              "      height: 32px;\n",
              "      padding: 0 0 0 0;\n",
              "      width: 32px;\n",
              "    }\n",
              "\n",
              "    .colab-df-convert:hover {\n",
              "      background-color: #E2EBFA;\n",
              "      box-shadow: 0px 1px 2px rgba(60, 64, 67, 0.3), 0px 1px 3px 1px rgba(60, 64, 67, 0.15);\n",
              "      fill: #174EA6;\n",
              "    }\n",
              "\n",
              "    [theme=dark] .colab-df-convert {\n",
              "      background-color: #3B4455;\n",
              "      fill: #D2E3FC;\n",
              "    }\n",
              "\n",
              "    [theme=dark] .colab-df-convert:hover {\n",
              "      background-color: #434B5C;\n",
              "      box-shadow: 0px 1px 3px 1px rgba(0, 0, 0, 0.15);\n",
              "      filter: drop-shadow(0px 1px 2px rgba(0, 0, 0, 0.3));\n",
              "      fill: #FFFFFF;\n",
              "    }\n",
              "  </style>\n",
              "\n",
              "      <script>\n",
              "        const buttonEl =\n",
              "          document.querySelector('#df-924c2b20-844a-46ac-aa4a-160a5213eb56 button.colab-df-convert');\n",
              "        buttonEl.style.display =\n",
              "          google.colab.kernel.accessAllowed ? 'block' : 'none';\n",
              "\n",
              "        async function convertToInteractive(key) {\n",
              "          const element = document.querySelector('#df-924c2b20-844a-46ac-aa4a-160a5213eb56');\n",
              "          const dataTable =\n",
              "            await google.colab.kernel.invokeFunction('convertToInteractive',\n",
              "                                                     [key], {});\n",
              "          if (!dataTable) return;\n",
              "\n",
              "          const docLinkHtml = 'Like what you see? Visit the ' +\n",
              "            '<a target=\"_blank\" href=https://colab.research.google.com/notebooks/data_table.ipynb>data table notebook</a>'\n",
              "            + ' to learn more about interactive tables.';\n",
              "          element.innerHTML = '';\n",
              "          dataTable['output_type'] = 'display_data';\n",
              "          await google.colab.output.renderOutput(dataTable, element);\n",
              "          const docLink = document.createElement('div');\n",
              "          docLink.innerHTML = docLinkHtml;\n",
              "          element.appendChild(docLink);\n",
              "        }\n",
              "      </script>\n",
              "    </div>\n",
              "  </div>\n",
              "  "
            ],
            "text/plain": [
              "          CASE_NUMBER CASE_STATUS CASE_SUBMITTED DECISION_DATE  \\\n",
              "0  I-200-16092-327771   WITHDRAWN     2016-04-08    2019-04-30   \n",
              "1  I-203-17188-450729   WITHDRAWN     2017-07-14    2019-05-13   \n",
              "2  I-203-17229-572307   WITHDRAWN     2017-08-23    2019-04-30   \n",
              "3  I-203-17356-299648   WITHDRAWN     2017-12-22    2019-08-20   \n",
              "4  I-203-18008-577576   WITHDRAWN     2018-01-10    2019-04-15   \n",
              "\n",
              "  ORIGINAL_CERT_DATE      VISA_CLASS                    JOB_TITLE SOC_CODE  \\\n",
              "0                NaT            H-1B  ASSOCIATE CREATIVE DIRECTOR  11-2011   \n",
              "1                NaT  E-3 Australian  ACCOUNT SUPERVISOR (MOTHER)  11-2011   \n",
              "2                NaT  E-3 Australian  EXECUTIVE CREATIVE DIRECTOR  11-2011   \n",
              "3                NaT  E-3 Australian      PROJECT MANAGEMENT LEAD  11-2011   \n",
              "4                NaT  E-3 Australian        CREATIVE DIRECTOR, UX  11-2011   \n",
              "\n",
              "                             SOC_TITLE FULL_TIME_POSITION  ...  \\\n",
              "0  ADVERTISING AND PROMOTIONS MANAGERS                  Y  ...   \n",
              "1  ADVERTISING AND PROMOTIONS MANAGERS                  Y  ...   \n",
              "2  ADVERTISING AND PROMOTIONS MANAGERS                  Y  ...   \n",
              "3  ADVERTISING AND PROMOTIONS MANAGERS                  Y  ...   \n",
              "4  ADVERTISING AND PROMOTIONS MANAGERS                  Y  ...   \n",
              "\n",
              "  PW_OTHER_SOURCE_10 PW_NON-OES_YEAR_10  PW_SURVEY_PUBLISHER_10  \\\n",
              "0                NaN                NaN                     NaN   \n",
              "1                NaN                NaN                     NaN   \n",
              "2                NaN                NaN                     NaN   \n",
              "3                NaN                NaN                     NaN   \n",
              "4                NaN                NaN                     NaN   \n",
              "\n",
              "  PW_SURVEY_NAME_10 H-1B_DEPENDENT  WILLFUL_VIOLATOR  SUPPORT_H1B  \\\n",
              "0               NaN              N                 N          NaN   \n",
              "1               NaN            NaN               NaN          NaN   \n",
              "2               NaN            NaN               NaN          NaN   \n",
              "3               NaN            NaN               NaN          NaN   \n",
              "4               NaN            NaN               NaN          NaN   \n",
              "\n",
              "   STATUTORY_BASIS  MASTERS_EXEMPTION PUBLIC_DISCLOSURE  \n",
              "0              NaN                NaN               NaN  \n",
              "1              NaN                NaN               NaN  \n",
              "2              NaN                NaN               NaN  \n",
              "3              NaN                NaN               NaN  \n",
              "4              NaN                NaN               NaN  \n",
              "\n",
              "[5 rows x 260 columns]"
            ]
          },
          "execution_count": 3,
          "metadata": {},
          "output_type": "execute_result"
        }
      ],
      "source": [
        "df.head()"
      ]
    },
    {
      "cell_type": "code",
      "execution_count": 4,
      "metadata": {
        "colab": {
          "base_uri": "https://localhost:8080/",
          "height": 490
        },
        "id": "agWcMDDVn5kc",
        "outputId": "e22b8fdf-5ac3-4bfc-c65a-4b6f213f3b25"
      },
      "outputs": [
        {
          "data": {
            "text/html": [
              "\n",
              "  <div id=\"df-96eb7429-3670-4d96-93fc-804f590232a9\">\n",
              "    <div class=\"colab-df-container\">\n",
              "      <div>\n",
              "<style scoped>\n",
              "    .dataframe tbody tr th:only-of-type {\n",
              "        vertical-align: middle;\n",
              "    }\n",
              "\n",
              "    .dataframe tbody tr th {\n",
              "        vertical-align: top;\n",
              "    }\n",
              "\n",
              "    .dataframe thead th {\n",
              "        text-align: right;\n",
              "    }\n",
              "</style>\n",
              "<table border=\"1\" class=\"dataframe\">\n",
              "  <thead>\n",
              "    <tr style=\"text-align: right;\">\n",
              "      <th></th>\n",
              "      <th>CASE_NUMBER</th>\n",
              "      <th>CASE_STATUS</th>\n",
              "      <th>CASE_SUBMITTED</th>\n",
              "      <th>DECISION_DATE</th>\n",
              "      <th>ORIGINAL_CERT_DATE</th>\n",
              "      <th>VISA_CLASS</th>\n",
              "      <th>JOB_TITLE</th>\n",
              "      <th>SOC_CODE</th>\n",
              "      <th>SOC_TITLE</th>\n",
              "      <th>FULL_TIME_POSITION</th>\n",
              "      <th>...</th>\n",
              "      <th>PW_OTHER_SOURCE_10</th>\n",
              "      <th>PW_NON-OES_YEAR_10</th>\n",
              "      <th>PW_SURVEY_PUBLISHER_10</th>\n",
              "      <th>PW_SURVEY_NAME_10</th>\n",
              "      <th>H-1B_DEPENDENT</th>\n",
              "      <th>WILLFUL_VIOLATOR</th>\n",
              "      <th>SUPPORT_H1B</th>\n",
              "      <th>STATUTORY_BASIS</th>\n",
              "      <th>MASTERS_EXEMPTION</th>\n",
              "      <th>PUBLIC_DISCLOSURE</th>\n",
              "    </tr>\n",
              "  </thead>\n",
              "  <tbody>\n",
              "    <tr>\n",
              "      <th>664611</th>\n",
              "      <td>I-200-18282-647333</td>\n",
              "      <td>CERTIFIED</td>\n",
              "      <td>2018-10-09 18:10:32</td>\n",
              "      <td>2018-10-15 22:00:43</td>\n",
              "      <td>NaT</td>\n",
              "      <td>H-1B</td>\n",
              "      <td>DIGITAL TOUCHPOINTS ANALYST</td>\n",
              "      <td>OPERATIONS RESEARCH ANALYSTS</td>\n",
              "      <td>15-2031</td>\n",
              "      <td>Y</td>\n",
              "      <td>...</td>\n",
              "      <td>NaN</td>\n",
              "      <td>NaN</td>\n",
              "      <td>NaN</td>\n",
              "      <td>NaN</td>\n",
              "      <td>N</td>\n",
              "      <td>N</td>\n",
              "      <td>NaN</td>\n",
              "      <td>NaN</td>\n",
              "      <td>NaN</td>\n",
              "      <td>PLACE OF BUSINESS</td>\n",
              "    </tr>\n",
              "    <tr>\n",
              "      <th>664612</th>\n",
              "      <td>I-200-19046-203745</td>\n",
              "      <td>DENIED</td>\n",
              "      <td>2019-02-15 16:53:11</td>\n",
              "      <td>2019-02-22 10:45:38</td>\n",
              "      <td>NaT</td>\n",
              "      <td>H-1B</td>\n",
              "      <td>APPLICATIONS CONSULTANT 2</td>\n",
              "      <td>NaN</td>\n",
              "      <td>NaN</td>\n",
              "      <td>Y</td>\n",
              "      <td>...</td>\n",
              "      <td>NaN</td>\n",
              "      <td>NaN</td>\n",
              "      <td>NaN</td>\n",
              "      <td>NaN</td>\n",
              "      <td>Y</td>\n",
              "      <td>N</td>\n",
              "      <td>Y</td>\n",
              "      <td>WAGE</td>\n",
              "      <td>NaN</td>\n",
              "      <td>PLACE OF BUSINESS</td>\n",
              "    </tr>\n",
              "    <tr>\n",
              "      <th>664613</th>\n",
              "      <td>I-200-19059-900658</td>\n",
              "      <td>DENIED</td>\n",
              "      <td>2019-02-28 01:11:11</td>\n",
              "      <td>2019-03-07 16:07:41</td>\n",
              "      <td>NaT</td>\n",
              "      <td>H-1B</td>\n",
              "      <td>BUSINESS SYSTEMS ANALYST 2</td>\n",
              "      <td>NaN</td>\n",
              "      <td>NaN</td>\n",
              "      <td>Y</td>\n",
              "      <td>...</td>\n",
              "      <td>NaN</td>\n",
              "      <td>NaN</td>\n",
              "      <td>NaN</td>\n",
              "      <td>NaN</td>\n",
              "      <td>Y</td>\n",
              "      <td>N</td>\n",
              "      <td>Y</td>\n",
              "      <td>WAGE</td>\n",
              "      <td>NaN</td>\n",
              "      <td>PLACE OF BUSINESS</td>\n",
              "    </tr>\n",
              "    <tr>\n",
              "      <th>664614</th>\n",
              "      <td>I-200-19063-784427</td>\n",
              "      <td>DENIED</td>\n",
              "      <td>2019-03-04 08:37:04</td>\n",
              "      <td>2019-03-08 12:01:58</td>\n",
              "      <td>NaT</td>\n",
              "      <td>H-1B</td>\n",
              "      <td>APPLICATIONS CONSULTANT 2</td>\n",
              "      <td>NaN</td>\n",
              "      <td>NaN</td>\n",
              "      <td>Y</td>\n",
              "      <td>...</td>\n",
              "      <td>NaN</td>\n",
              "      <td>NaN</td>\n",
              "      <td>NaN</td>\n",
              "      <td>NaN</td>\n",
              "      <td>Y</td>\n",
              "      <td>N</td>\n",
              "      <td>Y</td>\n",
              "      <td>WAGE</td>\n",
              "      <td>NaN</td>\n",
              "      <td>PLACE OF BUSINESS</td>\n",
              "    </tr>\n",
              "    <tr>\n",
              "      <th>664615</th>\n",
              "      <td>I-200-19073-908844</td>\n",
              "      <td>DENIED</td>\n",
              "      <td>2019-03-14 08:14:46</td>\n",
              "      <td>2019-03-19 11:41:04</td>\n",
              "      <td>NaT</td>\n",
              "      <td>H-1B</td>\n",
              "      <td>BUSINESS SYSTEMS ANALYST 2</td>\n",
              "      <td>NaN</td>\n",
              "      <td>NaN</td>\n",
              "      <td>Y</td>\n",
              "      <td>...</td>\n",
              "      <td>NaN</td>\n",
              "      <td>NaN</td>\n",
              "      <td>NaN</td>\n",
              "      <td>NaN</td>\n",
              "      <td>Y</td>\n",
              "      <td>N</td>\n",
              "      <td>Y</td>\n",
              "      <td>WAGE</td>\n",
              "      <td>NaN</td>\n",
              "      <td>PLACE OF BUSINESS</td>\n",
              "    </tr>\n",
              "  </tbody>\n",
              "</table>\n",
              "<p>5 rows × 260 columns</p>\n",
              "</div>\n",
              "      <button class=\"colab-df-convert\" onclick=\"convertToInteractive('df-96eb7429-3670-4d96-93fc-804f590232a9')\"\n",
              "              title=\"Convert this dataframe to an interactive table.\"\n",
              "              style=\"display:none;\">\n",
              "        \n",
              "  <svg xmlns=\"http://www.w3.org/2000/svg\" height=\"24px\"viewBox=\"0 0 24 24\"\n",
              "       width=\"24px\">\n",
              "    <path d=\"M0 0h24v24H0V0z\" fill=\"none\"/>\n",
              "    <path d=\"M18.56 5.44l.94 2.06.94-2.06 2.06-.94-2.06-.94-.94-2.06-.94 2.06-2.06.94zm-11 1L8.5 8.5l.94-2.06 2.06-.94-2.06-.94L8.5 2.5l-.94 2.06-2.06.94zm10 10l.94 2.06.94-2.06 2.06-.94-2.06-.94-.94-2.06-.94 2.06-2.06.94z\"/><path d=\"M17.41 7.96l-1.37-1.37c-.4-.4-.92-.59-1.43-.59-.52 0-1.04.2-1.43.59L10.3 9.45l-7.72 7.72c-.78.78-.78 2.05 0 2.83L4 21.41c.39.39.9.59 1.41.59.51 0 1.02-.2 1.41-.59l7.78-7.78 2.81-2.81c.8-.78.8-2.07 0-2.86zM5.41 20L4 18.59l7.72-7.72 1.47 1.35L5.41 20z\"/>\n",
              "  </svg>\n",
              "      </button>\n",
              "      \n",
              "  <style>\n",
              "    .colab-df-container {\n",
              "      display:flex;\n",
              "      flex-wrap:wrap;\n",
              "      gap: 12px;\n",
              "    }\n",
              "\n",
              "    .colab-df-convert {\n",
              "      background-color: #E8F0FE;\n",
              "      border: none;\n",
              "      border-radius: 50%;\n",
              "      cursor: pointer;\n",
              "      display: none;\n",
              "      fill: #1967D2;\n",
              "      height: 32px;\n",
              "      padding: 0 0 0 0;\n",
              "      width: 32px;\n",
              "    }\n",
              "\n",
              "    .colab-df-convert:hover {\n",
              "      background-color: #E2EBFA;\n",
              "      box-shadow: 0px 1px 2px rgba(60, 64, 67, 0.3), 0px 1px 3px 1px rgba(60, 64, 67, 0.15);\n",
              "      fill: #174EA6;\n",
              "    }\n",
              "\n",
              "    [theme=dark] .colab-df-convert {\n",
              "      background-color: #3B4455;\n",
              "      fill: #D2E3FC;\n",
              "    }\n",
              "\n",
              "    [theme=dark] .colab-df-convert:hover {\n",
              "      background-color: #434B5C;\n",
              "      box-shadow: 0px 1px 3px 1px rgba(0, 0, 0, 0.15);\n",
              "      filter: drop-shadow(0px 1px 2px rgba(0, 0, 0, 0.3));\n",
              "      fill: #FFFFFF;\n",
              "    }\n",
              "  </style>\n",
              "\n",
              "      <script>\n",
              "        const buttonEl =\n",
              "          document.querySelector('#df-96eb7429-3670-4d96-93fc-804f590232a9 button.colab-df-convert');\n",
              "        buttonEl.style.display =\n",
              "          google.colab.kernel.accessAllowed ? 'block' : 'none';\n",
              "\n",
              "        async function convertToInteractive(key) {\n",
              "          const element = document.querySelector('#df-96eb7429-3670-4d96-93fc-804f590232a9');\n",
              "          const dataTable =\n",
              "            await google.colab.kernel.invokeFunction('convertToInteractive',\n",
              "                                                     [key], {});\n",
              "          if (!dataTable) return;\n",
              "\n",
              "          const docLinkHtml = 'Like what you see? Visit the ' +\n",
              "            '<a target=\"_blank\" href=https://colab.research.google.com/notebooks/data_table.ipynb>data table notebook</a>'\n",
              "            + ' to learn more about interactive tables.';\n",
              "          element.innerHTML = '';\n",
              "          dataTable['output_type'] = 'display_data';\n",
              "          await google.colab.output.renderOutput(dataTable, element);\n",
              "          const docLink = document.createElement('div');\n",
              "          docLink.innerHTML = docLinkHtml;\n",
              "          element.appendChild(docLink);\n",
              "        }\n",
              "      </script>\n",
              "    </div>\n",
              "  </div>\n",
              "  "
            ],
            "text/plain": [
              "               CASE_NUMBER CASE_STATUS      CASE_SUBMITTED  \\\n",
              "664611  I-200-18282-647333   CERTIFIED 2018-10-09 18:10:32   \n",
              "664612  I-200-19046-203745      DENIED 2019-02-15 16:53:11   \n",
              "664613  I-200-19059-900658      DENIED 2019-02-28 01:11:11   \n",
              "664614  I-200-19063-784427      DENIED 2019-03-04 08:37:04   \n",
              "664615  I-200-19073-908844      DENIED 2019-03-14 08:14:46   \n",
              "\n",
              "             DECISION_DATE ORIGINAL_CERT_DATE VISA_CLASS  \\\n",
              "664611 2018-10-15 22:00:43                NaT       H-1B   \n",
              "664612 2019-02-22 10:45:38                NaT       H-1B   \n",
              "664613 2019-03-07 16:07:41                NaT       H-1B   \n",
              "664614 2019-03-08 12:01:58                NaT       H-1B   \n",
              "664615 2019-03-19 11:41:04                NaT       H-1B   \n",
              "\n",
              "                          JOB_TITLE                      SOC_CODE SOC_TITLE  \\\n",
              "664611  DIGITAL TOUCHPOINTS ANALYST  OPERATIONS RESEARCH ANALYSTS   15-2031   \n",
              "664612    APPLICATIONS CONSULTANT 2                           NaN       NaN   \n",
              "664613   BUSINESS SYSTEMS ANALYST 2                           NaN       NaN   \n",
              "664614    APPLICATIONS CONSULTANT 2                           NaN       NaN   \n",
              "664615   BUSINESS SYSTEMS ANALYST 2                           NaN       NaN   \n",
              "\n",
              "       FULL_TIME_POSITION  ... PW_OTHER_SOURCE_10 PW_NON-OES_YEAR_10  \\\n",
              "664611                  Y  ...                NaN                NaN   \n",
              "664612                  Y  ...                NaN                NaN   \n",
              "664613                  Y  ...                NaN                NaN   \n",
              "664614                  Y  ...                NaN                NaN   \n",
              "664615                  Y  ...                NaN                NaN   \n",
              "\n",
              "        PW_SURVEY_PUBLISHER_10 PW_SURVEY_NAME_10 H-1B_DEPENDENT  \\\n",
              "664611                     NaN               NaN              N   \n",
              "664612                     NaN               NaN              Y   \n",
              "664613                     NaN               NaN              Y   \n",
              "664614                     NaN               NaN              Y   \n",
              "664615                     NaN               NaN              Y   \n",
              "\n",
              "        WILLFUL_VIOLATOR  SUPPORT_H1B  STATUTORY_BASIS  MASTERS_EXEMPTION  \\\n",
              "664611                 N          NaN              NaN                NaN   \n",
              "664612                 N            Y             WAGE                NaN   \n",
              "664613                 N            Y             WAGE                NaN   \n",
              "664614                 N            Y             WAGE                NaN   \n",
              "664615                 N            Y             WAGE                NaN   \n",
              "\n",
              "        PUBLIC_DISCLOSURE  \n",
              "664611  PLACE OF BUSINESS  \n",
              "664612  PLACE OF BUSINESS  \n",
              "664613  PLACE OF BUSINESS  \n",
              "664614  PLACE OF BUSINESS  \n",
              "664615  PLACE OF BUSINESS  \n",
              "\n",
              "[5 rows x 260 columns]"
            ]
          },
          "execution_count": 4,
          "metadata": {},
          "output_type": "execute_result"
        }
      ],
      "source": [
        "df.tail()"
      ]
    },
    {
      "cell_type": "code",
      "execution_count": 5,
      "metadata": {
        "colab": {
          "base_uri": "https://localhost:8080/"
        },
        "id": "t4VfLBLun5np",
        "outputId": "2e93ce3e-cb5a-42de-f263-9d0264cffce8"
      },
      "outputs": [
        {
          "name": "stdout",
          "output_type": "stream",
          "text": [
            "(664616, 260)\n"
          ]
        }
      ],
      "source": [
        "print(df.shape)"
      ]
    },
    {
      "cell_type": "code",
      "execution_count": 6,
      "metadata": {
        "colab": {
          "base_uri": "https://localhost:8080/",
          "height": 411
        },
        "id": "lYDnUGy4bNIq",
        "outputId": "b0e01dae-379b-4434-b72e-b5009ca1be85"
      },
      "outputs": [
        {
          "data": {
            "text/html": [
              "\n",
              "  <div id=\"df-bcafc23c-da50-4b46-b908-b590e81c8b1c\">\n",
              "    <div class=\"colab-df-container\">\n",
              "      <div>\n",
              "<style scoped>\n",
              "    .dataframe tbody tr th:only-of-type {\n",
              "        vertical-align: middle;\n",
              "    }\n",
              "\n",
              "    .dataframe tbody tr th {\n",
              "        vertical-align: top;\n",
              "    }\n",
              "\n",
              "    .dataframe thead th {\n",
              "        text-align: right;\n",
              "    }\n",
              "</style>\n",
              "<table border=\"1\" class=\"dataframe\">\n",
              "  <thead>\n",
              "    <tr style=\"text-align: right;\">\n",
              "      <th></th>\n",
              "      <th>TOTAL_WORKER_POSITIONS</th>\n",
              "      <th>CHANGE_PREVIOUS_EMPLOYMENT</th>\n",
              "      <th>NEW_CONCURRENT_EMPLOYMENT</th>\n",
              "      <th>CHANGE_EMPLOYER</th>\n",
              "      <th>AMENDED_PETITION</th>\n",
              "      <th>NAICS_CODE</th>\n",
              "      <th>WORKSITE_WORKERS_1</th>\n",
              "      <th>WAGE_RATE_OF_PAY_FROM_1</th>\n",
              "      <th>WAGE_RATE_OF_PAY_TO_1</th>\n",
              "      <th>PREVAILING_WAGE_1</th>\n",
              "      <th>...</th>\n",
              "      <th>PW_NON-OES_YEAR_9</th>\n",
              "      <th>PW_SURVEY_PUBLISHER_9</th>\n",
              "      <th>WORKSITE_WORKERS_10</th>\n",
              "      <th>WORKSITE_POSTAL_CODE_10</th>\n",
              "      <th>WAGE_RATE_OF_PAY_FROM_10</th>\n",
              "      <th>WAGE_RATE_OF_PAY_TO_10</th>\n",
              "      <th>PREVAILING_WAGE_10</th>\n",
              "      <th>PW_OES_YEAR_10</th>\n",
              "      <th>PW_NON-OES_YEAR_10</th>\n",
              "      <th>PW_SURVEY_PUBLISHER_10</th>\n",
              "    </tr>\n",
              "  </thead>\n",
              "  <tbody>\n",
              "    <tr>\n",
              "      <th>count</th>\n",
              "      <td>664614.000000</td>\n",
              "      <td>664616.000000</td>\n",
              "      <td>664615.000000</td>\n",
              "      <td>664616.000000</td>\n",
              "      <td>664616.000000</td>\n",
              "      <td>664614.000000</td>\n",
              "      <td>580900.000000</td>\n",
              "      <td>6.646080e+05</td>\n",
              "      <td>3.328550e+05</td>\n",
              "      <td>631369.000000</td>\n",
              "      <td>...</td>\n",
              "      <td>303.000000</td>\n",
              "      <td>93.000000</td>\n",
              "      <td>288.000000</td>\n",
              "      <td>288.000000</td>\n",
              "      <td>288.000000</td>\n",
              "      <td>120.000000</td>\n",
              "      <td>288.000000</td>\n",
              "      <td>79.000000</td>\n",
              "      <td>206.000000</td>\n",
              "      <td>79.000000</td>\n",
              "    </tr>\n",
              "    <tr>\n",
              "      <th>mean</th>\n",
              "      <td>1.604953</td>\n",
              "      <td>0.121800</td>\n",
              "      <td>0.013208</td>\n",
              "      <td>0.254923</td>\n",
              "      <td>0.223296</td>\n",
              "      <td>450965.588053</td>\n",
              "      <td>5.118612</td>\n",
              "      <td>9.383640e+04</td>\n",
              "      <td>1.077588e+05</td>\n",
              "      <td>84331.625656</td>\n",
              "      <td>...</td>\n",
              "      <td>2018.412541</td>\n",
              "      <td>2018.161290</td>\n",
              "      <td>3.378472</td>\n",
              "      <td>47751.086806</td>\n",
              "      <td>121666.356007</td>\n",
              "      <td>124975.303417</td>\n",
              "      <td>87865.179583</td>\n",
              "      <td>2018.253165</td>\n",
              "      <td>2018.407767</td>\n",
              "      <td>2018.253165</td>\n",
              "    </tr>\n",
              "    <tr>\n",
              "      <th>std</th>\n",
              "      <td>4.422125</td>\n",
              "      <td>0.907174</td>\n",
              "      <td>0.283244</td>\n",
              "      <td>1.109193</td>\n",
              "      <td>0.896687</td>\n",
              "      <td>190115.692575</td>\n",
              "      <td>489.230557</td>\n",
              "      <td>4.708376e+04</td>\n",
              "      <td>5.378552e+04</td>\n",
              "      <td>35950.599109</td>\n",
              "      <td>...</td>\n",
              "      <td>0.550233</td>\n",
              "      <td>0.726671</td>\n",
              "      <td>5.718649</td>\n",
              "      <td>29978.676785</td>\n",
              "      <td>103333.352227</td>\n",
              "      <td>122285.307455</td>\n",
              "      <td>64047.134457</td>\n",
              "      <td>0.518092</td>\n",
              "      <td>0.548824</td>\n",
              "      <td>0.518092</td>\n",
              "    </tr>\n",
              "    <tr>\n",
              "      <th>min</th>\n",
              "      <td>1.000000</td>\n",
              "      <td>0.000000</td>\n",
              "      <td>0.000000</td>\n",
              "      <td>0.000000</td>\n",
              "      <td>0.000000</td>\n",
              "      <td>31.000000</td>\n",
              "      <td>1.000000</td>\n",
              "      <td>7.500000e+00</td>\n",
              "      <td>0.000000e+00</td>\n",
              "      <td>7.250000</td>\n",
              "      <td>...</td>\n",
              "      <td>2018.000000</td>\n",
              "      <td>2013.000000</td>\n",
              "      <td>1.000000</td>\n",
              "      <td>2115.000000</td>\n",
              "      <td>11.200000</td>\n",
              "      <td>11.200000</td>\n",
              "      <td>9.530000</td>\n",
              "      <td>2017.000000</td>\n",
              "      <td>2018.000000</td>\n",
              "      <td>2017.000000</td>\n",
              "    </tr>\n",
              "    <tr>\n",
              "      <th>25%</th>\n",
              "      <td>1.000000</td>\n",
              "      <td>0.000000</td>\n",
              "      <td>0.000000</td>\n",
              "      <td>0.000000</td>\n",
              "      <td>0.000000</td>\n",
              "      <td>454111.000000</td>\n",
              "      <td>1.000000</td>\n",
              "      <td>7.311200e+04</td>\n",
              "      <td>8.100000e+04</td>\n",
              "      <td>68578.000000</td>\n",
              "      <td>...</td>\n",
              "      <td>2018.000000</td>\n",
              "      <td>2018.000000</td>\n",
              "      <td>1.000000</td>\n",
              "      <td>18510.000000</td>\n",
              "      <td>58067.190000</td>\n",
              "      <td>77.025000</td>\n",
              "      <td>55640.000000</td>\n",
              "      <td>2018.000000</td>\n",
              "      <td>2018.000000</td>\n",
              "      <td>2018.000000</td>\n",
              "    </tr>\n",
              "    <tr>\n",
              "      <th>50%</th>\n",
              "      <td>1.000000</td>\n",
              "      <td>0.000000</td>\n",
              "      <td>0.000000</td>\n",
              "      <td>0.000000</td>\n",
              "      <td>0.000000</td>\n",
              "      <td>541511.000000</td>\n",
              "      <td>1.000000</td>\n",
              "      <td>9.000000e+04</td>\n",
              "      <td>1.000000e+05</td>\n",
              "      <td>84240.000000</td>\n",
              "      <td>...</td>\n",
              "      <td>2018.000000</td>\n",
              "      <td>2018.000000</td>\n",
              "      <td>1.000000</td>\n",
              "      <td>44011.000000</td>\n",
              "      <td>89718.050000</td>\n",
              "      <td>89416.550000</td>\n",
              "      <td>65159.000000</td>\n",
              "      <td>2018.000000</td>\n",
              "      <td>2018.000000</td>\n",
              "      <td>2018.000000</td>\n",
              "    </tr>\n",
              "    <tr>\n",
              "      <th>75%</th>\n",
              "      <td>1.000000</td>\n",
              "      <td>0.000000</td>\n",
              "      <td>0.000000</td>\n",
              "      <td>0.000000</td>\n",
              "      <td>0.000000</td>\n",
              "      <td>541512.000000</td>\n",
              "      <td>1.000000</td>\n",
              "      <td>1.136720e+05</td>\n",
              "      <td>1.300000e+05</td>\n",
              "      <td>102648.000000</td>\n",
              "      <td>...</td>\n",
              "      <td>2019.000000</td>\n",
              "      <td>2018.000000</td>\n",
              "      <td>1.000000</td>\n",
              "      <td>77786.000000</td>\n",
              "      <td>205500.000000</td>\n",
              "      <td>210000.000000</td>\n",
              "      <td>120161.500000</td>\n",
              "      <td>2019.000000</td>\n",
              "      <td>2019.000000</td>\n",
              "      <td>2019.000000</td>\n",
              "    </tr>\n",
              "    <tr>\n",
              "      <th>max</th>\n",
              "      <td>594.000000</td>\n",
              "      <td>338.000000</td>\n",
              "      <td>99.000000</td>\n",
              "      <td>99.000000</td>\n",
              "      <td>99.000000</td>\n",
              "      <td>928120.000000</td>\n",
              "      <td>160500.000000</td>\n",
              "      <td>3.300000e+06</td>\n",
              "      <td>3.000000e+06</td>\n",
              "      <td>849680.000000</td>\n",
              "      <td>...</td>\n",
              "      <td>2020.000000</td>\n",
              "      <td>2019.000000</td>\n",
              "      <td>45.000000</td>\n",
              "      <td>99218.000000</td>\n",
              "      <td>525000.000000</td>\n",
              "      <td>500000.000000</td>\n",
              "      <td>282235.000000</td>\n",
              "      <td>2019.000000</td>\n",
              "      <td>2020.000000</td>\n",
              "      <td>2019.000000</td>\n",
              "    </tr>\n",
              "  </tbody>\n",
              "</table>\n",
              "<p>8 rows × 84 columns</p>\n",
              "</div>\n",
              "      <button class=\"colab-df-convert\" onclick=\"convertToInteractive('df-bcafc23c-da50-4b46-b908-b590e81c8b1c')\"\n",
              "              title=\"Convert this dataframe to an interactive table.\"\n",
              "              style=\"display:none;\">\n",
              "        \n",
              "  <svg xmlns=\"http://www.w3.org/2000/svg\" height=\"24px\"viewBox=\"0 0 24 24\"\n",
              "       width=\"24px\">\n",
              "    <path d=\"M0 0h24v24H0V0z\" fill=\"none\"/>\n",
              "    <path d=\"M18.56 5.44l.94 2.06.94-2.06 2.06-.94-2.06-.94-.94-2.06-.94 2.06-2.06.94zm-11 1L8.5 8.5l.94-2.06 2.06-.94-2.06-.94L8.5 2.5l-.94 2.06-2.06.94zm10 10l.94 2.06.94-2.06 2.06-.94-2.06-.94-.94-2.06-.94 2.06-2.06.94z\"/><path d=\"M17.41 7.96l-1.37-1.37c-.4-.4-.92-.59-1.43-.59-.52 0-1.04.2-1.43.59L10.3 9.45l-7.72 7.72c-.78.78-.78 2.05 0 2.83L4 21.41c.39.39.9.59 1.41.59.51 0 1.02-.2 1.41-.59l7.78-7.78 2.81-2.81c.8-.78.8-2.07 0-2.86zM5.41 20L4 18.59l7.72-7.72 1.47 1.35L5.41 20z\"/>\n",
              "  </svg>\n",
              "      </button>\n",
              "      \n",
              "  <style>\n",
              "    .colab-df-container {\n",
              "      display:flex;\n",
              "      flex-wrap:wrap;\n",
              "      gap: 12px;\n",
              "    }\n",
              "\n",
              "    .colab-df-convert {\n",
              "      background-color: #E8F0FE;\n",
              "      border: none;\n",
              "      border-radius: 50%;\n",
              "      cursor: pointer;\n",
              "      display: none;\n",
              "      fill: #1967D2;\n",
              "      height: 32px;\n",
              "      padding: 0 0 0 0;\n",
              "      width: 32px;\n",
              "    }\n",
              "\n",
              "    .colab-df-convert:hover {\n",
              "      background-color: #E2EBFA;\n",
              "      box-shadow: 0px 1px 2px rgba(60, 64, 67, 0.3), 0px 1px 3px 1px rgba(60, 64, 67, 0.15);\n",
              "      fill: #174EA6;\n",
              "    }\n",
              "\n",
              "    [theme=dark] .colab-df-convert {\n",
              "      background-color: #3B4455;\n",
              "      fill: #D2E3FC;\n",
              "    }\n",
              "\n",
              "    [theme=dark] .colab-df-convert:hover {\n",
              "      background-color: #434B5C;\n",
              "      box-shadow: 0px 1px 3px 1px rgba(0, 0, 0, 0.15);\n",
              "      filter: drop-shadow(0px 1px 2px rgba(0, 0, 0, 0.3));\n",
              "      fill: #FFFFFF;\n",
              "    }\n",
              "  </style>\n",
              "\n",
              "      <script>\n",
              "        const buttonEl =\n",
              "          document.querySelector('#df-bcafc23c-da50-4b46-b908-b590e81c8b1c button.colab-df-convert');\n",
              "        buttonEl.style.display =\n",
              "          google.colab.kernel.accessAllowed ? 'block' : 'none';\n",
              "\n",
              "        async function convertToInteractive(key) {\n",
              "          const element = document.querySelector('#df-bcafc23c-da50-4b46-b908-b590e81c8b1c');\n",
              "          const dataTable =\n",
              "            await google.colab.kernel.invokeFunction('convertToInteractive',\n",
              "                                                     [key], {});\n",
              "          if (!dataTable) return;\n",
              "\n",
              "          const docLinkHtml = 'Like what you see? Visit the ' +\n",
              "            '<a target=\"_blank\" href=https://colab.research.google.com/notebooks/data_table.ipynb>data table notebook</a>'\n",
              "            + ' to learn more about interactive tables.';\n",
              "          element.innerHTML = '';\n",
              "          dataTable['output_type'] = 'display_data';\n",
              "          await google.colab.output.renderOutput(dataTable, element);\n",
              "          const docLink = document.createElement('div');\n",
              "          docLink.innerHTML = docLinkHtml;\n",
              "          element.appendChild(docLink);\n",
              "        }\n",
              "      </script>\n",
              "    </div>\n",
              "  </div>\n",
              "  "
            ],
            "text/plain": [
              "       TOTAL_WORKER_POSITIONS  CHANGE_PREVIOUS_EMPLOYMENT  \\\n",
              "count           664614.000000               664616.000000   \n",
              "mean                 1.604953                    0.121800   \n",
              "std                  4.422125                    0.907174   \n",
              "min                  1.000000                    0.000000   \n",
              "25%                  1.000000                    0.000000   \n",
              "50%                  1.000000                    0.000000   \n",
              "75%                  1.000000                    0.000000   \n",
              "max                594.000000                  338.000000   \n",
              "\n",
              "       NEW_CONCURRENT_EMPLOYMENT  CHANGE_EMPLOYER  AMENDED_PETITION  \\\n",
              "count              664615.000000    664616.000000     664616.000000   \n",
              "mean                    0.013208         0.254923          0.223296   \n",
              "std                     0.283244         1.109193          0.896687   \n",
              "min                     0.000000         0.000000          0.000000   \n",
              "25%                     0.000000         0.000000          0.000000   \n",
              "50%                     0.000000         0.000000          0.000000   \n",
              "75%                     0.000000         0.000000          0.000000   \n",
              "max                    99.000000        99.000000         99.000000   \n",
              "\n",
              "          NAICS_CODE  WORKSITE_WORKERS_1  WAGE_RATE_OF_PAY_FROM_1  \\\n",
              "count  664614.000000       580900.000000             6.646080e+05   \n",
              "mean   450965.588053            5.118612             9.383640e+04   \n",
              "std    190115.692575          489.230557             4.708376e+04   \n",
              "min        31.000000            1.000000             7.500000e+00   \n",
              "25%    454111.000000            1.000000             7.311200e+04   \n",
              "50%    541511.000000            1.000000             9.000000e+04   \n",
              "75%    541512.000000            1.000000             1.136720e+05   \n",
              "max    928120.000000       160500.000000             3.300000e+06   \n",
              "\n",
              "       WAGE_RATE_OF_PAY_TO_1  PREVAILING_WAGE_1  ...  PW_NON-OES_YEAR_9  \\\n",
              "count           3.328550e+05      631369.000000  ...         303.000000   \n",
              "mean            1.077588e+05       84331.625656  ...        2018.412541   \n",
              "std             5.378552e+04       35950.599109  ...           0.550233   \n",
              "min             0.000000e+00           7.250000  ...        2018.000000   \n",
              "25%             8.100000e+04       68578.000000  ...        2018.000000   \n",
              "50%             1.000000e+05       84240.000000  ...        2018.000000   \n",
              "75%             1.300000e+05      102648.000000  ...        2019.000000   \n",
              "max             3.000000e+06      849680.000000  ...        2020.000000   \n",
              "\n",
              "       PW_SURVEY_PUBLISHER_9  WORKSITE_WORKERS_10  WORKSITE_POSTAL_CODE_10  \\\n",
              "count              93.000000           288.000000               288.000000   \n",
              "mean             2018.161290             3.378472             47751.086806   \n",
              "std                 0.726671             5.718649             29978.676785   \n",
              "min              2013.000000             1.000000              2115.000000   \n",
              "25%              2018.000000             1.000000             18510.000000   \n",
              "50%              2018.000000             1.000000             44011.000000   \n",
              "75%              2018.000000             1.000000             77786.000000   \n",
              "max              2019.000000            45.000000             99218.000000   \n",
              "\n",
              "       WAGE_RATE_OF_PAY_FROM_10  WAGE_RATE_OF_PAY_TO_10  PREVAILING_WAGE_10  \\\n",
              "count                288.000000              120.000000          288.000000   \n",
              "mean              121666.356007           124975.303417        87865.179583   \n",
              "std               103333.352227           122285.307455        64047.134457   \n",
              "min                   11.200000               11.200000            9.530000   \n",
              "25%                58067.190000               77.025000        55640.000000   \n",
              "50%                89718.050000            89416.550000        65159.000000   \n",
              "75%               205500.000000           210000.000000       120161.500000   \n",
              "max               525000.000000           500000.000000       282235.000000   \n",
              "\n",
              "       PW_OES_YEAR_10  PW_NON-OES_YEAR_10  PW_SURVEY_PUBLISHER_10  \n",
              "count       79.000000          206.000000               79.000000  \n",
              "mean      2018.253165         2018.407767             2018.253165  \n",
              "std          0.518092            0.548824                0.518092  \n",
              "min       2017.000000         2018.000000             2017.000000  \n",
              "25%       2018.000000         2018.000000             2018.000000  \n",
              "50%       2018.000000         2018.000000             2018.000000  \n",
              "75%       2019.000000         2019.000000             2019.000000  \n",
              "max       2019.000000         2020.000000             2019.000000  \n",
              "\n",
              "[8 rows x 84 columns]"
            ]
          },
          "execution_count": 6,
          "metadata": {},
          "output_type": "execute_result"
        }
      ],
      "source": [
        "df.describe()"
      ]
    },
    {
      "cell_type": "markdown",
      "metadata": {
        "id": "4jgdp-y6Tnl2"
      },
      "source": [
        "<h4>Print all the columns"
      ]
    },
    {
      "cell_type": "code",
      "execution_count": 7,
      "metadata": {
        "colab": {
          "base_uri": "https://localhost:8080/"
        },
        "id": "K3dweQgZcLcu",
        "outputId": "f6a260a3-4242-4f90-dd5b-e387ff7acb3f"
      },
      "outputs": [
        {
          "name": "stdout",
          "output_type": "stream",
          "text": [
            "CASE_NUMBER\n",
            "CASE_STATUS\n",
            "CASE_SUBMITTED\n",
            "DECISION_DATE\n",
            "ORIGINAL_CERT_DATE\n",
            "VISA_CLASS\n",
            "JOB_TITLE\n",
            "SOC_CODE\n",
            "SOC_TITLE\n",
            "FULL_TIME_POSITION\n",
            "PERIOD_OF_EMPLOYMENT_START_DATE\n",
            "PERIOD_OF_EMPLOYMENT_END_DATE\n",
            "TOTAL_WORKER_POSITIONS\n",
            "NEW_EMPLOYMENT\n",
            "CONTINUED_EMPLOYMENT\n",
            "CHANGE_PREVIOUS_EMPLOYMENT\n",
            "NEW_CONCURRENT_EMPLOYMENT\n",
            "CHANGE_EMPLOYER\n",
            "AMENDED_PETITION\n",
            "EMPLOYER_NAME\n",
            "EMPLOYER_BUSINESS_DBA\n",
            "EMPLOYER_ADDRESS1\n",
            "EMPLOYER_ADDRESS2\n",
            "EMPLOYER_CITY\n",
            "EMPLOYER_STATE\n",
            "EMPLOYER_POSTAL_CODE\n",
            "EMPLOYER_COUNTRY\n",
            "EMPLOYER_PROVINCE\n",
            "EMPLOYER_PHONE\n",
            "EMPLOYER_PHONE_EXT\n",
            "NAICS_CODE\n",
            "AGENT_REPRESENTING_EMPLOYER\n",
            "AGENT_ATTORNEY_LAW_FIRM_BUSINESS_NAME\n",
            "AGENT_ATTORNEY_ADDRESS1\n",
            "AGENT_ATTORNEY_ADDRESS2\n",
            "AGENT_ATTORNEY_CITY\n",
            "AGENT_ATTORNEY_STATE\n",
            "AGENT_ATTORNEY_POSTAL_CODE\n",
            "AGENT_ATTORNEY_COUNTRY\n",
            "AGENT_ATTORNEY_PROVINCE\n",
            "AGENT_ATTORNEY_PHONE\n",
            "AGENT_ATTORNEY_PHONE_EXT\n",
            "STATE_OF_HIGHEST_COURT\n",
            "NAME_OF_HIGHEST_STATE_COURT\n",
            "WORKSITE_WORKERS_1\n",
            "SECONDARY_ENTITY_1\n",
            "SECONDARY_ENTITY_BUSINESS_NAME_1\n",
            "WORKSITE_ADDRESS1_1\n",
            "WORKSITE_ADDRESS2_1\n",
            "WORKSITE_CITY_1\n",
            "WORKSITE_COUNTY_1\n",
            "WORKSITE_STATE_1\n",
            "WORKSITE_POSTAL_CODE_1\n",
            "WAGE_RATE_OF_PAY_FROM_1\n",
            "WAGE_RATE_OF_PAY_TO_1\n",
            "WAGE_UNIT_OF_PAY_1\n",
            "PREVAILING_WAGE_1\n",
            "PW_UNIT_OF_PAY_1\n",
            "PW_TRACKING_NUMBER_1\n",
            "PW_WAGE_LEVEL_1\n",
            "PW_OES_YEAR_1\n",
            "PW_OTHER_SOURCE_1\n",
            "PW_NON-OES_YEAR_1\n",
            "PW_SURVEY_PUBLISHER_1\n",
            "PW_SURVEY_NAME_1\n",
            "WORKSITE_WORKERS_2\n",
            "SECONDARY_ENTITY_2\n",
            "SECONDARY_ENTITY_BUSINESS_NAME_2\n",
            "WORKSITE_ADDRESS1_2\n",
            "WORKSITE_ADDRESS2_2\n",
            "WORKSITE_CITY_2\n",
            "WORKSITE_COUNTY_2\n",
            "WORKSITE_STATE_2\n",
            "WORKSITE_POSTAL_CODE_2\n",
            "WAGE_RATE_OF_PAY_FROM_2\n",
            "WAGE_RATE_OF_PAY_TO_2\n",
            "WAGE_UNIT_OF_PAY_2\n",
            "PREVAILING_WAGE_2\n",
            "PW_UNIT_OF_PAY_2\n",
            "PW_TRACKING_NUMBER_2\n",
            "PW_WAGE_LEVEL_2\n",
            "PW_OES_YEAR_2\n",
            "PW_OTHER_SOURCE_2\n",
            "PW_NON-OES_YEAR_2\n",
            "PW_SURVEY_PUBLISHER_2\n",
            "PW_SURVEY_NAME_2\n",
            "WORKSITE_WORKERS_3\n",
            "SECONDARY_ENTITY_3\n",
            "SECONDARY_ENTITY_BUSINESS_NAME_3\n",
            "WORKSITE_ADDRESS1_3\n",
            "WORKSITE_ADDRESS2_3\n",
            "WORKSITE_CITY_3\n",
            "WORKSITE_COUNTY_3\n",
            "WORKSITE_STATE_3\n",
            "WORKSITE_POSTAL_CODE_3\n",
            "WAGE_RATE_OF_PAY_FROM_3\n",
            "WAGE_RATE_OF_PAY_TO_3\n",
            "WAGE_UNIT_OF_PAY_3\n",
            "PREVAILING_WAGE_3\n",
            "PW_UNIT_OF_PAY_3\n",
            "PW_TRACKING_NUMBER_3\n",
            "PW_WAGE_LEVEL_3\n",
            "PW_OES_YEAR_3\n",
            "PW_OTHER_SOURCE_3\n",
            "PW_NON-OES_YEAR_3\n",
            "PW_SURVEY_PUBLISHER_3\n",
            "PW_SURVEY_NAME_3\n",
            "WORKSITE_WORKERS_4\n",
            "SECONDARY_ENTITY_4\n",
            "SECONDARY_ENTITY_BUSINESS_NAME_4\n",
            "WORKSITE_ADDRESS1_4\n",
            "WORKSITE_ADDRESS2_4\n",
            "WORKSITE_CITY_4\n",
            "WORKSITE_COUNTY_4\n",
            "WORKSITE_STATE_4\n",
            "WORKSITE_POSTAL_CODE_4\n",
            "WAGE_RATE_OF_PAY_FROM_4\n",
            "WAGE_RATE_OF_PAY_TO_4\n",
            "WAGE_UNIT_OF_PAY_4\n",
            "PREVAILING_WAGE_4\n",
            "PW_UNIT_OF_PAY_4\n",
            "PW_TRACKING_NUMBER_4\n",
            "PW_WAGE_LEVEL_4\n",
            "PW_OES_YEAR_4\n",
            "PW_OTHER_SOURCE_4\n",
            "PW_NON-OES_YEAR_4\n",
            "PW_SURVEY_PUBLISHER_4\n",
            "PW_SURVEY_NAME_4\n",
            "WORKSITE_WORKERS_5\n",
            "SECONDARY_ENTITY_5\n",
            "SECONDARY_ENTITY_BUSINESS_NAME_5\n",
            "WORKSITE_ADDRESS1_5\n",
            "WORKSITE_ADDRESS2_5\n",
            "WORKSITE_CITY_5\n",
            "WORKSITE_COUNTY_5\n",
            "WORKSITE_STATE_5\n",
            "WORKSITE_POSTAL_CODE_5\n",
            "WAGE_RATE_OF_PAY_FROM_5\n",
            "WAGE_RATE_OF_PAY_TO_5\n",
            "WAGE_UNIT_OF_PAY_5\n",
            "PREVAILING_WAGE_5\n",
            "PW_UNIT_OF_PAY_5\n",
            "PW_TRACKING_NUMBER_5\n",
            "PW_WAGE_LEVEL_5\n",
            "PW_OES_YEAR_5\n",
            "PW_OTHER_SOURCE_5\n",
            "PW_NON-OES_YEAR_5\n",
            "PW_SURVEY_PUBLISHER_5\n",
            "PW_SURVEY_NAME_5\n",
            "WORKSITE_WORKERS_6\n",
            "SECONDARY_ENTITY_6\n",
            "SECONDARY_ENTITY_BUSINESS_NAME_6\n",
            "WORKSITE_ADDRESS1_6\n",
            "WORKSITE_ADDRESS2_6\n",
            "WORKSITE_CITY_6\n",
            "WORKSITE_COUNTY_6\n",
            "WORKSITE_STATE_6\n",
            "WORKSITE_POSTAL_CODE_6\n",
            "WAGE_RATE_OF_PAY_FROM_6\n",
            "WAGE_RATE_OF_PAY_TO_6\n",
            "WAGE_UNIT_OF_PAY_6\n",
            "PREVAILING_WAGE_6\n",
            "PW_UNIT_OF_PAY_6\n",
            "PW_TRACKING_NUMBER_6\n",
            "PW_WAGE_LEVEL_6\n",
            "PW_OES_YEAR_6\n",
            "PW_OTHER_SOURCE_6\n",
            "PW_NON-OES_YEAR_6\n",
            "PW_SURVEY_PUBLISHER_6\n",
            "PW_SURVEY_NAME_6\n",
            "WORKSITE_WORKERS_7\n",
            "SECONDARY_ENTITY_7\n",
            "SECONDARY_ENTITY_BUSINESS_NAME_7\n",
            "WORKSITE_ADDRESS1_7\n",
            "WORKSITE_ADDRESS2_7\n",
            "WORKSITE_CITY_7\n",
            "WORKSITE_COUNTY_7\n",
            "WORKSITE_STATE_7\n",
            "WORKSITE_POSTAL_CODE_7\n",
            "WAGE_RATE_OF_PAY_FROM_7\n",
            "WAGE_RATE_OF_PAY_TO_7\n",
            "WAGE_UNIT_OF_PAY_7\n",
            "PREVAILING_WAGE_7\n",
            "PW_UNIT_OF_PAY_7\n",
            "PW_TRACKING_NUMBER_7\n",
            "PW_WAGE_LEVEL_7\n",
            "PW_OES_YEAR_7\n",
            "PW_OTHER_SOURCE_7\n",
            "PW_NON-OES_YEAR_7\n",
            "PW_SURVEY_PUBLISHER_7\n",
            "PW_SURVEY_NAME_7\n",
            "WORKSITE_WORKERS_8\n",
            "SECONDARY_ENTITY_8\n",
            "SECONDARY_ENTITY_BUSINESS_NAME_8\n",
            "WORKSITE_ADDRESS1_8\n",
            "WORKSITE_ADDRESS2_8\n",
            "WORKSITE_CITY_8\n",
            "WORKSITE_COUNTY_8\n",
            "WORKSITE_STATE_8\n",
            "WORKSITE_POSTAL_CODE_8\n",
            "WAGE_RATE_OF_PAY_FROM_8\n",
            "WAGE_RATE_OF_PAY_TO_8\n",
            "WAGE_UNIT_OF_PAY_8\n",
            "PREVAILING_WAGE_8\n",
            "PW_UNIT_OF_PAY_8\n",
            "PW_TRACKING_NUMBER_8\n",
            "PW_WAGE_LEVEL_8\n",
            "PW_OES_YEAR_8\n",
            "PW_OTHER_SOURCE_8\n",
            "PW_NON-OES_YEAR_8\n",
            "PW_SURVEY_PUBLISHER_8\n",
            "PW_SURVEY_NAME_8\n",
            "WORKSITE_WORKERS_9\n",
            "SECONDARY_ENTITY_9\n",
            "SECONDARY_ENTITY_BUSINESS_NAME_9\n",
            "WORKSITE_ADDRESS1_9\n",
            "WORKSITE_ADDRESS2_9\n",
            "WORKSITE_CITY_9\n",
            "WORKSITE_COUNTY_9\n",
            "WORKSITE_STATE_9\n",
            "WORKSITE_POSTAL_CODE_9\n",
            "WAGE_RATE_OF_PAY_FROM_9\n",
            "WAGE_RATE_OF_PAY_TO_9\n",
            "WAGE_UNIT_OF_PAY_9\n",
            "PREVAILING_WAGE_9\n",
            "PW_UNIT_OF_PAY_9\n",
            "PW_TRACKING_NUMBER_9\n",
            "PW_WAGE_LEVEL_9\n",
            "PW_OES_YEAR_9\n",
            "PW_OTHER_SOURCE_9\n",
            "PW_NON-OES_YEAR_9\n",
            "PW_SURVEY_PUBLISHER_9\n",
            "PW_SURVEY_NAME_9\n",
            "WORKSITE_WORKERS_10\n",
            "SECONDARY_ENTITY_10\n",
            "SECONDARY_ENTITY_BUSINESS_NAME_10\n",
            "WORKSITE_ADDRESS1_10\n",
            "WORKSITE_ADDRESS2_10\n",
            "WORKSITE_CITY_10\n",
            "WORKSITE_COUNTY_10\n",
            "WORKSITE_STATE_10\n",
            "WORKSITE_POSTAL_CODE_10\n",
            "WAGE_RATE_OF_PAY_FROM_10\n",
            "WAGE_RATE_OF_PAY_TO_10\n",
            "WAGE_UNIT_OF_PAY_10\n",
            "PREVAILING_WAGE_10\n",
            "PW_UNIT_OF_PAY_10\n",
            "PW_TRACKING_NUMBER_10\n",
            "PW_WAGE_LEVEL_10\n",
            "PW_OES_YEAR_10\n",
            "PW_OTHER_SOURCE_10\n",
            "PW_NON-OES_YEAR_10\n",
            "PW_SURVEY_PUBLISHER_10\n",
            "PW_SURVEY_NAME_10\n",
            "H-1B_DEPENDENT\n",
            "WILLFUL_VIOLATOR\n",
            "SUPPORT_H1B\n",
            "STATUTORY_BASIS\n",
            "MASTERS_EXEMPTION\n",
            "PUBLIC_DISCLOSURE\n"
          ]
        }
      ],
      "source": [
        "for col in df.columns:\n",
        "    print(col)"
      ]
    },
    {
      "cell_type": "code",
      "execution_count": 8,
      "metadata": {
        "colab": {
          "base_uri": "https://localhost:8080/"
        },
        "id": "36isa5fbbNPD",
        "outputId": "6e09f192-03c6-426f-bd90-06fa8a36de1e"
      },
      "outputs": [
        {
          "name": "stdout",
          "output_type": "stream",
          "text": [
            "CASE_NUMBER                   object\n",
            "CASE_STATUS                   object\n",
            "CASE_SUBMITTED        datetime64[ns]\n",
            "DECISION_DATE         datetime64[ns]\n",
            "ORIGINAL_CERT_DATE    datetime64[ns]\n",
            "                           ...      \n",
            "WILLFUL_VIOLATOR              object\n",
            "SUPPORT_H1B                   object\n",
            "STATUTORY_BASIS               object\n",
            "MASTERS_EXEMPTION             object\n",
            "PUBLIC_DISCLOSURE             object\n",
            "Length: 260, dtype: object\n"
          ]
        }
      ],
      "source": [
        "print(df.dtypes)"
      ]
    },
    {
      "cell_type": "markdown",
      "metadata": {
        "id": "aR_go_sQTv1o"
      },
      "source": [
        "<h3>Check Missing values"
      ]
    },
    {
      "cell_type": "code",
      "execution_count": 9,
      "metadata": {
        "colab": {
          "base_uri": "https://localhost:8080/"
        },
        "id": "-R6JQt0DcLUQ",
        "outputId": "49d20bf0-2291-4ee1-87da-5e9b0b15ee11"
      },
      "outputs": [
        {
          "data": {
            "text/plain": [
              "CASE_NUMBER                0\n",
              "CASE_STATUS                0\n",
              "CASE_SUBMITTED             0\n",
              "DECISION_DATE              0\n",
              "ORIGINAL_CERT_DATE    617670\n",
              "                       ...  \n",
              "WILLFUL_VIOLATOR       15079\n",
              "SUPPORT_H1B           426317\n",
              "STATUTORY_BASIS       456626\n",
              "MASTERS_EXEMPTION     663323\n",
              "PUBLIC_DISCLOSURE      33257\n",
              "Length: 260, dtype: int64"
            ]
          },
          "execution_count": 9,
          "metadata": {},
          "output_type": "execute_result"
        }
      ],
      "source": [
        "df.apply(lambda x: sum(x.isnull()))"
      ]
    },
    {
      "cell_type": "markdown",
      "metadata": {
        "id": "wyfIXCmZT7Y4"
      },
      "source": [
        "percentage of missing values"
      ]
    },
    {
      "cell_type": "code",
      "execution_count": 10,
      "metadata": {
        "colab": {
          "base_uri": "https://localhost:8080/"
        },
        "id": "0SrBdm3UcLZF",
        "outputId": "dbe9c68d-7945-400a-b321-05daabd9897d"
      },
      "outputs": [
        {
          "data": {
            "text/plain": [
              "CASE_NUMBER            0.00\n",
              "CASE_STATUS            0.00\n",
              "CASE_SUBMITTED         0.00\n",
              "DECISION_DATE          0.00\n",
              "ORIGINAL_CERT_DATE    92.94\n",
              "                      ...  \n",
              "WILLFUL_VIOLATOR       2.27\n",
              "SUPPORT_H1B           64.14\n",
              "STATUTORY_BASIS       68.71\n",
              "MASTERS_EXEMPTION     99.81\n",
              "PUBLIC_DISCLOSURE      5.00\n",
              "Length: 260, dtype: float64"
            ]
          },
          "execution_count": 10,
          "metadata": {},
          "output_type": "execute_result"
        }
      ],
      "source": [
        "df.isna().mean().round(4) * 100"
      ]
    },
    {
      "cell_type": "markdown",
      "metadata": {
        "id": "SyYw4gBF-d1Z"
      },
      "source": [
        "<h1>Exploratory Data Analysis"
      ]
    },
    {
      "cell_type": "markdown",
      "metadata": {
        "id": "XsUWzuVBUAe-"
      },
      "source": [
        "Case status"
      ]
    },
    {
      "cell_type": "code",
      "execution_count": 11,
      "metadata": {
        "colab": {
          "base_uri": "https://localhost:8080/",
          "height": 410
        },
        "id": "HTN_br7KFrax",
        "outputId": "d94a53f8-6ea4-47d5-cab2-9782dbc18e53"
      },
      "outputs": [
        {
          "data": {
            "image/png": "[encoded data removed]",
            "text/plain": [
              "<Figure size 432x288 with 1 Axes>"
            ]
          },
          "metadata": {
            "needs_background": "light"
          },
          "output_type": "display_data"
        }
      ],
      "source": [
        "status = df['CASE_STATUS'].value_counts()\n",
        "sns.barplot(status.index, status.values, alpha=1)\n",
        "plt.xticks(rotation='vertical')\n",
        "plt.xlabel('Case Status', fontsize=14)\n",
        "plt.ylabel('Number of applicants', fontsize=14)\n",
        "plt.title(\"Number of applicants with respect to case status\", fontsize=16)\n",
        "plt.show()"
      ]
    },
    {
      "cell_type": "markdown",
      "metadata": {
        "id": "kLQY-pq4UOoh"
      },
      "source": [
        "in the above graph we can see most of the applications are **CERTIFIED**"
      ]
    },
    {
      "cell_type": "markdown",
      "metadata": {
        "id": "GpKb2ho8UgiS"
      },
      "source": [
        "<h3>Visa Class"
      ]
    },
    {
      "cell_type": "code",
      "execution_count": 12,
      "metadata": {
        "colab": {
          "base_uri": "https://localhost:8080/",
          "height": 375
        },
        "id": "laTYTCdXsp0Z",
        "outputId": "f9df5157-7286-485a-b9d2-99242e4e1473"
      },
      "outputs": [
        {
          "data": {
            "image/png": "[encoded data removed]",
            "text/plain": [
              "<Figure size 432x288 with 1 Axes>"
            ]
          },
          "metadata": {
            "needs_background": "light"
          },
          "output_type": "display_data"
        }
      ],
      "source": [
        "visa = df['VISA_CLASS'].value_counts()\n",
        "sns.barplot(visa.index, visa.values, alpha=1)\n",
        "plt.xticks(rotation='vertical')\n",
        "plt.xlabel('Visa Class', fontsize=14)\n",
        "plt.ylabel('Number of applicants', fontsize=14)\n",
        "plt.title(\"Number of applicants with respect to Visa Class\", fontsize=16)\n",
        "plt.show()"
      ]
    },
    {
      "cell_type": "markdown",
      "metadata": {
        "id": "ivTgq5jqUlmf"
      },
      "source": [
        "in the above graph we can see most of the applications are **H1B visa Type**"
      ]
    },
    {
      "cell_type": "markdown",
      "metadata": {
        "id": "7S6ymjheUxUS"
      },
      "source": [
        "<h3>Display top 20 EMPLOYER_NAME\n",
        "\n",
        "\n"
      ]
    },
    {
      "cell_type": "code",
      "execution_count": 13,
      "metadata": {
        "colab": {
          "base_uri": "https://localhost:8080/",
          "height": 676
        },
        "id": "6ZsvQu5qG05X",
        "outputId": "7109965f-4090-4b17-e45e-e7d320b56628"
      },
      "outputs": [
        {
          "data": {
            "text/html": [
              "\n",
              "  <div id=\"df-156cccfe-a694-4d2c-a697-63c8ad5376d9\">\n",
              "    <div class=\"colab-df-container\">\n",
              "      <div>\n",
              "<style scoped>\n",
              "    .dataframe tbody tr th:only-of-type {\n",
              "        vertical-align: middle;\n",
              "    }\n",
              "\n",
              "    .dataframe tbody tr th {\n",
              "        vertical-align: top;\n",
              "    }\n",
              "\n",
              "    .dataframe thead th {\n",
              "        text-align: right;\n",
              "    }\n",
              "</style>\n",
              "<table border=\"1\" class=\"dataframe\">\n",
              "  <thead>\n",
              "    <tr style=\"text-align: right;\">\n",
              "      <th></th>\n",
              "      <th>EMPLOYER_NAME</th>\n",
              "    </tr>\n",
              "  </thead>\n",
              "  <tbody>\n",
              "    <tr>\n",
              "      <th>COGNIZANT TECHNOLOGY SOLUTIONS US CORP</th>\n",
              "      <td>28475</td>\n",
              "    </tr>\n",
              "    <tr>\n",
              "      <th>INFOSYS LIMITED</th>\n",
              "      <td>21448</td>\n",
              "    </tr>\n",
              "    <tr>\n",
              "      <th>TATA CONSULTANCY SERVICES LIMITED</th>\n",
              "      <td>11868</td>\n",
              "    </tr>\n",
              "    <tr>\n",
              "      <th>GOOGLE LLC</th>\n",
              "      <td>10009</td>\n",
              "    </tr>\n",
              "    <tr>\n",
              "      <th>ERNST &amp; YOUNG U.S. LLP</th>\n",
              "      <td>8801</td>\n",
              "    </tr>\n",
              "    <tr>\n",
              "      <th>CAPGEMINI AMERICA INC</th>\n",
              "      <td>7878</td>\n",
              "    </tr>\n",
              "    <tr>\n",
              "      <th>DELOITTE CONSULTING LLP</th>\n",
              "      <td>7793</td>\n",
              "    </tr>\n",
              "    <tr>\n",
              "      <th>AMAZON.COM SERVICES, INC.</th>\n",
              "      <td>7267</td>\n",
              "    </tr>\n",
              "    <tr>\n",
              "      <th>MICROSOFT CORPORATION</th>\n",
              "      <td>6040</td>\n",
              "    </tr>\n",
              "    <tr>\n",
              "      <th>ACCENTURE LLP</th>\n",
              "      <td>5653</td>\n",
              "    </tr>\n",
              "    <tr>\n",
              "      <th>IBM CORPORATION</th>\n",
              "      <td>5057</td>\n",
              "    </tr>\n",
              "    <tr>\n",
              "      <th>HCL AMERICA, INC.</th>\n",
              "      <td>4688</td>\n",
              "    </tr>\n",
              "    <tr>\n",
              "      <th>WIPRO LIMITED</th>\n",
              "      <td>4291</td>\n",
              "    </tr>\n",
              "    <tr>\n",
              "      <th>LARSEN &amp; TOUBRO INFOTECH LIMITED</th>\n",
              "      <td>3624</td>\n",
              "    </tr>\n",
              "    <tr>\n",
              "      <th>TECH MAHINDRA (AMERICAS),INC.</th>\n",
              "      <td>2915</td>\n",
              "    </tr>\n",
              "    <tr>\n",
              "      <th>FACEBOOK, INC.</th>\n",
              "      <td>2680</td>\n",
              "    </tr>\n",
              "    <tr>\n",
              "      <th>WAL-MART ASSOCIATES, INC.</th>\n",
              "      <td>2277</td>\n",
              "    </tr>\n",
              "    <tr>\n",
              "      <th>IBM INDIA PRIVATE LIMITED</th>\n",
              "      <td>2171</td>\n",
              "    </tr>\n",
              "    <tr>\n",
              "      <th>L&amp;T TECHNOLOGY SERVICES LIMITED</th>\n",
              "      <td>2034</td>\n",
              "    </tr>\n",
              "    <tr>\n",
              "      <th>SYNTEL INC</th>\n",
              "      <td>1888</td>\n",
              "    </tr>\n",
              "  </tbody>\n",
              "</table>\n",
              "</div>\n",
              "      <button class=\"colab-df-convert\" onclick=\"convertToInteractive('df-156cccfe-a694-4d2c-a697-63c8ad5376d9')\"\n",
              "              title=\"Convert this dataframe to an interactive table.\"\n",
              "              style=\"display:none;\">\n",
              "        \n",
              "  <svg xmlns=\"http://www.w3.org/2000/svg\" height=\"24px\"viewBox=\"0 0 24 24\"\n",
              "       width=\"24px\">\n",
              "    <path d=\"M0 0h24v24H0V0z\" fill=\"none\"/>\n",
              "    <path d=\"M18.56 5.44l.94 2.06.94-2.06 2.06-.94-2.06-.94-.94-2.06-.94 2.06-2.06.94zm-11 1L8.5 8.5l.94-2.06 2.06-.94-2.06-.94L8.5 2.5l-.94 2.06-2.06.94zm10 10l.94 2.06.94-2.06 2.06-.94-2.06-.94-.94-2.06-.94 2.06-2.06.94z\"/><path d=\"M17.41 7.96l-1.37-1.37c-.4-.4-.92-.59-1.43-.59-.52 0-1.04.2-1.43.59L10.3 9.45l-7.72 7.72c-.78.78-.78 2.05 0 2.83L4 21.41c.39.39.9.59 1.41.59.51 0 1.02-.2 1.41-.59l7.78-7.78 2.81-2.81c.8-.78.8-2.07 0-2.86zM5.41 20L4 18.59l7.72-7.72 1.47 1.35L5.41 20z\"/>\n",
              "  </svg>\n",
              "      </button>\n",
              "      \n",
              "  <style>\n",
              "    .colab-df-container {\n",
              "      display:flex;\n",
              "      flex-wrap:wrap;\n",
              "      gap: 12px;\n",
              "    }\n",
              "\n",
              "    .colab-df-convert {\n",
              "      background-color: #E8F0FE;\n",
              "      border: none;\n",
              "      border-radius: 50%;\n",
              "      cursor: pointer;\n",
              "      display: none;\n",
              "      fill: #1967D2;\n",
              "      height: 32px;\n",
              "      padding: 0 0 0 0;\n",
              "      width: 32px;\n",
              "    }\n",
              "\n",
              "    .colab-df-convert:hover {\n",
              "      background-color: #E2EBFA;\n",
              "      box-shadow: 0px 1px 2px rgba(60, 64, 67, 0.3), 0px 1px 3px 1px rgba(60, 64, 67, 0.15);\n",
              "      fill: #174EA6;\n",
              "    }\n",
              "\n",
              "    [theme=dark] .colab-df-convert {\n",
              "      background-color: #3B4455;\n",
              "      fill: #D2E3FC;\n",
              "    }\n",
              "\n",
              "    [theme=dark] .colab-df-convert:hover {\n",
              "      background-color: #434B5C;\n",
              "      box-shadow: 0px 1px 3px 1px rgba(0, 0, 0, 0.15);\n",
              "      filter: drop-shadow(0px 1px 2px rgba(0, 0, 0, 0.3));\n",
              "      fill: #FFFFFF;\n",
              "    }\n",
              "  </style>\n",
              "\n",
              "      <script>\n",
              "        const buttonEl =\n",
              "          document.querySelector('#df-156cccfe-a694-4d2c-a697-63c8ad5376d9 button.colab-df-convert');\n",
              "        buttonEl.style.display =\n",
              "          google.colab.kernel.accessAllowed ? 'block' : 'none';\n",
              "\n",
              "        async function convertToInteractive(key) {\n",
              "          const element = document.querySelector('#df-156cccfe-a694-4d2c-a697-63c8ad5376d9');\n",
              "          const dataTable =\n",
              "            await google.colab.kernel.invokeFunction('convertToInteractive',\n",
              "                                                     [key], {});\n",
              "          if (!dataTable) return;\n",
              "\n",
              "          const docLinkHtml = 'Like what you see? Visit the ' +\n",
              "            '<a target=\"_blank\" href=https://colab.research.google.com/notebooks/data_table.ipynb>data table notebook</a>'\n",
              "            + ' to learn more about interactive tables.';\n",
              "          element.innerHTML = '';\n",
              "          dataTable['output_type'] = 'display_data';\n",
              "          await google.colab.output.renderOutput(dataTable, element);\n",
              "          const docLink = document.createElement('div');\n",
              "          docLink.innerHTML = docLinkHtml;\n",
              "          element.appendChild(docLink);\n",
              "        }\n",
              "      </script>\n",
              "    </div>\n",
              "  </div>\n",
              "  "
            ],
            "text/plain": [
              "                                        EMPLOYER_NAME\n",
              "COGNIZANT TECHNOLOGY SOLUTIONS US CORP          28475\n",
              "INFOSYS LIMITED                                 21448\n",
              "TATA CONSULTANCY SERVICES LIMITED               11868\n",
              "GOOGLE LLC                                      10009\n",
              "ERNST & YOUNG U.S. LLP                           8801\n",
              "CAPGEMINI AMERICA INC                            7878\n",
              "DELOITTE CONSULTING LLP                          7793\n",
              "AMAZON.COM SERVICES, INC.                        7267\n",
              "MICROSOFT CORPORATION                            6040\n",
              "ACCENTURE LLP                                    5653\n",
              "IBM CORPORATION                                  5057\n",
              "HCL AMERICA, INC.                                4688\n",
              "WIPRO LIMITED                                    4291\n",
              "LARSEN & TOUBRO INFOTECH LIMITED                 3624\n",
              "TECH MAHINDRA (AMERICAS),INC.                    2915\n",
              "FACEBOOK, INC.                                   2680\n",
              "WAL-MART ASSOCIATES, INC.                        2277\n",
              "IBM INDIA PRIVATE LIMITED                        2171\n",
              "L&T TECHNOLOGY SERVICES LIMITED                  2034\n",
              "SYNTEL INC                                       1888"
            ]
          },
          "execution_count": 13,
          "metadata": {},
          "output_type": "execute_result"
        }
      ],
      "source": [
        "top_twenty=df['EMPLOYER_NAME'].value_counts()[:20]\n",
        "top_twenty.to_frame()"
      ]
    },
    {
      "cell_type": "code",
      "execution_count": 14,
      "metadata": {
        "colab": {
          "base_uri": "https://localhost:8080/",
          "height": 638
        },
        "id": "gTt28I8h9-qY",
        "outputId": "78a12846-6882-4341-9806-3e371bf1be16"
      },
      "outputs": [
        {
          "data": {
            "image/png": "[encoded data removed]",
            "text/plain": [
              "<Figure size 1080x432 with 1 Axes>"
            ]
          },
          "metadata": {
            "needs_background": "light"
          },
          "output_type": "display_data"
        }
      ],
      "source": [
        "employer = df['EMPLOYER_NAME'].value_counts()\n",
        "employer = employer[(employer.values > 5000)]\n",
        "plt.figure(figsize=(15,6))\n",
        "sns.barplot(employer.index, employer.values)\n",
        "plt.xticks(rotation='vertical')\n",
        "plt.xlabel('Company Name', fontsize=14)\n",
        "plt.ylabel('Number of applicants', fontsize=14)\n",
        "plt.title(\"Number of applicants with respect to EMPLOYER_NAME\", fontsize=16)\n",
        "plt.show()"
      ]
    },
    {
      "cell_type": "markdown",
      "metadata": {
        "id": "dC7c4XrfVEFO"
      },
      "source": [
        "<h3>counting the Job Tittle and percentage it "
      ]
    },
    {
      "cell_type": "code",
      "execution_count": 15,
      "metadata": {
        "colab": {
          "base_uri": "https://localhost:8080/",
          "height": 363
        },
        "id": "PNM_nEJJ-1VS",
        "outputId": "7cb51c62-a0df-4d59-86e4-df26d8d134a5"
      },
      "outputs": [
        {
          "data": {
            "text/html": [
              "\n",
              "  <div id=\"df-4bab534e-128b-4792-b903-c8729cc159aa\">\n",
              "    <div class=\"colab-df-container\">\n",
              "      <div>\n",
              "<style scoped>\n",
              "    .dataframe tbody tr th:only-of-type {\n",
              "        vertical-align: middle;\n",
              "    }\n",
              "\n",
              "    .dataframe tbody tr th {\n",
              "        vertical-align: top;\n",
              "    }\n",
              "\n",
              "    .dataframe thead th {\n",
              "        text-align: right;\n",
              "    }\n",
              "</style>\n",
              "<table border=\"1\" class=\"dataframe\">\n",
              "  <thead>\n",
              "    <tr style=\"text-align: right;\">\n",
              "      <th></th>\n",
              "      <th>title</th>\n",
              "      <th>count</th>\n",
              "      <th>perc</th>\n",
              "    </tr>\n",
              "  </thead>\n",
              "  <tbody>\n",
              "    <tr>\n",
              "      <th>0</th>\n",
              "      <td>SOFTWARE ENGINEER</td>\n",
              "      <td>34691</td>\n",
              "      <td>5.219714</td>\n",
              "    </tr>\n",
              "    <tr>\n",
              "      <th>1</th>\n",
              "      <td>SOFTWARE DEVELOPER</td>\n",
              "      <td>34366</td>\n",
              "      <td>5.170813</td>\n",
              "    </tr>\n",
              "    <tr>\n",
              "      <th>2</th>\n",
              "      <td>SENIOR SYSTEMS ANALYST JC60</td>\n",
              "      <td>12897</td>\n",
              "      <td>1.940522</td>\n",
              "    </tr>\n",
              "    <tr>\n",
              "      <th>3</th>\n",
              "      <td>SENIOR SOFTWARE ENGINEER</td>\n",
              "      <td>8482</td>\n",
              "      <td>1.276228</td>\n",
              "    </tr>\n",
              "    <tr>\n",
              "      <th>4</th>\n",
              "      <td>MANAGER JC50</td>\n",
              "      <td>8205</td>\n",
              "      <td>1.234549</td>\n",
              "    </tr>\n",
              "    <tr>\n",
              "      <th>5</th>\n",
              "      <td>TECHNOLOGY LEAD - US - PRACTITIONER</td>\n",
              "      <td>7434</td>\n",
              "      <td>1.118542</td>\n",
              "    </tr>\n",
              "    <tr>\n",
              "      <th>6</th>\n",
              "      <td>ASSISTANT PROFESSOR</td>\n",
              "      <td>5632</td>\n",
              "      <td>0.847408</td>\n",
              "    </tr>\n",
              "    <tr>\n",
              "      <th>7</th>\n",
              "      <td>PROGRAMMER ANALYST</td>\n",
              "      <td>4983</td>\n",
              "      <td>0.749757</td>\n",
              "    </tr>\n",
              "    <tr>\n",
              "      <th>8</th>\n",
              "      <td>JAVA DEVELOPER</td>\n",
              "      <td>4062</td>\n",
              "      <td>0.611181</td>\n",
              "    </tr>\n",
              "    <tr>\n",
              "      <th>9</th>\n",
              "      <td>SENIOR SOFTWARE DEVELOPER</td>\n",
              "      <td>3800</td>\n",
              "      <td>0.571760</td>\n",
              "    </tr>\n",
              "  </tbody>\n",
              "</table>\n",
              "</div>\n",
              "      <button class=\"colab-df-convert\" onclick=\"convertToInteractive('df-4bab534e-128b-4792-b903-c8729cc159aa')\"\n",
              "              title=\"Convert this dataframe to an interactive table.\"\n",
              "              style=\"display:none;\">\n",
              "        \n",
              "  <svg xmlns=\"http://www.w3.org/2000/svg\" height=\"24px\"viewBox=\"0 0 24 24\"\n",
              "       width=\"24px\">\n",
              "    <path d=\"M0 0h24v24H0V0z\" fill=\"none\"/>\n",
              "    <path d=\"M18.56 5.44l.94 2.06.94-2.06 2.06-.94-2.06-.94-.94-2.06-.94 2.06-2.06.94zm-11 1L8.5 8.5l.94-2.06 2.06-.94-2.06-.94L8.5 2.5l-.94 2.06-2.06.94zm10 10l.94 2.06.94-2.06 2.06-.94-2.06-.94-.94-2.06-.94 2.06-2.06.94z\"/><path d=\"M17.41 7.96l-1.37-1.37c-.4-.4-.92-.59-1.43-.59-.52 0-1.04.2-1.43.59L10.3 9.45l-7.72 7.72c-.78.78-.78 2.05 0 2.83L4 21.41c.39.39.9.59 1.41.59.51 0 1.02-.2 1.41-.59l7.78-7.78 2.81-2.81c.8-.78.8-2.07 0-2.86zM5.41 20L4 18.59l7.72-7.72 1.47 1.35L5.41 20z\"/>\n",
              "  </svg>\n",
              "      </button>\n",
              "      \n",
              "  <style>\n",
              "    .colab-df-container {\n",
              "      display:flex;\n",
              "      flex-wrap:wrap;\n",
              "      gap: 12px;\n",
              "    }\n",
              "\n",
              "    .colab-df-convert {\n",
              "      background-color: #E8F0FE;\n",
              "      border: none;\n",
              "      border-radius: 50%;\n",
              "      cursor: pointer;\n",
              "      display: none;\n",
              "      fill: #1967D2;\n",
              "      height: 32px;\n",
              "      padding: 0 0 0 0;\n",
              "      width: 32px;\n",
              "    }\n",
              "\n",
              "    .colab-df-convert:hover {\n",
              "      background-color: #E2EBFA;\n",
              "      box-shadow: 0px 1px 2px rgba(60, 64, 67, 0.3), 0px 1px 3px 1px rgba(60, 64, 67, 0.15);\n",
              "      fill: #174EA6;\n",
              "    }\n",
              "\n",
              "    [theme=dark] .colab-df-convert {\n",
              "      background-color: #3B4455;\n",
              "      fill: #D2E3FC;\n",
              "    }\n",
              "\n",
              "    [theme=dark] .colab-df-convert:hover {\n",
              "      background-color: #434B5C;\n",
              "      box-shadow: 0px 1px 3px 1px rgba(0, 0, 0, 0.15);\n",
              "      filter: drop-shadow(0px 1px 2px rgba(0, 0, 0, 0.3));\n",
              "      fill: #FFFFFF;\n",
              "    }\n",
              "  </style>\n",
              "\n",
              "      <script>\n",
              "        const buttonEl =\n",
              "          document.querySelector('#df-4bab534e-128b-4792-b903-c8729cc159aa button.colab-df-convert');\n",
              "        buttonEl.style.display =\n",
              "          google.colab.kernel.accessAllowed ? 'block' : 'none';\n",
              "\n",
              "        async function convertToInteractive(key) {\n",
              "          const element = document.querySelector('#df-4bab534e-128b-4792-b903-c8729cc159aa');\n",
              "          const dataTable =\n",
              "            await google.colab.kernel.invokeFunction('convertToInteractive',\n",
              "                                                     [key], {});\n",
              "          if (!dataTable) return;\n",
              "\n",
              "          const docLinkHtml = 'Like what you see? Visit the ' +\n",
              "            '<a target=\"_blank\" href=https://colab.research.google.com/notebooks/data_table.ipynb>data table notebook</a>'\n",
              "            + ' to learn more about interactive tables.';\n",
              "          element.innerHTML = '';\n",
              "          dataTable['output_type'] = 'display_data';\n",
              "          await google.colab.output.renderOutput(dataTable, element);\n",
              "          const docLink = document.createElement('div');\n",
              "          docLink.innerHTML = docLinkHtml;\n",
              "          element.appendChild(docLink);\n",
              "        }\n",
              "      </script>\n",
              "    </div>\n",
              "  </div>\n",
              "  "
            ],
            "text/plain": [
              "                                 title  count      perc\n",
              "0                    SOFTWARE ENGINEER  34691  5.219714\n",
              "1                   SOFTWARE DEVELOPER  34366  5.170813\n",
              "2          SENIOR SYSTEMS ANALYST JC60  12897  1.940522\n",
              "3             SENIOR SOFTWARE ENGINEER   8482  1.276228\n",
              "4                         MANAGER JC50   8205  1.234549\n",
              "5  TECHNOLOGY LEAD - US - PRACTITIONER   7434  1.118542\n",
              "6                  ASSISTANT PROFESSOR   5632  0.847408\n",
              "7                   PROGRAMMER ANALYST   4983  0.749757\n",
              "8                       JAVA DEVELOPER   4062  0.611181\n",
              "9            SENIOR SOFTWARE DEVELOPER   3800  0.571760"
            ]
          },
          "execution_count": 15,
          "metadata": {},
          "output_type": "execute_result"
        }
      ],
      "source": [
        "job = pd.DataFrame(df.JOB_TITLE.value_counts()).reset_index()\n",
        "job[\"Percentage\"] = pd.DataFrame(df.JOB_TITLE.value_counts\n",
        "                                   (normalize = True) * 100).reset_index()[\"JOB_TITLE\"]\n",
        "job.columns = [\"title\",\"count\",\"perc\"]\n",
        "job.head(10)"
      ]
    },
    {
      "cell_type": "code",
      "execution_count": 16,
      "metadata": {
        "colab": {
          "base_uri": "https://localhost:8080/",
          "height": 603
        },
        "id": "_fj10-XE9-tV",
        "outputId": "5ea59e61-1a73-431b-dd30-fde9604d9774"
      },
      "outputs": [
        {
          "data": {
            "image/png": "[encoded data removed]",
            "text/plain": [
              "<Figure size 1080x432 with 1 Axes>"
            ]
          },
          "metadata": {
            "needs_background": "light"
          },
          "output_type": "display_data"
        }
      ],
      "source": [
        "job1 = df['JOB_TITLE'].value_counts()\n",
        "job1 = job1[(job1.values > 6000)]\n",
        "plt.figure(figsize=(15,6))\n",
        "sns.barplot(job1.index, job1.values, alpha=1)\n",
        "plt.xticks(rotation='vertical')\n",
        "plt.xlabel('Job Title', fontsize=14)\n",
        "plt.ylabel('Number of applicants', fontsize=14)\n",
        "plt.title(\"Number of applicants with respect to the Job Title\", fontsize=16)\n",
        "plt.show()"
      ]
    },
    {
      "cell_type": "markdown",
      "metadata": {
        "id": "HBc9tUJOVZIE"
      },
      "source": [
        "<h3>Top Job SOC TITTLE"
      ]
    },
    {
      "cell_type": "code",
      "execution_count": 17,
      "metadata": {
        "colab": {
          "base_uri": "https://localhost:8080/",
          "height": 654
        },
        "id": "3nV5QNRQHZqE",
        "outputId": "09f7740c-5c9e-4c84-90f6-34d950c887fd"
      },
      "outputs": [
        {
          "data": {
            "text/plain": [
              "Text(0.5, 1.0, 'TOP JOB BENIFICARIES 2019')"
            ]
          },
          "execution_count": 17,
          "metadata": {},
          "output_type": "execute_result"
        },
        {
          "data": {
            "image/png": "[encoded data removed]",
            "text/plain": [
              "<Figure size 1080x720 with 1 Axes>"
            ]
          },
          "metadata": {
            "needs_background": "light"
          },
          "output_type": "display_data"
        }
      ],
      "source": [
        "top_roles = df['SOC_TITLE'].value_counts().head(10)\n",
        "plt.figure(figsize=(15,10))\n",
        "sns.barplot(y = top_roles.index ,x = top_roles.values , alpha=1)\n",
        "plt.xlabel('COUNT OF CERTIFIED CASES',size=20)\n",
        "plt.ylabel('JOB ROLES', size=20)\n",
        "plt.title('TOP JOB BENIFICARIES 2019',size=20)"
      ]
    },
    {
      "cell_type": "markdown",
      "metadata": {
        "id": "z5eqmoPEVjdd"
      },
      "source": [
        "<h3>HIGH PAYING JOB BENIFICARIES 2019"
      ]
    },
    {
      "cell_type": "code",
      "execution_count": 18,
      "metadata": {
        "colab": {
          "base_uri": "https://localhost:8080/",
          "height": 382
        },
        "id": "34KWexDxB8Vs",
        "outputId": "f699977f-3ac7-403f-f62d-d2682d1d1974"
      },
      "outputs": [
        {
          "data": {
            "text/plain": [
              "(120000.0, 250000.0)"
            ]
          },
          "execution_count": 18,
          "metadata": {},
          "output_type": "execute_result"
        },
        {
          "data": {
            "image/png": "[encoded data removed]",
            "text/plain": [
              "<Figure size 1440x360 with 1 Axes>"
            ]
          },
          "metadata": {
            "needs_background": "light"
          },
          "output_type": "display_data"
        }
      ],
      "source": [
        "top_payers = df.groupby(by=['SOC_TITLE'])['PREVAILING_WAGE_1'].mean()\n",
        "top_payers = top_payers.sort_values(ascending=False)[:10]\n",
        "plt.figure(figsize=(20,5))\n",
        "sns.barplot(y = top_payers.index ,x = top_payers.values ,color='teal')\n",
        "plt.xlabel('AVERAGE SALARY',size=20)\n",
        "plt.ylabel('JOB ROLES', size=20)\n",
        "plt.title('HIGH PAYING JOB BENIFICARIES 2019',size=20)\n",
        "plt.xlim((120000,250000))"
      ]
    },
    {
      "cell_type": "markdown",
      "metadata": {
        "id": "-QonVsWwVz44"
      },
      "source": [
        "<h3>FULL_TIME_POSITION "
      ]
    },
    {
      "cell_type": "code",
      "execution_count": 19,
      "metadata": {
        "colab": {
          "base_uri": "https://localhost:8080/",
          "height": 264
        },
        "id": "U9Tg08FQ9-wW",
        "outputId": "4f482132-3e84-42f6-f62e-f3bf10d32c5f"
      },
      "outputs": [
        {
          "data": {
            "image/png": "[encoded data removed]",
            "text/plain": [
              "<Figure size 432x288 with 1 Axes>"
            ]
          },
          "metadata": {},
          "output_type": "display_data"
        }
      ],
      "source": [
        "full = df['FULL_TIME_POSITION'].value_counts()\n",
        "colors = ['lightskyblue', 'lightcoral']\n",
        "plt.pie(full.values, labels=full.index, colors=colors, autopct='%1.1f%%',startangle=140)\n",
        "plt.title('Whether if they have a full time job: Y-YES ; N-NO')\n",
        "plt.axis('equal')\n",
        "plt.show()"
      ]
    },
    {
      "cell_type": "markdown",
      "metadata": {
        "id": "xdwlLB5tV8NC"
      },
      "source": [
        "in the above pie chart only 1.7% of applicants are not doinf full time job"
      ]
    },
    {
      "cell_type": "code",
      "execution_count": 20,
      "metadata": {
        "colab": {
          "base_uri": "https://localhost:8080/"
        },
        "id": "GQ_s7NBj9-zb",
        "outputId": "86c7cf0d-0f11-46a7-a7f1-f304765a20dc"
      },
      "outputs": [
        {
          "name": "stdout",
          "output_type": "stream",
          "text": [
            "Y    447452\n",
            "N    189014\n",
            "Name: AGENT_REPRESENTING_EMPLOYER, dtype: int64\n"
          ]
        }
      ],
      "source": [
        "agent = df.AGENT_REPRESENTING_EMPLOYER.value_counts()\n",
        "print(agent)"
      ]
    },
    {
      "cell_type": "code",
      "execution_count": 21,
      "metadata": {
        "colab": {
          "base_uri": "https://localhost:8080/",
          "height": 248
        },
        "id": "VJofZt39dJOk",
        "outputId": "89b64bd9-0dc6-4f43-c925-2b5641aa061f"
      },
      "outputs": [
        {
          "data": {
            "image/png": "[encoded data removed]",
            "text/plain": [
              "<Figure size 432x288 with 1 Axes>"
            ]
          },
          "metadata": {},
          "output_type": "display_data"
        }
      ],
      "source": [
        "palette_color = sns.color_palette('bright')\n",
        "plt.pie(agent, labels=agent.index, colors=palette_color, autopct='%.0f%%')\n",
        "plt.show()"
      ]
    },
    {
      "cell_type": "markdown",
      "metadata": {
        "id": "ntgqn3uSWbUh"
      },
      "source": [
        "AGENT_REPRESENTING_EMPLOYER are 30%"
      ]
    },
    {
      "cell_type": "code",
      "execution_count": 22,
      "metadata": {
        "colab": {
          "base_uri": "https://localhost:8080/"
        },
        "id": "JDOfpo7FHxUR",
        "outputId": "e052cbaa-dd28-418e-b8e6-6aec581dea87"
      },
      "outputs": [
        {
          "name": "stdout",
          "output_type": "stream",
          "text": [
            "Y    236049\n",
            "N      2250\n",
            "Name: SUPPORT_H1B, dtype: int64\n"
          ]
        }
      ],
      "source": [
        "f = df.SUPPORT_H1B.value_counts()\n",
        "print(f)"
      ]
    },
    {
      "cell_type": "code",
      "execution_count": 23,
      "metadata": {
        "colab": {
          "base_uri": "https://localhost:8080/",
          "height": 248
        },
        "id": "WHlmG2g-N_o1",
        "outputId": "fd6df368-909d-436f-aff4-90fbcfacf74e"
      },
      "outputs": [
        {
          "data": {
            "image/png": "[encoded data removed]",
            "text/plain": [
              "<Figure size 432x288 with 1 Axes>"
            ]
          },
          "metadata": {},
          "output_type": "display_data"
        }
      ],
      "source": [
        "palette_color = sns.color_palette('bright')\n",
        "plt.pie(f, labels=f.index, colors=palette_color, autopct='%.0f%%')\n",
        "plt.show()"
      ]
    },
    {
      "cell_type": "markdown",
      "metadata": {
        "id": "pouKKz4NWkvR"
      },
      "source": [
        "only 1% not support H1B"
      ]
    },
    {
      "cell_type": "markdown",
      "metadata": {
        "id": "6iHl4Holczzj"
      },
      "source": [
        "<h1>Data Preprocessing and EDA"
      ]
    },
    {
      "cell_type": "markdown",
      "metadata": {
        "id": "8uJ98OTfWuZm"
      },
      "source": [
        "Make a new DataFrame with some of the Importent Features"
      ]
    },
    {
      "cell_type": "code",
      "execution_count": 24,
      "metadata": {
        "id": "BaOIRDz0cLgT"
      },
      "outputs": [],
      "source": [
        "new_data = df[['CASE_STATUS','VISA_CLASS','EMPLOYER_NAME','SECONDARY_ENTITY_1','AGENT_REPRESENTING_EMPLOYER','JOB_TITLE','SOC_TITLE','SOC_CODE','NAICS_CODE','CONTINUED_EMPLOYMENT','CHANGE_PREVIOUS_EMPLOYMENT','NEW_CONCURRENT_EMPLOYMENT','CHANGE_EMPLOYER','AMENDED_PETITION','H-1B_DEPENDENT','SUPPORT_H1B','WILLFUL_VIOLATOR','WAGE_RATE_OF_PAY_FROM_1','WAGE_UNIT_OF_PAY_1','TOTAL_WORKER_POSITIONS']]"
      ]
    },
    {
      "cell_type": "code",
      "execution_count": 25,
      "metadata": {
        "colab": {
          "base_uri": "https://localhost:8080/",
          "height": 548
        },
        "id": "kRDLPTUdcLj8",
        "outputId": "27fadf90-965c-4c14-c609-20f0c65143b0"
      },
      "outputs": [
        {
          "data": {
            "text/html": [
              "\n",
              "  <div id=\"df-d5f76fda-eab9-4576-94b6-e12bb7571447\">\n",
              "    <div class=\"colab-df-container\">\n",
              "      <div>\n",
              "<style scoped>\n",
              "    .dataframe tbody tr th:only-of-type {\n",
              "        vertical-align: middle;\n",
              "    }\n",
              "\n",
              "    .dataframe tbody tr th {\n",
              "        vertical-align: top;\n",
              "    }\n",
              "\n",
              "    .dataframe thead th {\n",
              "        text-align: right;\n",
              "    }\n",
              "</style>\n",
              "<table border=\"1\" class=\"dataframe\">\n",
              "  <thead>\n",
              "    <tr style=\"text-align: right;\">\n",
              "      <th></th>\n",
              "      <th>CASE_STATUS</th>\n",
              "      <th>VISA_CLASS</th>\n",
              "      <th>EMPLOYER_NAME</th>\n",
              "      <th>SECONDARY_ENTITY_1</th>\n",
              "      <th>AGENT_REPRESENTING_EMPLOYER</th>\n",
              "      <th>JOB_TITLE</th>\n",
              "      <th>SOC_TITLE</th>\n",
              "      <th>SOC_CODE</th>\n",
              "      <th>NAICS_CODE</th>\n",
              "      <th>CONTINUED_EMPLOYMENT</th>\n",
              "      <th>CHANGE_PREVIOUS_EMPLOYMENT</th>\n",
              "      <th>NEW_CONCURRENT_EMPLOYMENT</th>\n",
              "      <th>CHANGE_EMPLOYER</th>\n",
              "      <th>AMENDED_PETITION</th>\n",
              "      <th>H-1B_DEPENDENT</th>\n",
              "      <th>SUPPORT_H1B</th>\n",
              "      <th>WILLFUL_VIOLATOR</th>\n",
              "      <th>WAGE_RATE_OF_PAY_FROM_1</th>\n",
              "      <th>WAGE_UNIT_OF_PAY_1</th>\n",
              "      <th>TOTAL_WORKER_POSITIONS</th>\n",
              "    </tr>\n",
              "  </thead>\n",
              "  <tbody>\n",
              "    <tr>\n",
              "      <th>0</th>\n",
              "      <td>WITHDRAWN</td>\n",
              "      <td>H-1B</td>\n",
              "      <td>R/GA MEDIA GROUP, INC.</td>\n",
              "      <td>NaN</td>\n",
              "      <td>NaN</td>\n",
              "      <td>ASSOCIATE CREATIVE DIRECTOR</td>\n",
              "      <td>ADVERTISING AND PROMOTIONS MANAGERS</td>\n",
              "      <td>11-2011</td>\n",
              "      <td>541810.0</td>\n",
              "      <td>1</td>\n",
              "      <td>0</td>\n",
              "      <td>0.0</td>\n",
              "      <td>0</td>\n",
              "      <td>0</td>\n",
              "      <td>N</td>\n",
              "      <td>NaN</td>\n",
              "      <td>N</td>\n",
              "      <td>179000.0</td>\n",
              "      <td>Year</td>\n",
              "      <td>1.0</td>\n",
              "    </tr>\n",
              "    <tr>\n",
              "      <th>1</th>\n",
              "      <td>WITHDRAWN</td>\n",
              "      <td>E-3 Australian</td>\n",
              "      <td>MOTHER INDUSTRIES LLC</td>\n",
              "      <td>NaN</td>\n",
              "      <td>NaN</td>\n",
              "      <td>ACCOUNT SUPERVISOR (MOTHER)</td>\n",
              "      <td>ADVERTISING AND PROMOTIONS MANAGERS</td>\n",
              "      <td>11-2011</td>\n",
              "      <td>541810.0</td>\n",
              "      <td>1</td>\n",
              "      <td>0</td>\n",
              "      <td>0.0</td>\n",
              "      <td>0</td>\n",
              "      <td>0</td>\n",
              "      <td>NaN</td>\n",
              "      <td>NaN</td>\n",
              "      <td>NaN</td>\n",
              "      <td>110000.0</td>\n",
              "      <td>Year</td>\n",
              "      <td>1.0</td>\n",
              "    </tr>\n",
              "    <tr>\n",
              "      <th>2</th>\n",
              "      <td>WITHDRAWN</td>\n",
              "      <td>E-3 Australian</td>\n",
              "      <td>WE ARE UNLIMITED, INC.</td>\n",
              "      <td>NaN</td>\n",
              "      <td>NaN</td>\n",
              "      <td>EXECUTIVE CREATIVE DIRECTOR</td>\n",
              "      <td>ADVERTISING AND PROMOTIONS MANAGERS</td>\n",
              "      <td>11-2011</td>\n",
              "      <td>541810.0</td>\n",
              "      <td>0</td>\n",
              "      <td>1</td>\n",
              "      <td>0.0</td>\n",
              "      <td>0</td>\n",
              "      <td>0</td>\n",
              "      <td>NaN</td>\n",
              "      <td>NaN</td>\n",
              "      <td>NaN</td>\n",
              "      <td>275000.0</td>\n",
              "      <td>Year</td>\n",
              "      <td>1.0</td>\n",
              "    </tr>\n",
              "    <tr>\n",
              "      <th>3</th>\n",
              "      <td>WITHDRAWN</td>\n",
              "      <td>E-3 Australian</td>\n",
              "      <td>HELLO ELEPHANT, LLC</td>\n",
              "      <td>NaN</td>\n",
              "      <td>NaN</td>\n",
              "      <td>PROJECT MANAGEMENT LEAD</td>\n",
              "      <td>ADVERTISING AND PROMOTIONS MANAGERS</td>\n",
              "      <td>11-2011</td>\n",
              "      <td>541810.0</td>\n",
              "      <td>0</td>\n",
              "      <td>1</td>\n",
              "      <td>0.0</td>\n",
              "      <td>0</td>\n",
              "      <td>0</td>\n",
              "      <td>NaN</td>\n",
              "      <td>NaN</td>\n",
              "      <td>NaN</td>\n",
              "      <td>140000.0</td>\n",
              "      <td>Year</td>\n",
              "      <td>1.0</td>\n",
              "    </tr>\n",
              "    <tr>\n",
              "      <th>4</th>\n",
              "      <td>WITHDRAWN</td>\n",
              "      <td>E-3 Australian</td>\n",
              "      <td>HELLO ELEPHANT, LLC</td>\n",
              "      <td>NaN</td>\n",
              "      <td>NaN</td>\n",
              "      <td>CREATIVE DIRECTOR, UX</td>\n",
              "      <td>ADVERTISING AND PROMOTIONS MANAGERS</td>\n",
              "      <td>11-2011</td>\n",
              "      <td>541810.0</td>\n",
              "      <td>0</td>\n",
              "      <td>1</td>\n",
              "      <td>0.0</td>\n",
              "      <td>0</td>\n",
              "      <td>0</td>\n",
              "      <td>NaN</td>\n",
              "      <td>NaN</td>\n",
              "      <td>NaN</td>\n",
              "      <td>180000.0</td>\n",
              "      <td>Year</td>\n",
              "      <td>1.0</td>\n",
              "    </tr>\n",
              "  </tbody>\n",
              "</table>\n",
              "</div>\n",
              "      <button class=\"colab-df-convert\" onclick=\"convertToInteractive('df-d5f76fda-eab9-4576-94b6-e12bb7571447')\"\n",
              "              title=\"Convert this dataframe to an interactive table.\"\n",
              "              style=\"display:none;\">\n",
              "        \n",
              "  <svg xmlns=\"http://www.w3.org/2000/svg\" height=\"24px\"viewBox=\"0 0 24 24\"\n",
              "       width=\"24px\">\n",
              "    <path d=\"M0 0h24v24H0V0z\" fill=\"none\"/>\n",
              "    <path d=\"M18.56 5.44l.94 2.06.94-2.06 2.06-.94-2.06-.94-.94-2.06-.94 2.06-2.06.94zm-11 1L8.5 8.5l.94-2.06 2.06-.94-2.06-.94L8.5 2.5l-.94 2.06-2.06.94zm10 10l.94 2.06.94-2.06 2.06-.94-2.06-.94-.94-2.06-.94 2.06-2.06.94z\"/><path d=\"M17.41 7.96l-1.37-1.37c-.4-.4-.92-.59-1.43-.59-.52 0-1.04.2-1.43.59L10.3 9.45l-7.72 7.72c-.78.78-.78 2.05 0 2.83L4 21.41c.39.39.9.59 1.41.59.51 0 1.02-.2 1.41-.59l7.78-7.78 2.81-2.81c.8-.78.8-2.07 0-2.86zM5.41 20L4 18.59l7.72-7.72 1.47 1.35L5.41 20z\"/>\n",
              "  </svg>\n",
              "      </button>\n",
              "      \n",
              "  <style>\n",
              "    .colab-df-container {\n",
              "      display:flex;\n",
              "      flex-wrap:wrap;\n",
              "      gap: 12px;\n",
              "    }\n",
              "\n",
              "    .colab-df-convert {\n",
              "      background-color: #E8F0FE;\n",
              "      border: none;\n",
              "      border-radius: 50%;\n",
              "      cursor: pointer;\n",
              "      display: none;\n",
              "      fill: #1967D2;\n",
              "      height: 32px;\n",
              "      padding: 0 0 0 0;\n",
              "      width: 32px;\n",
              "    }\n",
              "\n",
              "    .colab-df-convert:hover {\n",
              "      background-color: #E2EBFA;\n",
              "      box-shadow: 0px 1px 2px rgba(60, 64, 67, 0.3), 0px 1px 3px 1px rgba(60, 64, 67, 0.15);\n",
              "      fill: #174EA6;\n",
              "    }\n",
              "\n",
              "    [theme=dark] .colab-df-convert {\n",
              "      background-color: #3B4455;\n",
              "      fill: #D2E3FC;\n",
              "    }\n",
              "\n",
              "    [theme=dark] .colab-df-convert:hover {\n",
              "      background-color: #434B5C;\n",
              "      box-shadow: 0px 1px 3px 1px rgba(0, 0, 0, 0.15);\n",
              "      filter: drop-shadow(0px 1px 2px rgba(0, 0, 0, 0.3));\n",
              "      fill: #FFFFFF;\n",
              "    }\n",
              "  </style>\n",
              "\n",
              "      <script>\n",
              "        const buttonEl =\n",
              "          document.querySelector('#df-d5f76fda-eab9-4576-94b6-e12bb7571447 button.colab-df-convert');\n",
              "        buttonEl.style.display =\n",
              "          google.colab.kernel.accessAllowed ? 'block' : 'none';\n",
              "\n",
              "        async function convertToInteractive(key) {\n",
              "          const element = document.querySelector('#df-d5f76fda-eab9-4576-94b6-e12bb7571447');\n",
              "          const dataTable =\n",
              "            await google.colab.kernel.invokeFunction('convertToInteractive',\n",
              "                                                     [key], {});\n",
              "          if (!dataTable) return;\n",
              "\n",
              "          const docLinkHtml = 'Like what you see? Visit the ' +\n",
              "            '<a target=\"_blank\" href=https://colab.research.google.com/notebooks/data_table.ipynb>data table notebook</a>'\n",
              "            + ' to learn more about interactive tables.';\n",
              "          element.innerHTML = '';\n",
              "          dataTable['output_type'] = 'display_data';\n",
              "          await google.colab.output.renderOutput(dataTable, element);\n",
              "          const docLink = document.createElement('div');\n",
              "          docLink.innerHTML = docLinkHtml;\n",
              "          element.appendChild(docLink);\n",
              "        }\n",
              "      </script>\n",
              "    </div>\n",
              "  </div>\n",
              "  "
            ],
            "text/plain": [
              "  CASE_STATUS      VISA_CLASS           EMPLOYER_NAME SECONDARY_ENTITY_1  \\\n",
              "0   WITHDRAWN            H-1B  R/GA MEDIA GROUP, INC.                NaN   \n",
              "1   WITHDRAWN  E-3 Australian   MOTHER INDUSTRIES LLC                NaN   \n",
              "2   WITHDRAWN  E-3 Australian  WE ARE UNLIMITED, INC.                NaN   \n",
              "3   WITHDRAWN  E-3 Australian     HELLO ELEPHANT, LLC                NaN   \n",
              "4   WITHDRAWN  E-3 Australian     HELLO ELEPHANT, LLC                NaN   \n",
              "\n",
              "  AGENT_REPRESENTING_EMPLOYER                    JOB_TITLE  \\\n",
              "0                         NaN  ASSOCIATE CREATIVE DIRECTOR   \n",
              "1                         NaN  ACCOUNT SUPERVISOR (MOTHER)   \n",
              "2                         NaN  EXECUTIVE CREATIVE DIRECTOR   \n",
              "3                         NaN      PROJECT MANAGEMENT LEAD   \n",
              "4                         NaN        CREATIVE DIRECTOR, UX   \n",
              "\n",
              "                             SOC_TITLE SOC_CODE  NAICS_CODE  \\\n",
              "0  ADVERTISING AND PROMOTIONS MANAGERS  11-2011    541810.0   \n",
              "1  ADVERTISING AND PROMOTIONS MANAGERS  11-2011    541810.0   \n",
              "2  ADVERTISING AND PROMOTIONS MANAGERS  11-2011    541810.0   \n",
              "3  ADVERTISING AND PROMOTIONS MANAGERS  11-2011    541810.0   \n",
              "4  ADVERTISING AND PROMOTIONS MANAGERS  11-2011    541810.0   \n",
              "\n",
              "  CONTINUED_EMPLOYMENT  CHANGE_PREVIOUS_EMPLOYMENT  NEW_CONCURRENT_EMPLOYMENT  \\\n",
              "0                    1                           0                        0.0   \n",
              "1                    1                           0                        0.0   \n",
              "2                    0                           1                        0.0   \n",
              "3                    0                           1                        0.0   \n",
              "4                    0                           1                        0.0   \n",
              "\n",
              "   CHANGE_EMPLOYER  AMENDED_PETITION H-1B_DEPENDENT SUPPORT_H1B  \\\n",
              "0                0                 0              N         NaN   \n",
              "1                0                 0            NaN         NaN   \n",
              "2                0                 0            NaN         NaN   \n",
              "3                0                 0            NaN         NaN   \n",
              "4                0                 0            NaN         NaN   \n",
              "\n",
              "  WILLFUL_VIOLATOR  WAGE_RATE_OF_PAY_FROM_1 WAGE_UNIT_OF_PAY_1  \\\n",
              "0                N                 179000.0               Year   \n",
              "1              NaN                 110000.0               Year   \n",
              "2              NaN                 275000.0               Year   \n",
              "3              NaN                 140000.0               Year   \n",
              "4              NaN                 180000.0               Year   \n",
              "\n",
              "   TOTAL_WORKER_POSITIONS  \n",
              "0                     1.0  \n",
              "1                     1.0  \n",
              "2                     1.0  \n",
              "3                     1.0  \n",
              "4                     1.0  "
            ]
          },
          "execution_count": 25,
          "metadata": {},
          "output_type": "execute_result"
        }
      ],
      "source": [
        "new_data.head()"
      ]
    },
    {
      "cell_type": "code",
      "execution_count": 26,
      "metadata": {
        "colab": {
          "base_uri": "https://localhost:8080/"
        },
        "id": "Vo3HwaAd2eNk",
        "outputId": "52f3461e-c61e-4ee4-c466-73702fbdf827"
      },
      "outputs": [
        {
          "name": "stdout",
          "output_type": "stream",
          "text": [
            "(664616, 20)\n"
          ]
        }
      ],
      "source": [
        "print(new_data.shape)"
      ]
    },
    {
      "cell_type": "code",
      "execution_count": 27,
      "metadata": {
        "id": "jCY6z1ejd-m-"
      },
      "outputs": [],
      "source": [
        "df2 = new_data"
      ]
    },
    {
      "cell_type": "markdown",
      "metadata": {
        "id": "8Jg7CkM8W-Vo"
      },
      "source": [
        "save new DataFrame in Excel"
      ]
    },
    {
      "cell_type": "code",
      "execution_count": null,
      "metadata": {
        "id": "t6-zqeJMn8eG"
      },
      "outputs": [],
      "source": [
        "new_data.to_excel(\"/content/drive/MyDrive/col/H-1B_Disclosure_Data_FY2019/h_1b_vissanew.xlsx\")\n"
      ]
    },
    {
      "cell_type": "markdown",
      "metadata": {
        "id": "k0NZQ3EGXGjU"
      },
      "source": [
        "import the file"
      ]
    },
    {
      "cell_type": "code",
      "execution_count": null,
      "metadata": {
        "colab": {
          "base_uri": "https://localhost:8080/"
        },
        "id": "nmf4A4PG9H4v",
        "outputId": "defcf59c-20e1-44be-fd2d-a83cfc699463"
      },
      "outputs": [
        {
          "name": "stderr",
          "output_type": "stream",
          "text": [
            "Exception ignored in: <function ZipFile.__del__ at 0x7fa79df0de60>\n",
            "Traceback (most recent call last):\n",
            "  File \"/usr/lib/python3.7/zipfile.py\", line 1809, in __del__\n",
            "    self.close()\n",
            "  File \"/usr/lib/python3.7/zipfile.py\", line 1826, in close\n",
            "    self.fp.seek(self.start_dir)\n",
            "ValueError: seek of closed file\n"
          ]
        }
      ],
      "source": [
        "df2 = pd.read_excel (r'/content/drive/MyDrive/col/H-1B_Disclosure_Data_FY2019/h_1b_vissanew.xlsx')"
      ]
    },
    {
      "cell_type": "markdown",
      "metadata": {
        "id": "9xadFDAJXNTp"
      },
      "source": [
        "finding Character and Numeric columns"
      ]
    },
    {
      "cell_type": "code",
      "execution_count": 28,
      "metadata": {
        "colab": {
          "base_uri": "https://localhost:8080/"
        },
        "id": "sIz-dcf7eRJM",
        "outputId": "2f7c0fdb-ecbe-409c-8784-347f14ba59dd"
      },
      "outputs": [
        {
          "data": {
            "text/plain": [
              "(Index(['CASE_STATUS', 'VISA_CLASS', 'EMPLOYER_NAME', 'SECONDARY_ENTITY_1',\n",
              "        'AGENT_REPRESENTING_EMPLOYER', 'JOB_TITLE', 'SOC_TITLE', 'SOC_CODE',\n",
              "        'CONTINUED_EMPLOYMENT', 'H-1B_DEPENDENT', 'SUPPORT_H1B',\n",
              "        'WILLFUL_VIOLATOR', 'WAGE_UNIT_OF_PAY_1'],\n",
              "       dtype='object'),\n",
              " Index(['NAICS_CODE', 'CHANGE_PREVIOUS_EMPLOYMENT', 'NEW_CONCURRENT_EMPLOYMENT',\n",
              "        'CHANGE_EMPLOYER', 'AMENDED_PETITION', 'WAGE_RATE_OF_PAY_FROM_1',\n",
              "        'TOTAL_WORKER_POSITIONS'],\n",
              "       dtype='object'))"
            ]
          },
          "execution_count": 28,
          "metadata": {},
          "output_type": "execute_result"
        }
      ],
      "source": [
        "catvars = df2.select_dtypes(include=['object']).columns\n",
        "numvars = df2.select_dtypes(include = ['int32','int64','float32','float64']).columns\n",
        "\n",
        "catvars,numvars"
      ]
    },
    {
      "cell_type": "markdown",
      "metadata": {
        "id": "hu5LEIIpXjoV"
      },
      "source": [
        "Find Unique Values of each Column"
      ]
    },
    {
      "cell_type": "code",
      "execution_count": 29,
      "metadata": {
        "colab": {
          "base_uri": "https://localhost:8080/"
        },
        "id": "NgcE8G1deRRD",
        "outputId": "0ac72db8-066a-426a-9c8c-f5289440a75a"
      },
      "outputs": [
        {
          "name": "stdout",
          "output_type": "stream",
          "text": [
            "Details of the particular col CASE_STATUS is : ['WITHDRAWN' 'CERTIFIED-WITHDRAWN' 'CERTIFIED' 'DENIED']\n",
            "---------------------------------------------------------------------------\n",
            "Details of the particular col VISA_CLASS is : ['H-1B' 'E-3 Australian' 'H-1B1 Singapore' 'H-1B1 Chile']\n",
            "---------------------------------------------------------------------------\n",
            "Details of the particular col EMPLOYER_NAME is : ['R/GA MEDIA GROUP, INC.' 'MOTHER INDUSTRIES LLC' 'WE ARE UNLIMITED, INC.'\n",
            " ... 'EVEREST CONSULTANTS, INC.' 'EMBRAER EXECUTIVE AIRCRAFT, INC.'\n",
            " 'PORT LOGISTICS TERMINAL OPERATIONS, LLC']\n",
            "---------------------------------------------------------------------------\n",
            "Details of the particular col SECONDARY_ENTITY_1 is : [nan 'N' 'Y']\n",
            "---------------------------------------------------------------------------\n",
            "Details of the particular col AGENT_REPRESENTING_EMPLOYER is : [nan 'Y' 'N']\n",
            "---------------------------------------------------------------------------\n",
            "Details of the particular col JOB_TITLE is : ['ASSOCIATE CREATIVE DIRECTOR' 'ACCOUNT SUPERVISOR (MOTHER)'\n",
            " 'EXECUTIVE CREATIVE DIRECTOR' ... 'INSPECTOR V'\n",
            " 'CONTAINER MOBILE HARBOR CRANE OPERATOR' 'DIGITAL TOUCHPOINTS ANALYST']\n",
            "---------------------------------------------------------------------------\n",
            "Details of the particular col SOC_TITLE is : ['ADVERTISING AND PROMOTIONS MANAGERS' 'ACCOUNTANTS AND AUDITORS'\n",
            " 'MARKETING MANAGERS' 'MARKETING MANAGER' 'GENERAL & OPERATIONS MANAGER'\n",
            " 'SALES MANAGERS' 'SALES MANAGER'\n",
            " 'PUBLIC RELATIONS AND FUNDRAISING MANAGERS'\n",
            " 'OPERATIONS RESEARCH ANALYSTS' 'SOFTWARE DEVELOPERS, APPLICATIONS'\n",
            " 'SOFTWARE DEVELOPER, APPLICATIONS' 'SOFTWARE DEVELOPERS, APPLICATION'\n",
            " 'SOFTWARE DEVELOPERS, SYSTEMS SOFTWARE' 'INDUSTRIAL ENGINEERS'\n",
            " 'COMMERCIAL AND INDUSTRIAL DESIGNERS' 'OCCUPATIONAL THERAPISTS'\n",
            " 'ADMINISTRATIVE SERVICES MANAGERS' 'ADMINISTRATIVE SERVICES MANAGER'\n",
            " 'COMPUTER AND INFORMATION SYSTEMS MANAGERS'\n",
            " 'COMPUTER & INFORMATION SYSTEMS MANAGERS'\n",
            " 'COMPUTER AND INFORMATION SYSTEMS MANAGER'\n",
            " 'COMPUTER AND INFORMATION MANAGER SYSTEM MANAGER'\n",
            " 'COMPUTER AND INFORMATION SYTEMS MANAGER'\n",
            " 'COMPUTER INFORMATION SYSTEMS MANAGERS'\n",
            " 'COMPUTER AND INFORMATION SYSTEMS' 'FINANCIAL MANAGERS'\n",
            " 'TREASURERS AND CONTROLLERS' 'FINANCE MANAGERS'\n",
            " 'FINANCIAL MANAGERS, BRANCH OR DEPARTMENT'\n",
            " 'INDUSTRIAL PRODUCTION MANAGERS' 'QUALITY CONTROL SYSTEMS MANAGERS'\n",
            " 'PURCHASING MANAGERS'\n",
            " 'TRANSPORTATION, STORAGE, AND DISTRIBUTION MANAGERS' 'LOGISTICS MANAGERS'\n",
            " 'COMPENSATION AND BENEFITS MANAGERS' 'COMPENSATION AND BENEFITS MANAGER'\n",
            " 'HUMAN RESOURCES MANAGERS' 'TRAINING AND DEVELOPMENT MANAGERS'\n",
            " 'FARMERS, RANCHERS, AND OTHER AGRICULTURAL MANAGERS'\n",
            " 'CONSTRUCTION MANAGERS' 'CONSTRUCTION MANAGER' 'CONSTRUCTIONS MANAGERS'\n",
            " 'EDUCATION ADMINISTRATORS, PRESCHOOL AND CHILDCARE CENTER/PROGRAM'\n",
            " 'EDUCATION ADMINISTRATORS, PRESCHOOL AND CHILDCARE'\n",
            " 'EDUCATION ADMINISTRATORS, ELEMENTARY AND SECONDARY'\n",
            " 'EDUCATION ADMINISTRATORS, ELEMENTARY AND SECONDARY SCHOOL'\n",
            " 'EDUCATION ADMINISTRATORS, POSTSECONDARY' 'CHIEF EXECUTIVE OFFICER'\n",
            " 'EDUCATION ADMINISTRATORS, ALL OTHER'\n",
            " 'ARCHITECTURAL AND ENGINEERING MANAGERS' 'ENGINEERING MANAGERS'\n",
            " 'FOOD SERVICE MANAGERS' 'LODGING MANAGERS'\n",
            " 'MEDICAL AND HEALTH SERVICES MANAGERS' 'NATURAL SCIENCES MANAGERS'\n",
            " 'CLINICAL RESEARCH COORDINATORS' 'NATURAL SCIENCES MANAGER'\n",
            " 'PROPERTY, REAL ESTATE, AND COMMUNITY ASSOCIATION MANAGERS'\n",
            " 'PROPERTY, REAL ESTATE, AND COMMUNITY ASSOCIATION'\n",
            " 'PROPERTY, REAL ESTATE, AND COMMUNITY ASSOCIATION M'\n",
            " 'PROPERTY, REAL ESTATE MANAGERS' 'SOCIAL AND COMMUNITY SERVICE MANAGERS'\n",
            " 'EMERGENCY MANAGEMENT DIRECTORS' 'MANAGERS, ALL OTHER'\n",
            " 'COMPLIANCE MANAGERS' 'REGULATORY AFFAIRS MANAGERS'\n",
            " 'INVESTMENT FUND MANAGERS' 'SUPPLY CHAIN MANAGERS' 'CHIEF EXECUTIVES'\n",
            " 'GENERAL AND OPERATIONS MANAGERS' 'GENERAL AND OPERATIONS MANAGER'\n",
            " 'PRODUCTION COORDINATOR' 'SECURITY MANAGERS'\n",
            " 'AGENTS AND BUSINESS MANAGERS OF ARTISTS, PERFORMER'\n",
            " 'AGENTS AND BUSINESS MANAGERS OF ARTISTS, PERFORMERS, AND ATHLETES'\n",
            " 'AGENTS AND BUSINESS MANAGERS OF ARTISTS,'\n",
            " 'BUYERS AND PURCHASING AGENTS, FARM PRODUCTS'\n",
            " 'WHOLESALE AND RETAIL BUYERS, EXCEPT FARM PRODUCTS'\n",
            " 'PURCHASING AGENTS, EXCEPT WHOLESALE, RETAIL, AND'\n",
            " 'PURCHASING AGENTS, EXCEPT WHOLESALE, RETAIL, AND FARM PRODUCTS'\n",
            " 'PURCHASING AGENTS, EXCEPT WHOLESALE, RETAIL, AND F'\n",
            " 'PURCHASING AGENTS, EXCEPT WHOLESALE, RETAIL & FARM'\n",
            " 'PURCHASING AGNT,EXCEPT WHOLESALE,RETAIL&FARM PRODT'\n",
            " 'CLAIMS ADJUSTERS, EXAMINERS, AND INVESTIGATORS' 'COMPLIANCE OFFICERS'\n",
            " 'REGULATORY AFFAIRS SPECIALISTS' 'REGULATORY AFFAIRS SPECALISTS'\n",
            " 'REGULATORY AFFAIRS SPECIALIST' 'COST ESTIMATORS' 'COST ESTIMATOR'\n",
            " 'HUMAN RESOURCES SPECIALISTS' 'HUMAN RESOURCES SPECIALIST'\n",
            " 'HUMAN RESOURCE SPECIALIST' 'HUMAN RESOURCE SPECIALISTS'\n",
            " 'LABOR RELATIONS SPECIALISTS' 'LOGISTICIANS' 'LOGISTICS ANALYST'\n",
            " 'LOGISTICS ANALYSTS' 'LOGISTICS ENGINEERS' 'LOGISTICIAN'\n",
            " 'MANAGEMENT ANALYSTS' 'MANAGEMENT ANALYST' 'MANAGEMENT ANALYTST'\n",
            " 'MANAGEMANT ANALYSTS' 'MANAGEMENT ANALYSIS'\n",
            " 'MEETING, CONVENTION, AND EVENT PLANNERS' 'FUNDRAISERS'\n",
            " 'COMPENSATION, BENEFITS, AND JOB ANALYSIS SPECIALISTS'\n",
            " 'COMPENSATION, BENEFITS, AND JOB ANALYSIS'\n",
            " 'COMPENSATION, BENEFITS, & JOB ANALYSIS SPECIALISTS'\n",
            " 'COMPENSATION BENEFITS MANAGER' 'TRAINING AND DEVELOPMENT SPECIALISTS'\n",
            " 'TRAINING AND DEVELOPMENT SPECIALIST'\n",
            " 'MARKET RESEARCH ANALYSTS AND MARKETING SPECIALISTS'\n",
            " 'MARKET RESEARCH ANALYSTS & MARKETING SPECIALISTS'\n",
            " 'MARKETING RESEARCH ANALYSTS AND MARKETING SPECIALI'\n",
            " 'MARKET RESEARCH ANALYSTS AND MARKETING'\n",
            " 'MARKET RESEARCH ANALYST AND MARKETING SPECIALIST'\n",
            " 'MARKET RESEARCH ANALYST AND MARKETING SPECIALISTS'\n",
            " 'MARKET RESEARCH ANALYST' 'MARKET RESEARCH ANALYSTS'\n",
            " 'MARKET RESEARCH ANALYSTS AND MARKETING SPECIALIST'\n",
            " 'MARKET RESEARCH ANALYSTS AND MARKETING SCPECIALIST'\n",
            " 'BUSINESS OPERATIONS SPECIALISTS, ALL OTHER' 'SUSTAINABILITY SPECIALISTS'\n",
            " 'ACCOUNTANTS' 'ACCOUNTANT' 'ACCOUNTANTS AND AUDOTORS'\n",
            " 'ACCOUNTS AND AUDITORS' 'AUDITORS'\n",
            " 'APPRAISERS AND ASSESSORS OF REAL ESTATE' 'BUDGET ANALYSTS'\n",
            " 'CREDIT ANALYSTS' 'FINANCIAL ANALYSTS' 'FINANCIAL ANALYST'\n",
            " 'RISK MANAGEMENT SPECIALISTS' 'PERSONAL FINANCIAL ADVISORS'\n",
            " 'PERSONAL FINANCIAL ADVISOR' 'INSURANCE UNDERWRITERS'\n",
            " 'FINANCIAL EXAMINERS' 'CREDIT COUNSELORS' 'LOAN OFFICERS'\n",
            " 'TAX EXAMINERS AND COLLECTORS, AND REVENUE AGENTS' 'TAX PREPARERS'\n",
            " 'FINANCIAL SPECIALISTS, ALL OTHER' 'FINANCIAL QUANTITATIVE ANALYSTS'\n",
            " 'FINANCIAL QUANTITATIVE ANALYST' 'RISK MANAGEMENT SPECIALIST'\n",
            " 'COMPUTER PROGRAMMERS' 'COMPUTER PROGRAMMERS, NON R&D'\n",
            " 'COMPUTER PROGRAMMERS, R&D' 'COMPUTER PROGRAMMERS R & D'\n",
            " 'SOFTWARE DEVELOPERS, APPLICATIONS, NON R&D'\n",
            " 'SOFTWARE DEVELOPERS, APPLICATIONS, NON R & D'\n",
            " 'SOFTWARE DEVELOPERS, APPLICATIONS, NONR&D'\n",
            " 'SOFTWARE DEVELOPERS, APPLICATIONS, R&D'\n",
            " 'SOFTWARE DEVELOPERS, APPLICATIONS, R&AMP;D'\n",
            " 'SOFTWARE DEVELOPERS, SYSTEMS SOFTWARE, NON R&D'\n",
            " 'SOFTWARE DEVELOPERS, SYSTEMS SOFTWARE, R&AMP;D'\n",
            " 'SOFTWARE DEVELOPERS, SYSTEMS SOFTWARE, R&D' 'COMPUTER SYSTEMS ANALYSTS'\n",
            " 'COMPUTER SYSTEMS ANALYSTS, NON R&D'\n",
            " 'COMPUTER SYSTEMS ANALYSTS, NON R&AMP;D'\n",
            " 'COMPUTER SYSTEMS ANALYSTS, NON R&D COMPUTER SYSTEM'\n",
            " 'COMPUTER SYSTEMS ANALYSTS, R&D' 'COMPUTER NETWORK ARCHITECTS, NON R&D'\n",
            " 'COMPUTER NETWORK ARCHITECTS, R&D'\n",
            " 'SOFTWARE QUALITY ASSURANCE ENGINEERS AND TESTERS'\n",
            " 'COMPUTER OCCUPATIONS, ALL OTHER' 'COMPUTER SYSTEMS ENGINEERS/ARCHITECTS'\n",
            " 'COMPUTER AND INFORMATION RESEARCH SCIENTISTS' 'RESEARCH ENGINEER'\n",
            " 'COMPUTER AND INFORMATION RESEARCH SCIENTIST'\n",
            " 'COMPUTER & INFORMATION RESEARCH SCIENTISTS'\n",
            " 'COMPUTER AND INFORMATION RESEARCH SCIENCES'\n",
            " 'MPUTER AND INFORMATION RESEARCH SCIENTISTS' 'COMPUTER SYSTEMS ANALYST'\n",
            " 'COMPUTER SYSTEM ANALYST' '15-1121' 'INFORMATION SECURITY ANALYSTS'\n",
            " 'INFORMATION SECURITY ANALYST' 'COMPUTER PROGRAMMER'\n",
            " 'COMPTUER PROGRAMMERS' 'SENIOR SOFTWARE DEVELOPER'\n",
            " 'SOFTWARE DEVELOPER - APPLICATIONS' 'SOFTWARE DEVELOPER APPLICATIONS'\n",
            " 'SOFTWARE DEVELOPERS,APPLICATIONS' 'SOFTWARE DEVELOPERS, APLICATIONS'\n",
            " 'SOFTWARE DEVELOPERS. APPLICATIONS' 'SOFTWARE DEVELOPRS, APPLICATIONS'\n",
            " 'SOFTWARE DEVELOPERS, APPLICAITONS' 'SOFTWARE SEVELOPERS, APPLICATIONS'\n",
            " 'SOFTWARE DEVLOPERS, APPLICATIONS' 'SOFTWARE DEVELOPERS, APPPLICATIONS'\n",
            " 'SOFTWARE DEVELOPERS, APPLICANTIONS' 'SOFTWARE DEVVELOPERS, APPLICATIONS'\n",
            " 'SOFTWARE DEVLOPER, APPLICATIONS' 'SOTWARE DEVELOPERS, APPLICATIONS'\n",
            " 'SOFTWARE DEVELPER, APPLICATIONS' 'TESTING ENGINEERING SPECIALIST'\n",
            " 'SOFTWARE DEVELOPERS, APPLICTAIONS' 'SOFTWARE DEVELOPERS, APPLICATINS'\n",
            " 'SOFTWARE DEVELOPER' 'SOFTWARE DEVELOPERS - APPLICATIONS'\n",
            " 'SOFTWARE DEVELOPER APPLICATION' 'SOFTARE DEVELOPERS, APPLICATIONS'\n",
            " 'SOFTWARE APPLICATIONS, DEVELOPERS' 'SOFTWARE DEVELOPERS'\n",
            " 'SOFWARE DEVELOPER, APPLICATIONS' 'FTWARE DEVELOPERS, APPLICATIONS'\n",
            " 'SOFTWARE DEVELOPERS, APPLICTIONS' 'SOFWRE DEVELOPERS, APPLICATIONS'\n",
            " 'SOFWARE DEVELOPERS, APPLICATIONS' 'SOFTWARE DEVELOPER, SYSTEMS'\n",
            " 'SOFTWARE DEVELOPER, SYSTEMS SOFTWARE' 'SENIOR VALIDATION ENGINEER'\n",
            " 'SOFTWARE DEVELOPERS,SYSTEMS SOFTWARE'\n",
            " 'SOFTWARE DEVELOPERS, SYSTEMS SOTWARE'\n",
            " 'SOFTWARE DEVELOPERS,  SYSTEMS SOFTWARE'\n",
            " 'SOFTWARE DEVELOPERS, SYSTEM SOFTWARE' 'SOFTWARE DEVELOPERS, SYSTEMS'\n",
            " 'BIOLOGICAL SCIENTISTS, ALL OTHER'\n",
            " 'SOFTWARE DEVELOPERS , SYSTEMS SOFTWARE' 'SOFTWARE QUALITY ASSURANCE'\n",
            " 'SOFTWARE DEVLEOPERS, SYSTEMS SOFTWARE' 'WEB DEVELOPERS'\n",
            " 'DATABASE ADMINISTRATORS' 'DATABASE ADMINISTRATOR' 'DATABASE ARCHITECT'\n",
            " 'DATABASE ADMINITRATORS' 'NETWORK AND COMPUTER SYSTEMS ADMINISTRATORS'\n",
            " 'NETWORK AND COMPUTER SYSTEMS ADMINISTRATOR'\n",
            " 'NETWORK AND COMPUTER SYSTEMS ADMNISTRATORS'\n",
            " 'NETWORK AND COMPUTER SYTEMS ADMINISTRATORS'\n",
            " 'COMPUTER NETWORK ARCHITECTS' 'COMPUTER NETWORKS ARCHITECTS'\n",
            " 'COMPUTER SUPPORT SPECIALIST' 'COMPUTER USER SUPPORT SPECIALISTS'\n",
            " 'COMPUTER NETWORK SUPPORT SPECIALISTS'\n",
            " 'COMPUTER NETWORK SUPPORT SPECIALIST'\n",
            " 'INFORMATION SECURITY ANALYSTS, WEB DEVELOPERS, AND'\n",
            " 'COMPUTER APPLICATIONS, ALL OTHER' 'BUSINESS INTELLIGENCE ANALYSTS'\n",
            " 'COMPUTER OCCUPATION, ALL OTHERS'\n",
            " 'INFORMATION TECHNOLOGY PROJECT MANAGERS' 'SYSTEMS ARCHITECTS'\n",
            " 'GEOSPATIAL INFORMATION SCIENTISTS AND TECHNOLOGIST'\n",
            " 'COMPUTER OCCUPATIONS,ALL OTHER' 'BUSINESS INTELLIGENCE ANALYST'\n",
            " 'DOCUMENT MANAGEMENT SPECIALISTS' 'DATABASE ARCHITECTS'\n",
            " 'WEB ADMINISTRATORS' 'DATA WAREHOUSING SPECIALISTS'\n",
            " 'SOFTWARE QUALITY ASSURANCE ENGINEERS' 'INFORMATION TECHNOLOGY MANAGERS'\n",
            " 'COMPUTER SYSTEMS ENGINEERS/ ARCHITECTS'\n",
            " 'SOFTWARE QUALITY ENGINEERS AND TESTERS'\n",
            " 'COMPUTER OCCUPATIONS,  ALL OTHER' 'SOFTWARE QA ENG + TEST'\n",
            " 'COMPUTER SYSTEM ENG / ARCHITECT' 'COMPUTER OCCUPATIONS,ALL OTHERS'\n",
            " 'COMPUTER OCCUPATIONS, ALL OTHERS' 'IT PROJECT MANAGERS'\n",
            " 'SEARCH MARKETING STRATEGISTS' 'INFORMATION TECHNOLOGY PROJECT MANAGER'\n",
            " 'INFORMATION TECHNOLOGY PRODUCT MANAGERS'\n",
            " 'QUALITY ASSURANCE ENGINEERS AND TESTERS'\n",
            " 'COMPUTER OCCUPATIONS - ALL OTHER'\n",
            " 'INFORMATION TECHOLOGY PROJECT MANAGERS' 'VIDEO GAME DESIGNERS'\n",
            " 'SEARCH MARKETING STRATEGIST' 'CUMPUTER OCCUPATIONS, ALL OTHER'\n",
            " 'COMPUTER OCCPATIONS, ALL OTHER' 'SENIOR SOFTWARE ENGINEER'\n",
            " 'COMPUTER OCCUPATONS, ALL OTHER' 'COMPUTER OCUPATIONS, ALL OTHER'\n",
            " 'COMPUTER OCCUPATIONS. ALL OTHER' 'MPUTER OCCUPATIONS, ALL OTHER'\n",
            " 'COMPUTER OCCUPATION, ALL OTHER' 'COMPUTER OCCCUPATIONS, ALL OTHER'\n",
            " 'COMPUTER SYSTEMS ENGINEERS/ARCHITECT'\n",
            " 'GEOSPATIAL INFO. SCIENTISTS AND TECHNOLOGISTS'\n",
            " 'SQA ENGINEERS AND TESTERS' 'COMPUTERS SYSTEMS ENGINEERS/ARCHITECTS'\n",
            " 'COMPUTER SYSTEMS ENGINEERS' 'ACTUARIES' 'MATHEMATICIANS' 'MATHEMATICIAN'\n",
            " 'OPERATIONS RESEARCH ANALYST' 'OPERATION RESEARCH ANALYSTS'\n",
            " 'STATISTICIANS' 'BIOSTATISTICIANS' 'STATISTICIAN' 'BIOSTATISTICIAN'\n",
            " 'CLINICAL DATA MANAGERS' 'STATISTIANS' 'STASTICIANS' 'STATISICIANS'\n",
            " 'BIOSTATISTIANS' 'MATHEMATICAL TECHNICIANS'\n",
            " 'MATHEMATICAL SCIENCE OCCUPATIONS, ALL OTHER'\n",
            " 'ARCHITECTS, EXCEPT LANDSCAPE AND NAVAL' 'LANDSCAPE ARCHITECTS'\n",
            " 'CARTOGRAPHERS AND PHOTOGRAMMETRISTS' 'SURVEYORS' 'AEROSPACE ENGINEERS'\n",
            " 'AEROSPACE ENGINEER' 'AGRICULTURAL ENGINEERS' 'BIOMEDICAL ENGINEERS'\n",
            " 'BIOMEDICAL ENGINEER' 'CHEMICAL ENGINEERS' 'CIVIL ENGINEERS'\n",
            " 'CIVIL ENGINEER' 'TRANSPORTATION ENGINEERS' 'CIVIL ENGINEERS, NON-R&D'\n",
            " 'CIVIL ENGINEERS, R&D' 'COMPUTER HARDWARE ENGINEERS'\n",
            " 'VLSI DESIGN VERIFICATION ENGINEER' 'COMPUTER HARDWARE ENGINEER'\n",
            " 'COMPUTER HARDWARE ENGINEERS, NON-R&D' 'COMPUTER HARDWARE ENGINEERS, R&D'\n",
            " 'COMPUTER HARDWARE ENGINEERS, R & D' 'ELECTRICAL ENGINEERS'\n",
            " 'ELECTRICAL  ENGINEERS' 'ELECTRICAL ENGINEER' 'ELECTRICAL ENGINEERING'\n",
            " 'ELECTRONICS ENGINEERS, EXCEPT COMPUTER'\n",
            " 'ELECTRONIC ENGINEERS, EXCEPT COMPUTER'\n",
            " 'ELECTONICS ENGINEERS, EXCEPT COMPUTER'\n",
            " 'ELECTRONICS ENGINEER, EXCEPT COMPUTER' '17-2072'\n",
            " 'ELECTRICAL ENGINEERS, NON-R&D' 'ELECTRICAL ENGINEERS, NON R&D'\n",
            " 'ELECTRICAL ENGINEERS, R&D' 'ELECTRONICS ENGINEERS, EXCEPT COMPUTER,'\n",
            " 'ELECTRONICS ENGINEERS, EXCEPT COMPUTER, NON-R&D'\n",
            " 'ELECTRONICS ENGINEERS, EXCEPT COMPUTER, R&D' 'ENVIRONMENTAL ENGINEERS'\n",
            " 'WATER/WASTEWATER ENGINEERS' 'WATER / WASTEWATER ENGINEERS'\n",
            " 'WATER / WASTEWATER ENGINEER' 'ENVIROMENTAL ENGINEERS'\n",
            " 'HEALTH AND SAFETY ENGINEERS, EXCEPT MINING SAFETY'\n",
            " 'HEALTH AND SAFETY ENGINEERS, EXCEPT MINING SAFETY ENGINEERS AND INSPECTORS'\n",
            " 'HEALTH AND SAFETY ENGS., EXCEPT MINING SAFETY ENGS'\n",
            " 'HUMAN FACTORS ENGINEERS AND ERGONOMISTS' 'INDUSTRIAL ENGINEER'\n",
            " 'MARINE ENGINEERS AND NAVAL ARCHITECTS' 'MATERIALS ENGINEERS'\n",
            " 'MATERIALS ENGINEER' 'MECHANICAL ENGINEER' 'MECHANICAL ENGINEERS'\n",
            " 'MECHANCIAL ENGINEER' 'MECHANICAL ENGINEEERS' 'QUALITY ENGINEER'\n",
            " 'AUTOMOTIVE ENGINEERS' 'SENIOR MECHANICAL ENGINEER'\n",
            " 'MECHANICAL ENGINEERS, NON-R&D' 'MECHANICAL ENGINEERS, R&D'\n",
            " 'MINING AND GEOLOGICAL ENGINEERS, INCLUDING MINING'\n",
            " 'MINING AND GEOLOGICAL ENGINEERS, INCLUDING MINING SAFETY ENGINEERS'\n",
            " 'MINING AND GEOLOGICAL ENGINEERS'\n",
            " 'MINING AND GEOLOGICAL ENG INCL MINING SAFETY ENG' 'NUCLEAR ENGINEERS'\n",
            " 'PETROLEUM ENGINEERS' 'VALIDATION ENGINEER' 'ENGINEERS, ALL OTHER'\n",
            " 'ENGINEERS, ALL OTHERS' 'MANUFACTURING ENGINEERS'\n",
            " 'MECHATRONICS ENGINEERS' 'MANUFACTURING ENGINEER'\n",
            " 'MICROSYSTEMS ENGINEERS' 'VALIDATION ENGINEERS' 'ROBOTICS ENGINEERS'\n",
            " 'PHOTONICS ENGINEERS' 'ENERGY ENGINEERS' 'ROBOTICS ENGINEER'\n",
            " 'NANOSYSTEMS ENGINEERS' 'BIOCHEMICAL ENGINEERS' 'GINEERS, ALL OTHER'\n",
            " 'ARCHITECTURAL AND CIVIL DRAFTERS' 'ARCHITECTURAL & CIVIL DRAFTERS'\n",
            " 'ARCHITECTURAL DRAFTERS' 'ELECTRICAL AND ELECTRONICS DRAFTERS'\n",
            " 'MECHANICAL DRAFTERS' 'DRAFTERS, ALL OTHER'\n",
            " 'AEROSPACE ENGINEERING AND OPERATIONS TECHNICIANS'\n",
            " 'CIVIL ENGINEERING TECHNICIANS'\n",
            " 'ELECTRICAL AND ELECTRONIC ENGINEERING TECHNICIANS'\n",
            " 'ELECTRO-MECHANICAL TECHNICIANS' 'ENVIRONMENTAL ENGINEERING TECHNICIANS'\n",
            " 'INDUSTRIAL ENGINEERING TECHNICIANS' 'MECHANICAL ENGINEERING TECHNICIANS'\n",
            " 'ENGINEERING TECHNICIANS, EXCEPT DRAFTERS, ALL OTHER'\n",
            " 'ENGINEERING TECHNICIANS, EXCEPT DRAFTERS, ALL'\n",
            " 'ELECTROMECHANICAL ENGINEERING TECHNOLOGISTS'\n",
            " 'ENGINEERING TECHNICIANS, EXCEPT DRAFTERS, ALL OTHE'\n",
            " 'ENGINEERING TECHNICIANS, EXCEPT DRAFTERS'\n",
            " 'ENGINEERING TECH, EXCEPT DRAFTERS, ALL OTHER'\n",
            " 'ELECTRICAL ENGINEERING TECHNOLOGISTS'\n",
            " 'SURVEYING AND MAPPING TECHNICIANS' 'ANIMAL SCIENTISTS'\n",
            " 'FOOD SCIENTISTS AND TECHNOLOGISTS' 'SOIL AND PLANT SCIENTISTS'\n",
            " 'SOIL AND PLANT SCIENTIST' 'BIOCHEMISTS AND BIOPHYSICISTS'\n",
            " 'BIOCHEMISTS & BIOPHYSICISTS' 'MICROBIOLOGISTS' 'MICROBIOLOGIST'\n",
            " 'ZOOLOGISTS AND WILDLIFE BIOLOGISTS' 'MOLECULAR & CELLULAR BIOLOGISTS'\n",
            " 'BIOINFORMATICS SCIENTISTS' 'BIOLOGICAL SCIENTIST, ALL OTHER'\n",
            " 'MOLECULAR AND CELLULAR BIOLOGISTS' 'BIOINFORMATICS SCIENTIST'\n",
            " 'BIOLOGICAL SCIENTISTS' 'SOLUTION CONSULTANT'\n",
            " 'BIOLOGICAL SCIENCES, ALL OTHER' 'BIOININFORMATICS SCIENTISTS'\n",
            " 'BIOLOGICAL SCIENTISTS, ALL OTHERS' 'GENETICISTS'\n",
            " 'CONSERVATION SCIENTISTS' 'FORESTERS' 'EPIDEMIOLOGISTS'\n",
            " 'MEDICAL SCIENTISTS, EXCEPT EPIDEMIOLOGISTS'\n",
            " 'MEDICAL SCIENTISTS, EXCEPT EPIDEMIOLOGIST' 'LIFE SCIENTISTS, ALL OTHER'\n",
            " 'ASTRONOMERS' 'PHYSICISTS' 'PHYSICIST' 'ATMOSPHERIC AND SPACE SCIENTISTS'\n",
            " 'CHEMISTS' 'CHEMIST' 'MATERIALS SCIENTISTS' 'MTERIALS SCIENTISTS'\n",
            " 'MATERIALS SCIENTIST' 'MATERIAL SCIENTISTS'\n",
            " 'ENVIRONMENTAL SCIENTISTS AND SPECIALISTS,'\n",
            " 'ENVIRONMENTAL SCIENTISTS AND SPECIALISTS, INCLUDING HEALTH'\n",
            " 'ENVIRONMENTAL AND SCIENTISTS SPECIALISTS'\n",
            " 'ENVIRONMENTAL SCIENTISTS AND SPECIALISTS, INCLUDIN'\n",
            " 'ENVIRONMENTAL SCIENTISTS AND SPECIALISTS'\n",
            " 'GEOSCIENTISTS, EXCEPT HYDROLOGISTS AND GEOGRAPHERS'\n",
            " 'GEOSCIENTISTS, EXCEPT HYDROLOGISTS & GEOGRAPHERS' 'HYDROLOGISTS'\n",
            " 'PHYSICAL SCIENTISTS, ALL OTHER'\n",
            " 'REMOTE SENSING SCIENTISTS AND TECHNOLOGISTS' 'ECONOMISTS' 'ECONOMIST'\n",
            " 'ENVIRONMENTAL ECONOMISTS' 'SURVEY RESEARCHERS'\n",
            " 'CLINICAL, COUNSELING, AND SCHOOL PSYCHOLOGISTS'\n",
            " 'INDUSTRIAL-ORGANIZATIONAL PSYCHOLOGISTS' 'PSYCHOLOGISTS, ALL OTHER'\n",
            " 'PYSCHOLOGISTS, ALL OTHER'\n",
            " 'NEUROPSYCHOLOGISTS AND CLINICAL NEUROPSYCHOLOGISTS' 'SOCIOLOGISTS'\n",
            " 'URBAN AND REGIONAL PLANNERS' 'ANTHROPOLOGISTS AND ARCHEOLOGISTS'\n",
            " 'GEOGRAPHERS' 'HISTORIANS' 'POLITICAL SCIENTISTS'\n",
            " 'SOCIAL SCIENTISTS AND RELATED WORKERS, ALL OTHER'\n",
            " 'TRANSPORTATION PLANNERS'\n",
            " 'SOCIAL SCIENTISTS AND RELATED WORKERS, ALL OTHERS'\n",
            " 'AGRICULTURAL AND FOOD SCIENCE TECHNICIANS' 'BIOLOGICAL TECHNICIANS'\n",
            " 'CHEMICAL TECHNICIANS' 'GEOLOGICAL AND PETROLEUM TECHNICIANS'\n",
            " 'NUCLEAR TECHNICIANS' 'SOCIAL SCIENCE RESEARCH ASSISTANTS'\n",
            " 'ENVIRONMENTAL SCIENCE AND PROTECTION TECHNICIANS, INCLUDING HEALTH'\n",
            " 'ENVIRONMENTAL SCIENCE AND PROTECTION TECHNICIANS,'\n",
            " 'ENVIRONMENTAL SCIENCE AND PROTECTION TECHNICIAN'\n",
            " 'FORENSIC SCIENCE TECHNICIANS' 'FOREST AND CONSERVATION TECHNICIANS'\n",
            " 'LIFE, PHYSICAL, AND SOCIAL SCIENCE TECHNICIANS, ALL OTHER'\n",
            " 'LIFE, PHYSICAL, AND SOCIAL SCIENCE TECHNICIANS,'\n",
            " 'QUALITY CONTROL ANALYSTS'\n",
            " 'SUBSTANCE ABUSE AND BEHAVIORAL DISORDER COUNSELORS'\n",
            " 'EDUCATIONAL, GUIDANCE, SCHOOL, AND VOCATIONAL COUNSELORS'\n",
            " 'EDUCATIONAL, GUIDANCE, SCHOOL, AND VOCATIONAL'\n",
            " 'EDUCATIONAL, GUIDANCE, SCHOOL, AND VOCATIONAL CO'\n",
            " 'EDUCATIONAL, GUIDANCE, SCHOOL, AND VOCATIONAL COUN'\n",
            " 'MARRIAGE AND FAMILY THERAPISTS' 'MENTAL HEALTH COUNSELORS'\n",
            " 'REHABILITATION COUNSELORS' 'COUNSELORS, ALL OTHER'\n",
            " 'CHILD, FAMILY, AND SCHOOL SOCIAL WORKERS' 'HEALTHCARE SOCIAL WORKERS'\n",
            " 'MENTAL HEALTH AND SUBSTANCE ABUSE SOCIAL WORKERS'\n",
            " 'SOCIAL WORKERS, ALL OTHER' 'HEALTH EDUCATORS'\n",
            " 'PROBATION OFFICERS AND CORRECTIONAL TREATMENT SPECIALISTS'\n",
            " 'SOCIAL AND HUMAN SERVICE ASSISTANTS' 'COMMUNITY HEALTH WORKERS'\n",
            " 'COMMUNITY AND SOCIAL SERVICE SPECIALISTS, ALL OTHER'\n",
            " 'COMMUNITY AND SOCIAL SERVICE SPECIALISTS, ALL' 'CLERGY'\n",
            " 'DIRECTORS, RELIGIOUS ACTIVITIES AND EDUCATION'\n",
            " 'RELIGIOUS WORKERS, ALL OTHER' 'LAWYERS' 'JUDICIAL LAW CLERKS'\n",
            " 'ARBITRATORS, MEDIATORS, AND CONCILIATORS'\n",
            " 'PARALEGALS AND LEGAL ASSISTANTS' 'LEGAL SUPPORT WORKERS, ALL OTHER'\n",
            " 'LEGAL SUPPORT WORKERS' 'BUSINESS TEACHERS, POSTSECONDARY'\n",
            " 'BUSINESS TEACHER, POSTSECONDARY' 'BUSINESS TEACHERS POSTSECONDARY'\n",
            " 'BUSINESS TEACHERS, POST SECONDARY' 'BUSINESS, TEACHERS, POSTSECONDARY'\n",
            " 'BUSINESS TEACHERS' 'COMPUTER SCIENCE TEACHERS, POSTSECONDARY'\n",
            " 'ASSISTANT PROFESSOR' 'COMPUTER SCIENCE TEACHER POSTSECONDARY'\n",
            " 'MATHEMATICAL SCIENCE TEACHERS, POSTSECONDARY'\n",
            " 'MATHEMATICAL SCIENCE TEACHERS, SECONDARY'\n",
            " 'ARCHITECTURE TEACHERS, POSTSECONDARY'\n",
            " 'ENGINEERING TEACHERS, POSTSECONDARY'\n",
            " 'AGRICULTURAL SCIENCES TEACHERS, POSTSECONDARY'\n",
            " 'AGRICULTURAL SCIENCE TEACHERS, POSTSECONDARY'\n",
            " 'BIOLOGICAL SCIENCE TEACHERS, POSTSECONDARY'\n",
            " 'FORESTRY AND CONSERVATION SCIENCE TEACHERS, POSTSECONDARY'\n",
            " 'FORESTRY AND CONSERVATION SCIENCE TEACHERS,'\n",
            " 'ATMOSPHERIC, EARTH, MARINE, AND SPACE SCIENCES'\n",
            " 'ATMOSPHERIC, EARTH, MARINE, & SPACE SCIENCES TEACH'\n",
            " 'ATMOSPHERIC, EARTH, MARINE, AND SPACE SCIENCES TEA'\n",
            " 'ATMOSPHERIC, EARTH, MARINE, AND SPACE SCIENCES TEACHERS, POSTSECONDARY'\n",
            " 'ATMOSPHERIC, EARTH, MARINE & SPACE SCIENCES TEACHE'\n",
            " 'CHEMISTRY TEACHERS, POSTSECONDARY' 'CHEMISTRY TEACHERS, POST SECONDARY'\n",
            " 'ENVIRONMENTAL SCIENCE TEACHERS, POSTSECONDARY'\n",
            " 'PHYSICS TEACHERS, POSTSECONDARY' 'ANTHROPOLOGY AND ARCHEOLOGY TEACHERS,'\n",
            " 'ANTHROPOLOGY AND ARCHEOLOGY TEACHERS, POSTSECONDAR'\n",
            " 'ANTHROPOLOGY AND ARCHEOLOGY TEACHERS, POSTSECONDARY'\n",
            " 'AREA, ETHNIC, AND CULTURAL STUDIES TEACHERS, POSTSECONDARY'\n",
            " 'AREA, ETHNIC, AND CULTURAL STUDIES TEACHERS,'\n",
            " 'AREA, ETHNIC, AND CULTURAL STUDIES TEACHERS, POSTS'\n",
            " 'AREA, ETHNIC, AND CULTURAL STUDIES TEACHERS'\n",
            " 'ECONOMICS TEACHERS, POSTSECONDARY' 'ECONOMIC TEACHERS, POSTSECONDARY'\n",
            " 'GEOGRAPHY TEACHERS, POSTSECONDARY'\n",
            " 'POLITICAL SCIENCE TEACHERS, POSTSECONDARY'\n",
            " 'PSYCHOLOGY TEACHERS, POSTSECONDARY' 'SOCIOLOGY TEACHERS, POSTSECONDARY'\n",
            " 'SOCIAL SCIENCES TEACHERS, POSTSECONDARY, ALL OTHER'\n",
            " 'SOCIAL SCIENCE TEACHERS, POSTSECONDARY, ALL OTHER'\n",
            " 'SOCIAL SCIENCES TEACHERS, POSTSECONDARY'\n",
            " 'HEALTH SPECIALTIES TEACHERS, POSTSECONDARY'\n",
            " 'HEALTH SPECIALTIES TEACHER, POSTSECONDARY'\n",
            " 'NURSING INSTRUCTORS AND TEACHERS, POSTSECONDARY'\n",
            " 'EDUCATION TEACHERS, POSTSECONDARY'\n",
            " 'LIBRARY SCIENCE TEACHERS, POSTSECONDARY'\n",
            " 'CRIMINAL JUSTICE AND LAW ENFORCEMENT TEACHERS,'\n",
            " 'CRIMINAL JUSTICE AND LAW ENFORCEMENT TEACHERS, POSTSECONDARY'\n",
            " 'LAW TEACHERS, POSTSECONDARY' 'SOCIAL WORK TEACHERS, POSTSECONDARY'\n",
            " 'ART, DRAMA, AND MUSIC TEACHERS, POSTSECONDARY'\n",
            " 'ART, DRAMA, MUSIC TEACHERS, POSTSECONDARY'\n",
            " 'COMMUNICATIONS TEACHERS, POSTSECONDARY'\n",
            " 'ENGLISH LANGUAGE AND LITERATURE TEACHERS,'\n",
            " 'ENGLISH LANGUAGE AND LITERATURE TEACHERS, POSTSECONDARY'\n",
            " 'ENGLISH LANGUAGE AND LITERATURE TEACHERS, POSTSECO'\n",
            " 'ENGLISH LANGUAGE & LITERATURE TEACHERS, POSTSECOND'\n",
            " 'FOREIGN LANGUAGE AND LITERATURE TEACHERS, POSTSECONDARY'\n",
            " 'FOREIGN LANGUAGE AND LITERATURE TEACHERS,'\n",
            " 'FOREIGN LANGUAGE AND LITERATURE TEACHERS, POSTSECO'\n",
            " 'FOREIGN LANGUAGE & LIT TEACHERS, POSTSECONDARY'\n",
            " 'FOREIGN LANGUAGE & LITERATURE TEACHERS, POSTSECOND'\n",
            " 'FOREIGN LANGUAGE & LIT. TEACHERS, POSTSECONDARY'\n",
            " 'HISTORY TEACHERS, POSTSECONDARY' 'HISTORY TEACHER, POSTSECONDARY'\n",
            " 'PHILOSOPHY AND RELIGION TEACHERS, POSTSECONDARY'\n",
            " 'GRADUATE TEACHING ASSISTANTS' 'HOME ECONOMICS TEACHERS, POSTSECONDARY'\n",
            " 'RECREATION AND FITNESS STUDIES TEACHERS,'\n",
            " 'RECREATION AND FITNESS STUDIES TEACHERS, POSTSECONDARY'\n",
            " 'RECREATION AND FITNESS STUDIES TEACHERS, POSTSECON'\n",
            " 'RECREATION AND FITNESS STUDIES TEACHER, POSTSECOND'\n",
            " 'VOCATIONAL EDUCATION TEACHERS, POSTSECONDARY'\n",
            " 'POSTSECONDARY TEACHERS, ALL OTHER'\n",
            " 'PRESCHOOL TEACHERS, EXCEPT SPECIAL EDUCATION'\n",
            " 'KINDERGARTEN TEACHERS, EXCEPT SPECIAL EDUCATION'\n",
            " 'ELEMENTARY SCHOOL TEACHERS, EXCEPT SPECIAL'\n",
            " 'ELEMENTARY SCHOOL TEACHERS, EXCEPT SPECIAL EDUCATION'\n",
            " 'ELEMENTARY SCHOOL TEACHERS, EXCEPT SPECIAL EDUCATI'\n",
            " 'ELEMENTARY SCHOOL TEACHER' 'ELEMENTARY SCHOOL TEACHERS'\n",
            " 'ELEMENTARY SCHOOL TEACHERS, EXCEPT SPECIAL EDUCAT'\n",
            " 'MIDDLE SCHOOL TEACHERS, EXCEPT SPECIAL AND'\n",
            " 'MIDDLE SCHOOL TEACHERS, EXCEPT SPECIAL AND CAREER/TECHNICAL EDUCATION'\n",
            " 'MIDDLE SCHOOL TEACHERS, EXCEPT SPECIAL AND CAREER/'\n",
            " 'MIDDLE SCHOOL TEACHERS EXCEPT SPECIAL AND CAREER/T'\n",
            " 'MIDDLE SCHOOL TEACHERS, EXCEPT SPECIAL AND CAREER'\n",
            " 'CAREER/TECHNICAL  EDUCATION TEACHERS, MIDDLE'\n",
            " 'CAREER/TECHNICAL  EDUCATION TEACHERS, MIDDLE SCHOOL'\n",
            " 'SECONDARY SCHOOL TEACHERS, EXCEPT SPECIAL AND'\n",
            " 'SECONDARY SCHOOL TEACHERS, EXCEPT SPECIAL AND CAREER/TECHNICAL EDUCATION'\n",
            " 'SECONDARY SCHOOL TEACHERS, EXCEPT SPECIAL'\n",
            " 'SECONDARY SCHOOL TEACHERS, EXCEPT SPECIAL AND CARE'\n",
            " 'SECONDARY SCHOOL TEACHERS' 'SECONDARY SCHOOL TEACHER'\n",
            " 'SECONDARY SCHOOL TEACHERS, EXCEPT SPECIAL CAREER/T'\n",
            " 'CAREER/TECHNICAL EDUCATION TEACHERS, SECONDARY SCHOOL'\n",
            " 'CAREER/TECHNICAL EDUCATION TEACHERS, SECONDARY'\n",
            " 'SPECIAL EDUCATION TEACHERS, PRESCHOOL,'\n",
            " 'SPECIAL EDUCATION TEACHERS, PRESCHOOL, KINDERGARTEN, AND ELEMENTARY SCHOOL'\n",
            " 'SPECIAL EDUCATION TEACHERS, PRESCHOOL'\n",
            " 'SPECIAL EDUCATION TEACHERS, KINDERGARTEN AND ELEMENTARY SCHOOL'\n",
            " 'SPECIAL EDUCATION TEACHERS, KINDERGARTEN AND'\n",
            " 'SPECIAL EDUCATION TEACHERS, KINDERGARTEN AND ELEME'\n",
            " 'SPECIAL EDUCATION TEACHERS, MIDDLE SCHOOL'\n",
            " 'SPECIAL EDUCATION TEACHERS, SECONDARY SCHOOL'\n",
            " 'SPECIAL EDUCATION TEACHERS, ALL OTHER'\n",
            " 'ADULT BASIC AND SECONDARY EDUCATION AND LITERACY TEACHERS AND INSTRUCTORS'\n",
            " 'ADULT BASIC AND SECONDARY EDUCATION AND LITERACY'\n",
            " 'ADULT BASIC AND SECONDARY EDUCATION AND LITERACY T'\n",
            " 'SELF-ENRICHMENT EDUCATION TEACHERS' 'SUBSTITUTE TEACHERS'\n",
            " 'TEACHERS AND INSTRUCTORS, ALL OTHER' 'ARCHIVISTS' 'CURATORS'\n",
            " 'MUSEUM TECHNICIANS AND CONSERVATORS' 'LIBRARIANS'\n",
            " 'AUDIO-VISUAL AND MULTIMEDIA COLLECTIONS SPECIALISTS'\n",
            " 'FARM AND HOME MANAGEMENT ADVISORS' 'INSTRUCTIONAL COORDINATORS'\n",
            " 'INSTRUCTIONAL DESIGNERS AND TECHNOLOGISTS' 'TEACHER ASSISTANTS'\n",
            " 'EDUCATION, TRAINING, AND LIBRARY WORKERS, ALL'\n",
            " 'EDUCATION, TRAINING, AND LIBRARY WORKERS, ALL OTHER' 'ART DIRECTORS'\n",
            " 'CRAFT ARTISTS'\n",
            " 'FINE ARTISTS, INCLUDING PAINTERS, SCULPTORS, AND ILLUSTRATORS'\n",
            " 'MULTIMEDIA ARTISTS AND ANIMATORS' 'MULTIMEDIA ARTISTS AND ANIMAORS'\n",
            " 'ARTISTS AND RELATED WORKERS, ALL OTHER'\n",
            " 'COMMERICIAL AND INDUSTRIAL DESIGNERS'\n",
            " 'COMMERCIAL AND INDUSTRIAL DESIGNER' 'FASHION DESIGNERS'\n",
            " 'FLORAL DESIGNERS' 'GRAPHIC DESIGNERS' 'GRAPHIC DESIGNER'\n",
            " 'INTERIOR DESIGNERS' 'MERCHANDISE DISPLAYERS AND WINDOW TRIMMERS'\n",
            " 'SET AND EXHIBIT DESIGNERS' 'DESIGNERS, ALL OTHER' 'ACTORS'\n",
            " 'PRODUCERS AND DIRECTORS' 'PROGRAM DIRECTORS'\n",
            " 'ATHLETES AND SPORTS COMPETITORS' 'COACHES AND SCOUTS' 'DANCERS'\n",
            " 'CHOREOGRAPHERS' 'MUSIC DIRECTORS AND COMPOSERS' 'MUSICIANS AND SINGERS'\n",
            " 'ENTERTAINERS AND PERFORMERS, SPORTS AND RELATED'\n",
            " 'ENTERTAINERS AND PERFORMERS, SPORTS AND RELATED WORKERS, ALL OTHER'\n",
            " 'RADIO AND TELEVISION ANNOUNCERS' 'BROADCAST NEWS ANALYSTS'\n",
            " 'REPORTERS AND CORRESPONDENTS' 'PUBLIC RELATIONS SPECIALISTS'\n",
            " 'PUBLIC RELATIONS SPECIALIST' 'EDITORS' 'TECHNICAL WRITERS'\n",
            " 'WRITERS AND AUTHORS' 'COPY WRITERS'\n",
            " 'POETS, LYRICISTS AND CREATIVE WRITERS' 'INTERPRETERS AND TRANSLATORS'\n",
            " 'MEDIA AND COMMUNICATION WORKERS, ALL OTHER'\n",
            " 'AUDIO AND VIDEO EQUIPMENT TECHNICIANS' 'BROADCAST TECHNICIANS'\n",
            " 'SOUND ENGINEERING TECHNICIANS' 'PHOTOGRAPHERS'\n",
            " 'CAMERA OPERATORS, TELEVISION, VIDEO, AND MOTION PICTURE'\n",
            " 'FILM AND VIDEO EDITORS' 'CHIROPRACTORS' 'DENTISTS, GENERAL' 'DENTIST'\n",
            " 'DENTIST, GENERAL' 'ORAL AND MAXILLOFACIAL SURGEONS' 'ORTHODONTISTS'\n",
            " 'PROSTHODONTISTS' 'DENTISTS, ALL OTHER SPECIALISTS'\n",
            " 'DIETITIANS AND NUTRITIONISTS' 'DIETITIANS AND NUTRITIONIST'\n",
            " 'OPTOMETRISTS' 'PHARMACISTS' 'ANESTHESIOLOGISTS'\n",
            " 'FAMILY AND GENERAL PRACTITIONERS' 'INTERNISTS, GENERAL'\n",
            " 'INTERNIST, GENERAL' 'INTERNISTS GENERAL'\n",
            " 'OBSTETRICIANS AND GYNECOLOGISTS' 'PEDIATRICIANS, GENERAL' 'PEDIATRICIAN'\n",
            " 'PSYCHIATRISTS' 'SURGEONS' 'PHYSICIANS AND SURGEONS, ALL OTHER'\n",
            " 'PHYSICIAN AND SURGEONS, ALL OTHER' 'HOSPITALISTS' 'PATHOLOGISTS'\n",
            " 'RADIOLOGISTS' 'NEUROLOGISTS' 'PHYSICIANS AND SURGEONS'\n",
            " 'PHYSICIANS AND SURGEONS; ALL OTHER' 'PHYSICIAN ASSISTANTS' 'PODIATRISTS'\n",
            " 'REGISTERED NURSES' 'PHYSICAL THERAPISTS' 'PHYSICAL THERAPIST'\n",
            " 'RADIATION THERAPISTS' 'RECREATIONAL THERAPISTS' 'RESPIRATORY THERAPISTS'\n",
            " 'SPEECH-LANGUAGE PATHOLOGISTS' 'SPEECH LANGUAGE PATHOLOGISTS'\n",
            " 'EXERCISE PHYSIOLOGISTS' 'THERAPISTS, ALL OTHER' 'VETERINARIANS'\n",
            " 'NURSE ANESTHETISTS' 'NURSE PRACTITIONERS' 'AUDIOLOGISTS'\n",
            " 'HEALTH DIAGNOSING AND TREATING PRACTITIONERS, ALL OTHER'\n",
            " 'HEALTH DIAGNOSING AND TREATING PRACTITIONERS, ALL'\n",
            " 'MEDICAL AND CLINICAL LABORATORY TECHNOLOGISTS'\n",
            " 'MEDICAL AND LABORATORY TECHNOLOGISTS'\n",
            " 'MEDICAL AND CLINICAL LABORATORY TECHNICIANS'\n",
            " 'DIAGNOSTIC MEDICAL SONOGRAPHERS' 'NUCLEAR MEDICINE TECHNOLOGISTS'\n",
            " 'EMERGENCY MEDICAL TECHNICIANS AND PARAMEDICS' 'PHARMACY TECHNICIANS'\n",
            " 'PSYCHIATRIC TECHNICIANS' 'VETERINARY TECHNOLOGISTS AND TECHNICIANS'\n",
            " 'OPHTHALMIC MEDICAL TECHNICIANS'\n",
            " 'MEDICAL RECORDS AND HEALTH INFORMATION TECHNICIANS'\n",
            " 'OPTICIANS, DISPENSING' 'ORTHOTISTS AND PROSTHETISTS'\n",
            " 'HEALTH TECHNOLOGISTS AND TECHNICIANS, ALL OTHER'\n",
            " 'OCCUPATIONAL HEALTH AND SAFETY SPECIALISTS' 'ATHLETIC TRAINER'\n",
            " 'ATHLETIC TRAINERS' 'GENETIC COUNSELORS'\n",
            " 'HEALTHCARE PRACTITIONERS AND TECHNICAL WORKERS, ALL OTHER'\n",
            " 'HEALTHCARE PRACTITIONERS AND TECHNICAL WORKERS,'\n",
            " 'HEALTHCARE PRACTITIONERS AND TECHNICAL WORKERS, AL'\n",
            " 'HEALTHCARE PRACTITIONERS AND TECHNICAL WORKERS'\n",
            " 'HEALTHCARE PRACTITIONERS AND SPECIALTY WORKERS, AL' 'HOME HEALTH AIDES'\n",
            " 'PHYSICAL THERAPIST ASSISTANTS' 'DENTAL ASSISTANTS' 'MEDICAL ASSISTANTS'\n",
            " 'MEDICAL TRANSCRIPTIONISTS' 'VETERINARY ASSISTANTS AND LABORATORY ANIMAL'\n",
            " 'VETERINARY ASSISTANTS AND LABORATORY ANIMAL CARETAKERS'\n",
            " 'VETERINARY ASSISTANTS AND LABORATORY ANIMAL CARETA'\n",
            " 'HEALTHCARE SUPPORT WORKERS, ALL OTHER'\n",
            " 'DETECTIVES AND CRIMINAL INVESTIGATORS'\n",
            " 'PRIVATE DETECTIVES AND INVESTIGATORS'\n",
            " 'LIFEGUARDS, SKI PATROL, AND OTHER RECREATIONAL PROTECTIVE SERVICE'\n",
            " 'CHEFS AND HEAD COOKS' 'CHEF AND HEAD COOKS'\n",
            " 'FIRST-LINE SUPERVISORS OF FOOD PREPARATION AND SERVING WORKERS'\n",
            " 'FIRST-LINE SUPERVISORS OF FOOD PREPARATION AND SER' 'COOKS, RESTAURANT'\n",
            " 'COMBINED FOOD PREPARATION AND SERVING WORKERS, INCLUDING FAST FOOD'\n",
            " 'WAITERS AND WAITRESSES'\n",
            " 'HOSTS AND HOSTESSES, RESTAURANT, LOUNGE, AND COFFEE SHOP'\n",
            " 'FIRST-LINE SUPERVISORS OF LANDSCAPING, LAWN'\n",
            " 'FIRST-LINE SUPERVISORS OF LANDSCAPING, LAWN SERVICE, AND GROUNDSKEEPING WORKERS'\n",
            " 'MAIDS AND HOUSEKEEPING CLEANERS'\n",
            " 'LANDSCAPING AND GROUNDSKEEPING WORKERS' 'TREE TRIMMERS AND PRUNERS'\n",
            " 'FIRST-LINE SUPERVISORS OF PERSONAL SERVICE WORKERS' 'ANIMAL TRAINERS'\n",
            " 'NONFARM ANIMAL CARETAKERS' 'COSTUME ATTENDANTS'\n",
            " 'HAIRDRESSERS, HAIRSTYLISTS, AND COSMETOLOGISTS'\n",
            " 'MANICURISTS AND PEDICURISTS' 'TOUR GUIDES AND ESCORTS' 'TRAVEL GUIDES'\n",
            " 'CHILDCARE WORKERS' 'PERSONAL CARE AIDES'\n",
            " 'FITNESS TRAINERS AND AEROBICS INSTRUCTORS' 'RECREATION WORKERS'\n",
            " 'RESIDENTIAL ADVISORS' 'FIRST-LINE SUPERVISORS OF RETAIL SALES WORKERS'\n",
            " 'FIRST-LINE SUPERVISORS OF NON-RETAIL SALES WORKERS'\n",
            " 'RETAIL SALESPERSONS' 'ADVERTISING SALES AGENTS' 'INSURANCE SALES AGENTS'\n",
            " 'SECURITIES, COMMODITIES, AND FINANCIAL SERVICES'\n",
            " 'SECURITIES, COMMODITIES, AND FINANCIAL SERVICES SALES AGENTS'\n",
            " 'SECURITIES,COMMODITIES&FINANCIAL SRVS SALES AGENTS'\n",
            " 'SECURITIES, COMMODITIES, AND FINANCIAL SERVICES SA'\n",
            " 'SECURITIES COMMODITIES AND FINANCIAL SERVICES SALE'\n",
            " 'SECURITIES, COMMODITIES, FINANCIAL SERVICES AGENTS'\n",
            " 'SALES AGENTS, SECURITIES AND COMMODITIES'\n",
            " 'SECURITIES, COMMODITIES, AND FINANCIAL'\n",
            " 'SECURITIES AND COMMODITIES TRADERS' 'TRAVEL AGENTS'\n",
            " 'SALES REPRESENTATIVES OF SERVICES, EXCEPT ADVERTISING, INSURANCE, TRAVEL, AND FINANCIAL SERVICES'\n",
            " 'SALES REPRESENTATIVES, SERVICES, ALL OTHER'\n",
            " 'SALES REPRESENTATIVES, WHOLESALE AND'\n",
            " 'SALES REPRESENTATIVES, WHOLESALE AND MANUFACTURING, TECHNICAL AND SCIENTIFIC PRODUCTS'\n",
            " 'SALES REPRESENTATIVES, WHOLESALE AND MANUFACTURING'\n",
            " 'SALES REPRESENTATIVES, WHOLESALE AND MANUFACTURING, EXCEPT TECHNICAL AND SCIENTIFIC PRODUCTS'\n",
            " 'DEMONSTRATORS AND PRODUCT PROMOTERS' 'MODELS' 'REAL ESTATE BROKERS'\n",
            " 'SALES ENGINEERS' 'SALES ENGINEER' 'SALES ENGINEEER'\n",
            " 'SALES AND RELATED WORKERS, ALL OTHER'\n",
            " 'FIRST-LINE SUPERVISORS OF OFFICE AND ADMINISTRATIVE SUPPORT WORKERS'\n",
            " 'BILL AND ACCOUNT COLLECTORS' 'BILLING AND POSTING CLERKS'\n",
            " 'BOOKKEEPING, ACCOUNTING, AND AUDITING CLERKS'\n",
            " 'PAYROLL AND TIMEKEEPING CLERKS' 'PROCUREMENT CLERKS'\n",
            " 'FINANCIAL CLERKS, ALL OTHER' 'BROKERAGE CLERKS'\n",
            " 'CUSTOMER SERVICE REPRESENTATIVES' 'FILE CLERKS'\n",
            " 'HOTEL, MOTEL, AND RESORT DESK CLERKS'\n",
            " 'INTERVIEWERS, EXCEPT ELIGIBILITY AND LOAN'\n",
            " 'LOAN INTERVIEWERS AND CLERKS'\n",
            " 'HUMAN RESOURCES ASSISTANTS, EXCEPT PAYROLL AND'\n",
            " 'HUMAN RESOURCES ASSISTANTS, EXCEPT PAYROLL AND TIMEKEEPING'\n",
            " 'RECEPTIONISTS AND INFORMATION CLERKS'\n",
            " 'RESERVATION AND TRANSPORTATION TICKET AGENTS AND'\n",
            " 'RESERVATION AND TRANSPORTATION TICKET AGENTS AND TRAVEL CLERKS'\n",
            " 'CARGO AND FREIGHT AGENTS' 'PRODUCTION, PLANNING, AND EXPEDITING CLERKS'\n",
            " 'SHIPPING, RECEIVING, AND TRAFFIC CLERKS'\n",
            " 'EXECUTIVE SECRETARIES AND EXECUTIVE ADMINISTRATIVE'\n",
            " 'EXECUTIVE SECRETARIES AND EXECUTIVE ADMINISTRATIVE ASSISTANTS'\n",
            " 'LEGAL SECRETARIES' 'MEDICAL SECRETARIES'\n",
            " 'SECRETARIES AND ADMINISTRATIVE ASSISTANTS, EXCEPT'\n",
            " 'SECRETARIES AND ADMINISTRATIVE ASSISTANTS, EXCEPT LEGAL, MEDICAL, AND EXECUTIVE'\n",
            " 'COMPUTER OPERATORS' 'DATA ENTRY KEYERS' 'DESKTOP PUBLISHERS'\n",
            " 'MAIL CLERKS AND MAIL MACHINE OPERATORS, EXCEPT POSTAL SERVICE'\n",
            " 'OFFICE CLERKS, GENERAL' 'PROOFREADERS AND COPY MARKERS'\n",
            " 'STATISTICAL ASSISTANTS' 'BIOINFORMATICS TECHNICIANS'\n",
            " 'STATISTICAL ASSISTANT'\n",
            " 'OFFICE AND ADMINISTRATIVE SUPPORT WORKERS, ALL OTHER'\n",
            " 'OFFICE AND ADMINISTRATIVE SUPPORT WORKERS, ALL'\n",
            " 'FIRST-LINE SUPERVISORS OF FARMING, FISHING, AND'\n",
            " 'FIRST-LINE SUPERVISORS OF FARMING, FISHING, AND FORESTRY WORKERS'\n",
            " 'AGRICULTURAL INSPECTORS' 'ANIMAL BREEDERS'\n",
            " 'FARMWORKERS AND LABORERS, CROP, NURSERY, AND GREENHOUSE'\n",
            " 'FARMWORKERS, FARM, RANCH, AND AQUACULTURAL ANIMALS'\n",
            " 'AGRICULTURAL WORKERS, ALL OTHER' 'FOREST AND CONSERVATION WORKERS'\n",
            " 'SUPERVISORS OF CONSTRUCTION AND EXTRACTION WORKERS' 'BOILERMAKERS'\n",
            " 'CARPENTERS' 'FLOOR LAYERS, EXCEPT CARPET, WOOD, AND HARD TILES'\n",
            " 'TILE AND MARBLE SETTERS' 'CEMENT MASONS AND CONCRETE FINISHERS'\n",
            " 'CONSTRUCTION LABORERS'\n",
            " 'OPERATING ENGINEERS AND OTHER CONSTRUCTION EQUIPMENT OPERATORS'\n",
            " 'ELECTRICIANS' 'PLUMBERS, PIPEFITTERS, AND STEAMFITTERS'\n",
            " 'HELPERS--ELECTRICIANS' 'HELPERS, CONSTRUCTION TRADES, ALL OTHER'\n",
            " 'CONSTRUCTION AND BUILDING INSPECTORS'\n",
            " 'CONSTRUCTION AND RELATED WORKERS, ALL OTHER'\n",
            " 'FIRST-LINE SUPERVISORS OF MECHANICS, INSTALLERS, AND REPAIRERS'\n",
            " 'TELECOMMUNICATIONS EQUIPMENT INSTALLERS AND REPAIRERS, EXCEPT LINE INSTALLERS'\n",
            " 'AVIONICS TECHNICIANS'\n",
            " 'ELECTRICAL AND ELECTRONICS INSTALLERS AND REPAIRERS, TRANSPORTATION EQUIPMENT'\n",
            " 'ELECTRICAL AND ELECTRONICS REPAIRERS, COMMERCIAL AND INDUSTRIAL EQUIPMENT'\n",
            " 'SECURITY AND FIRE ALARM SYSTEMS INSTALLERS'\n",
            " 'AIRCRAFT MECHANICS AND SERVICE TECHNICIANS'\n",
            " 'AUTOMOTIVE SERVICE TECHNICIANS AND MECHANICS'\n",
            " 'BUS AND TRUCK MECHANICS AND DIESEL ENGINE SPECIALISTS'\n",
            " 'MOBILE HEAVY EQUIPMENT MECHANICS, EXCEPT ENGINES'\n",
            " 'HEATING, AIR CONDITIONING, AND REFRIGERATION MECHANICS AND INSTALLERS'\n",
            " 'MEDICAL EQUIPMENT REPAIRERS' 'MUSICAL INSTRUMENT REPAIRERS AND TUNERS'\n",
            " 'PRECISION INSTRUMENT AND EQUIPMENT REPAIRERS, ALL'\n",
            " 'MAINTENANCE AND REPAIR WORKERS, GENERAL'\n",
            " 'HELPERS--INSTALLATION, MAINTENANCE, AND REPAIR'\n",
            " 'HELPERS--INSTALLATION, MAINTENANCE, AND REPAIR WORKERS'\n",
            " 'INSTALLATION, MAINTENANCE, AND REPAIR WORKERS, ALL OTHER'\n",
            " 'FIRST-LINE SUPERVISORS OF PRODUCTION AND OPERATING WORKERS'\n",
            " 'AIRCRAFT STRUCTURE, SURFACES, RIGGING, AND SYSTEMS'\n",
            " 'AIRCRAFT STRUCTURE, SURFACES, RIGGING, AND SYSTEMS ASSEMBLERS'\n",
            " 'STRUCTURAL METAL FABRICATORS AND FITTERS' 'BAKERS' 'FOOD BATCHMAKERS'\n",
            " 'FOOD COOKING MACHINE OPERATORS AND TENDERS'\n",
            " 'FOOD PROCESSING WORKERS, ALL OTHER'\n",
            " 'COMPUTER NUMERICALLY CONTROLLED MACHINE TOOL PROGRAMMERS, METAL AND PLASTIC'\n",
            " 'FOUNDRY MOLD AND COREMAKERS' 'WELDERS, CUTTERS, SOLDERERS, AND BRAZERS'\n",
            " 'PRINTING PRESS OPERATORS' 'FABRIC AND APPAREL PATTERNMAKERS'\n",
            " 'SAWING MACHINE SETTERS, OPERATORS, AND TENDERS, WOOD'\n",
            " 'WOODWORKING MACHINE SETTERS, OPERATORS, AND TENDERS, EXCEPT SAWING'\n",
            " 'CHEMICAL PLANT AND SYSTEM OPERATORS'\n",
            " 'SEPARATING, FILTERING, CLARIFYING, PRECIPITATING, AND STILL MACHINE SETTERS, OPERATORS, AND TENDERS'\n",
            " 'INSPECTORS, TESTERS, SORTERS, SAMPLERS, AND WEIGHERS'\n",
            " 'JEWELERS AND PRECIOUS STONE AND METAL WORKERS'\n",
            " 'DENTAL LABORATORY TECHNICIANS'\n",
            " 'MOLDERS, SHAPERS, AND CASTERS, EXCEPT METAL AND PLASTIC'\n",
            " 'PRODUCTION WORKERS, ALL OTHER'\n",
            " 'AIRLINE PILOTS, CO PILOTS AND FLIGHT ENGINEERS'\n",
            " 'AIRLINE PILOTS, COPILOTS, AND FLIGHT ENGINEERS' 'COMMERCIAL PILOTS'\n",
            " 'AIRFIELD OPERATIONS SPECIALISTS'\n",
            " 'HEAVY AND TRACTOR-TRAILER TRUCK DRIVERS' 'SHIP ENGINEERS'\n",
            " 'TRAFFIC TECHNICIANS' 'TRANSPORTATION INSPECTORS'\n",
            " 'CRANE AND TOWER OPERATORS' '15-2031' nan]\n",
            "---------------------------------------------------------------------------\n",
            "Details of the particular col SOC_CODE is : ['11-2011' '11-2021' '11-2022' '11-2031' '15-1132' '15-1133' '17-2112'\n",
            " '27-1021' '29-1122' '11-3011' '11-3021' '11-3031' '11-3051' '11-3061'\n",
            " '11-3071' '11-3111' '11-3121' '11-3131' '11-9013' '11-9021' '11-9031'\n",
            " '11-9032' '11-9033' '11-9039' '11-9041' '11-9051' '11-9081' '11-9111'\n",
            " '11-9121' '11-9141' '11-9151' '11-9161' '11-9199' '11-1011' '11-1021'\n",
            " '11-3031.00' '11-3031.02' '11-3051.01' '11-3071.03' '11-9121.01'\n",
            " '11-9199.02' '11-9199.07' '13-1011' '13-1021' '13-1022' '13-1023'\n",
            " '13-1031' '13-1041' '13-1041.07' '13-1051' '13-1071' '13-1075' '13-1081'\n",
            " '13-1081.00' '13-1081.01' '13-1111' '13-1111.00' '13-1121' '13-1131'\n",
            " '13-1141' '13-1151' '13-1151.00' '13-1161' '13-1161.00' '13-1199'\n",
            " '13-2011' '13-2011.02' '13-2021' '13-2031' '13-2041' '13-2051' '13-2052'\n",
            " '13-2053' '13-2061' '13-2071' '13-2072' '13-2081' '13-2082' '13-2099'\n",
            " '13-2099.01' '13-2099.02' '15-1021.00' '15-1022' '15-1023' '15-1034'\n",
            " '15-1035' '15-1036' '15-1037' '15-1051.00' '15-1052' '15-1053' '15-1054'\n",
            " '15-1055' '15-1099' '15-1099.02' '15-1109' '15-1111' '15-1111.00'\n",
            " '15-1121' '15-1122' '15-1131' '15-1132.00' '15-1133.00' '15-1134'\n",
            " '15-1141' '15-1141.00' '15-1142' '15-1143' '15-1150' '15-1151' '15-1152'\n",
            " '15-1179' '15-1199' '15-1199.00' '15-1199.01' '15-1199.02' '15-1199.04'\n",
            " '15-1199.06' '15-1199.07' '15-1199.08' '15-1199.09' '15-2011' '15-2021'\n",
            " '15-2021.00' '15-2031' '15-2041' '15-2041.00' '15-2041.01' '15-2091'\n",
            " '15-2099' '15-3021' '17-1011' '17-1011.00' '17-1012' '17-1021' '17-1022'\n",
            " '17-2011' '17-2021' '17-2031' '17-2041' '17-2051' '17-2051.00' '17-2052'\n",
            " '17-2053' '17-2061' '17-2062' '17-2063' '17-2071' '17-2071.00' '17-2072'\n",
            " '17-2072.00' '17-2073' '17-2074' '17-2075' '17-2076' '17-2081' '17-2111'\n",
            " '17-2112.00' '17-2121' '17-2131' '17-2141' '17-2141.00' '17-2141.02'\n",
            " '17-2143' '17-2144' '17-2151' '17-2161' '17-2171' '17-2199' '17-2199.02'\n",
            " '17-2199.08' '17-3011' '17-3011.00' '17-3012' '17-3013' '17-3019'\n",
            " '17-3021' '17-3022' '17-3023' '17-3024' '17-3025' '17-3026' '17-3027'\n",
            " '17-3029' '17-3031' '19-1011' '19-1012' '19-1012.00' '19-1013' '19-1021'\n",
            " '19-1021.00' '19-1022' '19-1023' '19-1029' '19-1029.01' '19-1029.02'\n",
            " '19-1029.03' '19-1031' '19-1032' '19-1041' '19-1042' '19-1042.00'\n",
            " '19-1099' '19-2011' '19-2012' '19-2021' '19-2031' '19-2032' '19-2041'\n",
            " '19-2042' '19-2043' '19-2099' '19-3011' '19-3011.00' '19-3022' '19-3031'\n",
            " '19-3032' '19-3039' '19-3041' '19-3051' '19-3091' '19-3092' '19-3093'\n",
            " '19-3094' '19-3099' '19-3111' '19-4011' '19-4021' '19-4031' '19-4041'\n",
            " '19-4051' '19-4061' '19-4091' '19-4092' '19-4093' '19-4099' '19-4099.01'\n",
            " '21-1011' '21-1012' '21-1013' '21-1014' '21-1015' '21-1019' '21-1021'\n",
            " '21-1022' '21-1023' '21-1029' '21-1091' '21-1092' '21-1093' '21-1094'\n",
            " '21-1099' '21-2011' '21-2021' '21-2099' '23-1011' '23-1012' '23-1022'\n",
            " '23-2011' '23-2099' '25-1011' '25-1021' '25-1022' '25-1031' '25-1032'\n",
            " '25-1041' '25-1042' '25-1043' '25-1051' '25-1052' '25-1053' '25-1054'\n",
            " '25-1061' '25-1062' '25-1063' '25-1064' '25-1065' '25-1066' '25-1067'\n",
            " '25-1069' '25-1071' '25-1071.00' '25-1072' '25-1081' '25-1082' '25-1111'\n",
            " '25-1112' '25-1113' '25-1121' '25-1122' '25-1123' '25-1124' '25-1125'\n",
            " '25-1126' '25-1191' '25-1192' '25-1193' '25-1194' '25-1199' '25-2011'\n",
            " '25-2012' '25-2021' '25-2021.00' '25-2022' '25-2023' '25-2031' '25-2032'\n",
            " '25-2041' '25-2051' '25-2052' '25-2053' '25-2054' '25-2059' '25-3011'\n",
            " '25-3021' '25-3098' '25-3099' '25-4011' '25-4012' '25-4013' '25-4021'\n",
            " '25-9011' '25-9021' '25-9031' '25-9041' '25-9099' '27-1011' '27-1012'\n",
            " '27-1013' '27-1014' '27-1014.00' '27-1019' '27-1022' '27-1023' '27-1024'\n",
            " '27-1025' '27-1025.00' '27-1026' '27-1027' '27-1029' '27-2011' '27-2012'\n",
            " '27-2021' '27-2022' '27-2031' '27-2032' '27-2041' '27-2042' '27-2099'\n",
            " '27-3011' '27-3021' '27-3022' '27-3031' '27-3041' '27-3042' '27-3043'\n",
            " '27-3043.05' '27-3091' '27-3099' '27-4011' '27-4012' '27-4014' '27-4021'\n",
            " '27-4031' '27-4032' '29-1011' '29-1020' '29-1021' '29-1021.00' '29-1022'\n",
            " '29-1023' '29-1024' '29-1029' '29-1031' '29-1041' '29-1051' '29-1061'\n",
            " '29-1062' '29-1063' '29-1064' '29-1065' '29-1066' '29-1067' '29-1068'\n",
            " '29-1069' '29-1069.99' '29-1071' '29-1081' '29-1111' '29-1122.00'\n",
            " '29-1123' '29-1123.00' '29-1124' '29-1125' '29-1126' '29-1127' '29-1128'\n",
            " '29-1129' '29-1131' '29-1141' '29-1151' '29-1171' '29-1181' '29-1199'\n",
            " '29-2011' '29-2011.00' '29-2012' '29-2032' '29-2033' '29-2041' '29-2052'\n",
            " '29-2053' '29-2056' '29-2057' '29-2071' '29-2081' '29-2091' '29-2099'\n",
            " '29-9011' '29-9091' '29-9092' '29-9099' '31-1011' '31-2021' '31-9091'\n",
            " '31-9092' '31-9094' '31-9096' '31-9099' '33-3021' '33-9021' '33-9092'\n",
            " '35-1011' '35-1012' '35-2014' '35-3021' '35-3031' '35-9031' '37-1012'\n",
            " '37-2012' '37-3011' '37-3013' '39-1021' '39-2011' '39-2021' '39-3092'\n",
            " '39-5012' '39-5092' '39-7011' '39-7012' '39-9011' '39-9021' '39-9031'\n",
            " '39-9032' '39-9041' '41-1011' '41-1012' '41-2031' '41-3011' '41-3021'\n",
            " '41-3031' '41-3031.03' '41-3041' '41-3098' '41-3099' '41-4011' '41-4012'\n",
            " '41-9011' '41-9012' '41-9021' '41-9031' '41-9099' '43-1011' '43-3011'\n",
            " '43-3021' '43-3031' '43-3051' '43-3061' '43-3099' '43-4011' '43-4051'\n",
            " '43-4071' '43-4081' '43-4111' '43-4131' '43-4161' '43-4171' '43-4181'\n",
            " '43-5011' '43-5061' '43-5071' '43-6011' '43-6012' '43-6013' '43-6014'\n",
            " '43-9011' '43-9021' '43-9031' '43-9051' '43-9061' '43-9081' '43-9111'\n",
            " '43-9199' '45-1011' '45-2011' '45-2021' '45-2092' '45-2093' '45-2099'\n",
            " '45-4011' '47-1011' '47-2011' '47-2031' '47-2042' '47-2044' '47-2051'\n",
            " '47-2061' '47-2073' '47-2111' '47-2152' '47-3013' '47-3019' '47-4011'\n",
            " '47-4099' '49-1011' '49-2022' '49-2091' '49-2093' '49-2094' '49-2098'\n",
            " '49-3011' '49-3023' '49-3031' '49-3042' '49-9021' '49-9062' '49-9063'\n",
            " '49-9069' '49-9071' '49-9098' '49-9099' '51-1011' '51-2011' '51-2041'\n",
            " '51-3011' '51-3092' '51-3093' '51-3099' '51-4012' '51-4071' '51-4121'\n",
            " '51-5112' '51-6092' '51-7041' '51-7042' '51-8091' '51-9012' '51-9061'\n",
            " '51-9071' '51-9081' '51-9195' '51-9199' '53-2011' '53-2012' '53-2022'\n",
            " '53-3032' '53-5031' '53-6041' '53-6051' '53-7021'\n",
            " 'OPERATIONS RESEARCH ANALYSTS' nan]\n",
            "---------------------------------------------------------------------------\n",
            "Details of the particular col NAICS_CODE is : [541810. 454111. 541990. ... 111130. 811113.   4511.]\n",
            "---------------------------------------------------------------------------\n",
            "Details of the particular col CONTINUED_EMPLOYMENT is : [1 0 '0' '1' 5 2 4 10 3 '2' '01' '10' '5' '3' '4' '001' 30 6 25 15 '15' 45\n",
            " 20 40 '6' 12 8 'B' 99 '8' '00' 13 50 '99' '25' '40' '12' 7 18 17 '20'\n",
            " '30' 35 '50' 21 '18' '02' 11]\n",
            "---------------------------------------------------------------------------\n",
            "Details of the particular col CHANGE_PREVIOUS_EMPLOYMENT is : [  0   1   5   2   4  10  20   3  15   6   8 338  99   7  30 200  40  50\n",
            "  70  25  14]\n",
            "---------------------------------------------------------------------------\n",
            "Details of the particular col NEW_CONCURRENT_EMPLOYMENT is : [ 0.  2.  5.  1.  4.  3. 10. 99. nan  9.]\n",
            "---------------------------------------------------------------------------\n",
            "Details of the particular col CHANGE_EMPLOYER is : [ 0  1  5  2  4 10 15  3 50 30 20  6  8 25 11 99  7 16 54 40 12  9]\n",
            "---------------------------------------------------------------------------\n",
            "Details of the particular col AMENDED_PETITION is : [ 0  1 10  5  2  4  3 15 11  6 20  8 30 99  7 14 25 35]\n",
            "---------------------------------------------------------------------------\n",
            "Details of the particular col H-1B_DEPENDENT is : ['N' nan 'Y']\n",
            "---------------------------------------------------------------------------\n",
            "Details of the particular col SUPPORT_H1B is : [nan 'Y' 'N']\n",
            "---------------------------------------------------------------------------\n",
            "Details of the particular col WILLFUL_VIOLATOR is : ['N' nan 'Y']\n",
            "---------------------------------------------------------------------------\n",
            "Details of the particular col WAGE_RATE_OF_PAY_FROM_1 is : [179000.  110000.  275000.  ...  45052.   31866.   76377.6]\n",
            "---------------------------------------------------------------------------\n",
            "Details of the particular col WAGE_UNIT_OF_PAY_1 is : ['Year' 'Hour' 'Month' 'Bi-Weekly' 'Week' nan]\n",
            "---------------------------------------------------------------------------\n",
            "Details of the particular col TOTAL_WORKER_POSITIONS is : [  1.  50.  10.   2.  25.   5.  12.  20.   3.   6.  30.  15.  24.   4.\n",
            "  75. 100. 110.  nan   7.   8.  16.   9.  45.  40.  70.  65.  17.  90.\n",
            "  35.  14.  18.  11.  19.  60.  80.  13.  23.  54.  43.  32.  26.  21.\n",
            "  47.  22.  31.  28. 594. 150.  99. 175. 200.  78.  37.  36.  34.  76.\n",
            " 500. 300.]\n",
            "---------------------------------------------------------------------------\n"
          ]
        }
      ],
      "source": [
        "def uniquevals(col):\n",
        "    print(f'Details of the particular col {col} is : {df2[col].unique()}')\n",
        "    \n",
        "def valuecounts(col):\n",
        "    print(f'Valuecounts of the particular col {col} is : {df2[col].value_counts()}')\n",
        "\n",
        "    \n",
        "for col in df2.columns:\n",
        "    uniquevals(col)\n",
        "    print(\"-\"*75)"
      ]
    },
    {
      "cell_type": "markdown",
      "metadata": {
        "id": "mIYjaN3bMwgb"
      },
      "source": [
        "On **VISA CLASS** we only want **H1-B Visa** so we drop other visa class"
      ]
    },
    {
      "cell_type": "code",
      "execution_count": 30,
      "metadata": {
        "id": "FFm_S2SwA9JE"
      },
      "outputs": [],
      "source": [
        "df2 = df2.drop(df2.index[df['VISA_CLASS'].isin([\"H-1B1 Chile\",\"E-3 Australian\",\"H-1B1 Singapore\"])])"
      ]
    },
    {
      "cell_type": "markdown",
      "metadata": {
        "id": "nW3AqpoQXt7t"
      },
      "source": [
        "<h3>Checking Missing values and Treating it"
      ]
    },
    {
      "cell_type": "code",
      "execution_count": 31,
      "metadata": {
        "id": "nyQ-4wM0x9Xw"
      },
      "outputs": [],
      "source": [
        "null_value = df2.isnull().sum().sort_values(ascending=False)\n",
        "null_value_per = df2.isnull().mean().sort_values(ascending=False)*100"
      ]
    },
    {
      "cell_type": "code",
      "execution_count": 32,
      "metadata": {
        "colab": {
          "base_uri": "https://localhost:8080/",
          "height": 676
        },
        "id": "GMue9drAyHep",
        "outputId": "4f5f5803-e35f-4075-8571-08985562c30c"
      },
      "outputs": [
        {
          "data": {
            "text/html": [
              "\n",
              "  <div id=\"df-8bdc91ca-1525-497c-a331-3d1070a46551\">\n",
              "    <div class=\"colab-df-container\">\n",
              "      <div>\n",
              "<style scoped>\n",
              "    .dataframe tbody tr th:only-of-type {\n",
              "        vertical-align: middle;\n",
              "    }\n",
              "\n",
              "    .dataframe tbody tr th {\n",
              "        vertical-align: top;\n",
              "    }\n",
              "\n",
              "    .dataframe thead th {\n",
              "        text-align: right;\n",
              "    }\n",
              "</style>\n",
              "<table border=\"1\" class=\"dataframe\">\n",
              "  <thead>\n",
              "    <tr style=\"text-align: right;\">\n",
              "      <th></th>\n",
              "      <th>Features</th>\n",
              "      <th>No.of Missing_Value</th>\n",
              "      <th>Percentages of Missing_Value</th>\n",
              "    </tr>\n",
              "  </thead>\n",
              "  <tbody>\n",
              "    <tr>\n",
              "      <th>0</th>\n",
              "      <td>SUPPORT_H1B</td>\n",
              "      <td>410835</td>\n",
              "      <td>63.294679</td>\n",
              "    </tr>\n",
              "    <tr>\n",
              "      <th>1</th>\n",
              "      <td>SECONDARY_ENTITY_1</td>\n",
              "      <td>80702</td>\n",
              "      <td>12.433233</td>\n",
              "    </tr>\n",
              "    <tr>\n",
              "      <th>2</th>\n",
              "      <td>AGENT_REPRESENTING_EMPLOYER</td>\n",
              "      <td>27586</td>\n",
              "      <td>4.249996</td>\n",
              "    </tr>\n",
              "    <tr>\n",
              "      <th>3</th>\n",
              "      <td>H-1B_DEPENDENT</td>\n",
              "      <td>22</td>\n",
              "      <td>0.003389</td>\n",
              "    </tr>\n",
              "    <tr>\n",
              "      <th>4</th>\n",
              "      <td>WILLFUL_VIOLATOR</td>\n",
              "      <td>22</td>\n",
              "      <td>0.003389</td>\n",
              "    </tr>\n",
              "    <tr>\n",
              "      <th>5</th>\n",
              "      <td>EMPLOYER_NAME</td>\n",
              "      <td>10</td>\n",
              "      <td>0.001541</td>\n",
              "    </tr>\n",
              "    <tr>\n",
              "      <th>6</th>\n",
              "      <td>WAGE_UNIT_OF_PAY_1</td>\n",
              "      <td>7</td>\n",
              "      <td>0.001078</td>\n",
              "    </tr>\n",
              "    <tr>\n",
              "      <th>7</th>\n",
              "      <td>WAGE_RATE_OF_PAY_FROM_1</td>\n",
              "      <td>7</td>\n",
              "      <td>0.001078</td>\n",
              "    </tr>\n",
              "    <tr>\n",
              "      <th>8</th>\n",
              "      <td>SOC_TITLE</td>\n",
              "      <td>4</td>\n",
              "      <td>0.000616</td>\n",
              "    </tr>\n",
              "    <tr>\n",
              "      <th>9</th>\n",
              "      <td>SOC_CODE</td>\n",
              "      <td>4</td>\n",
              "      <td>0.000616</td>\n",
              "    </tr>\n",
              "    <tr>\n",
              "      <th>10</th>\n",
              "      <td>TOTAL_WORKER_POSITIONS</td>\n",
              "      <td>2</td>\n",
              "      <td>0.000308</td>\n",
              "    </tr>\n",
              "    <tr>\n",
              "      <th>11</th>\n",
              "      <td>NAICS_CODE</td>\n",
              "      <td>2</td>\n",
              "      <td>0.000308</td>\n",
              "    </tr>\n",
              "    <tr>\n",
              "      <th>12</th>\n",
              "      <td>JOB_TITLE</td>\n",
              "      <td>1</td>\n",
              "      <td>0.000154</td>\n",
              "    </tr>\n",
              "    <tr>\n",
              "      <th>13</th>\n",
              "      <td>NEW_CONCURRENT_EMPLOYMENT</td>\n",
              "      <td>1</td>\n",
              "      <td>0.000154</td>\n",
              "    </tr>\n",
              "    <tr>\n",
              "      <th>14</th>\n",
              "      <td>CASE_STATUS</td>\n",
              "      <td>0</td>\n",
              "      <td>0.000000</td>\n",
              "    </tr>\n",
              "    <tr>\n",
              "      <th>15</th>\n",
              "      <td>AMENDED_PETITION</td>\n",
              "      <td>0</td>\n",
              "      <td>0.000000</td>\n",
              "    </tr>\n",
              "    <tr>\n",
              "      <th>16</th>\n",
              "      <td>CHANGE_EMPLOYER</td>\n",
              "      <td>0</td>\n",
              "      <td>0.000000</td>\n",
              "    </tr>\n",
              "    <tr>\n",
              "      <th>17</th>\n",
              "      <td>VISA_CLASS</td>\n",
              "      <td>0</td>\n",
              "      <td>0.000000</td>\n",
              "    </tr>\n",
              "    <tr>\n",
              "      <th>18</th>\n",
              "      <td>CONTINUED_EMPLOYMENT</td>\n",
              "      <td>0</td>\n",
              "      <td>0.000000</td>\n",
              "    </tr>\n",
              "    <tr>\n",
              "      <th>19</th>\n",
              "      <td>CHANGE_PREVIOUS_EMPLOYMENT</td>\n",
              "      <td>0</td>\n",
              "      <td>0.000000</td>\n",
              "    </tr>\n",
              "  </tbody>\n",
              "</table>\n",
              "</div>\n",
              "      <button class=\"colab-df-convert\" onclick=\"convertToInteractive('df-8bdc91ca-1525-497c-a331-3d1070a46551')\"\n",
              "              title=\"Convert this dataframe to an interactive table.\"\n",
              "              style=\"display:none;\">\n",
              "        \n",
              "  <svg xmlns=\"http://www.w3.org/2000/svg\" height=\"24px\"viewBox=\"0 0 24 24\"\n",
              "       width=\"24px\">\n",
              "    <path d=\"M0 0h24v24H0V0z\" fill=\"none\"/>\n",
              "    <path d=\"M18.56 5.44l.94 2.06.94-2.06 2.06-.94-2.06-.94-.94-2.06-.94 2.06-2.06.94zm-11 1L8.5 8.5l.94-2.06 2.06-.94-2.06-.94L8.5 2.5l-.94 2.06-2.06.94zm10 10l.94 2.06.94-2.06 2.06-.94-2.06-.94-.94-2.06-.94 2.06-2.06.94z\"/><path d=\"M17.41 7.96l-1.37-1.37c-.4-.4-.92-.59-1.43-.59-.52 0-1.04.2-1.43.59L10.3 9.45l-7.72 7.72c-.78.78-.78 2.05 0 2.83L4 21.41c.39.39.9.59 1.41.59.51 0 1.02-.2 1.41-.59l7.78-7.78 2.81-2.81c.8-.78.8-2.07 0-2.86zM5.41 20L4 18.59l7.72-7.72 1.47 1.35L5.41 20z\"/>\n",
              "  </svg>\n",
              "      </button>\n",
              "      \n",
              "  <style>\n",
              "    .colab-df-container {\n",
              "      display:flex;\n",
              "      flex-wrap:wrap;\n",
              "      gap: 12px;\n",
              "    }\n",
              "\n",
              "    .colab-df-convert {\n",
              "      background-color: #E8F0FE;\n",
              "      border: none;\n",
              "      border-radius: 50%;\n",
              "      cursor: pointer;\n",
              "      display: none;\n",
              "      fill: #1967D2;\n",
              "      height: 32px;\n",
              "      padding: 0 0 0 0;\n",
              "      width: 32px;\n",
              "    }\n",
              "\n",
              "    .colab-df-convert:hover {\n",
              "      background-color: #E2EBFA;\n",
              "      box-shadow: 0px 1px 2px rgba(60, 64, 67, 0.3), 0px 1px 3px 1px rgba(60, 64, 67, 0.15);\n",
              "      fill: #174EA6;\n",
              "    }\n",
              "\n",
              "    [theme=dark] .colab-df-convert {\n",
              "      background-color: #3B4455;\n",
              "      fill: #D2E3FC;\n",
              "    }\n",
              "\n",
              "    [theme=dark] .colab-df-convert:hover {\n",
              "      background-color: #434B5C;\n",
              "      box-shadow: 0px 1px 3px 1px rgba(0, 0, 0, 0.15);\n",
              "      filter: drop-shadow(0px 1px 2px rgba(0, 0, 0, 0.3));\n",
              "      fill: #FFFFFF;\n",
              "    }\n",
              "  </style>\n",
              "\n",
              "      <script>\n",
              "        const buttonEl =\n",
              "          document.querySelector('#df-8bdc91ca-1525-497c-a331-3d1070a46551 button.colab-df-convert');\n",
              "        buttonEl.style.display =\n",
              "          google.colab.kernel.accessAllowed ? 'block' : 'none';\n",
              "\n",
              "        async function convertToInteractive(key) {\n",
              "          const element = document.querySelector('#df-8bdc91ca-1525-497c-a331-3d1070a46551');\n",
              "          const dataTable =\n",
              "            await google.colab.kernel.invokeFunction('convertToInteractive',\n",
              "                                                     [key], {});\n",
              "          if (!dataTable) return;\n",
              "\n",
              "          const docLinkHtml = 'Like what you see? Visit the ' +\n",
              "            '<a target=\"_blank\" href=https://colab.research.google.com/notebooks/data_table.ipynb>data table notebook</a>'\n",
              "            + ' to learn more about interactive tables.';\n",
              "          element.innerHTML = '';\n",
              "          dataTable['output_type'] = 'display_data';\n",
              "          await google.colab.output.renderOutput(dataTable, element);\n",
              "          const docLink = document.createElement('div');\n",
              "          docLink.innerHTML = docLinkHtml;\n",
              "          element.appendChild(docLink);\n",
              "        }\n",
              "      </script>\n",
              "    </div>\n",
              "  </div>\n",
              "  "
            ],
            "text/plain": [
              "                       Features  No.of Missing_Value  \\\n",
              "0                   SUPPORT_H1B               410835   \n",
              "1            SECONDARY_ENTITY_1                80702   \n",
              "2   AGENT_REPRESENTING_EMPLOYER                27586   \n",
              "3                H-1B_DEPENDENT                   22   \n",
              "4              WILLFUL_VIOLATOR                   22   \n",
              "5                 EMPLOYER_NAME                   10   \n",
              "6            WAGE_UNIT_OF_PAY_1                    7   \n",
              "7       WAGE_RATE_OF_PAY_FROM_1                    7   \n",
              "8                     SOC_TITLE                    4   \n",
              "9                      SOC_CODE                    4   \n",
              "10       TOTAL_WORKER_POSITIONS                    2   \n",
              "11                   NAICS_CODE                    2   \n",
              "12                    JOB_TITLE                    1   \n",
              "13    NEW_CONCURRENT_EMPLOYMENT                    1   \n",
              "14                  CASE_STATUS                    0   \n",
              "15             AMENDED_PETITION                    0   \n",
              "16              CHANGE_EMPLOYER                    0   \n",
              "17                   VISA_CLASS                    0   \n",
              "18         CONTINUED_EMPLOYMENT                    0   \n",
              "19   CHANGE_PREVIOUS_EMPLOYMENT                    0   \n",
              "\n",
              "    Percentages of Missing_Value  \n",
              "0                      63.294679  \n",
              "1                      12.433233  \n",
              "2                       4.249996  \n",
              "3                       0.003389  \n",
              "4                       0.003389  \n",
              "5                       0.001541  \n",
              "6                       0.001078  \n",
              "7                       0.001078  \n",
              "8                       0.000616  \n",
              "9                       0.000616  \n",
              "10                      0.000308  \n",
              "11                      0.000308  \n",
              "12                      0.000154  \n",
              "13                      0.000154  \n",
              "14                      0.000000  \n",
              "15                      0.000000  \n",
              "16                      0.000000  \n",
              "17                      0.000000  \n",
              "18                      0.000000  \n",
              "19                      0.000000  "
            ]
          },
          "execution_count": 32,
          "metadata": {},
          "output_type": "execute_result"
        }
      ],
      "source": [
        "null_value_df = pd.DataFrame({\n",
        "    \"Features\" : null_value.index,\n",
        "    \"No.of Missing_Value\" :null_value.values,\n",
        "    \"Percentages of Missing_Value\" : null_value_per.values\n",
        "})\n",
        "null_value_df"
      ]
    },
    {
      "cell_type": "markdown",
      "metadata": {
        "id": "khlxGRJFX5t_"
      },
      "source": [
        "**SECONDARY_ENTITY_1, AGENT_REPRESENTING_EMPLOYER, H-1B_DEPENDENT, SUPPORT_H1B, WILLFUL_VIOLATOR** these columns have more NULL valuse and these columns are YES or NO type , so we replace null value with maximum values"
      ]
    },
    {
      "cell_type": "code",
      "execution_count": 33,
      "metadata": {
        "colab": {
          "base_uri": "https://localhost:8080/"
        },
        "id": "DAscMONEUAC_",
        "outputId": "87fe23e6-b039-41fe-8489-4e0ec9bf7d59"
      },
      "outputs": [
        {
          "name": "stdout",
          "output_type": "stream",
          "text": [
            "N\n"
          ]
        }
      ],
      "source": [
        "print(df2['SECONDARY_ENTITY_1'].value_counts().idxmax())"
      ]
    },
    {
      "cell_type": "code",
      "execution_count": 34,
      "metadata": {
        "colab": {
          "base_uri": "https://localhost:8080/"
        },
        "id": "56qHmsmrFie5",
        "outputId": "d1862f49-b887-4655-c499-a90144ccdeaa"
      },
      "outputs": [
        {
          "name": "stdout",
          "output_type": "stream",
          "text": [
            "Y\n"
          ]
        }
      ],
      "source": [
        "print(df2['AGENT_REPRESENTING_EMPLOYER'].value_counts().idxmax())"
      ]
    },
    {
      "cell_type": "code",
      "execution_count": 35,
      "metadata": {
        "colab": {
          "base_uri": "https://localhost:8080/",
          "height": 36
        },
        "id": "mRrGYR-RFtbb",
        "outputId": "b1dd9b07-bf53-448c-98dd-beada6be981f"
      },
      "outputs": [
        {
          "data": {
            "application/vnd.google.colaboratory.intrinsic+json": {
              "type": "string"
            },
            "text/plain": [
              "'N'"
            ]
          },
          "execution_count": 35,
          "metadata": {},
          "output_type": "execute_result"
        }
      ],
      "source": [
        "df2['H-1B_DEPENDENT'].value_counts().idxmax()"
      ]
    },
    {
      "cell_type": "code",
      "execution_count": 36,
      "metadata": {
        "colab": {
          "base_uri": "https://localhost:8080/",
          "height": 36
        },
        "id": "LrOxOnftGVVS",
        "outputId": "e53b1456-d8a4-4597-dcfc-0a9bd3d6890f"
      },
      "outputs": [
        {
          "data": {
            "application/vnd.google.colaboratory.intrinsic+json": {
              "type": "string"
            },
            "text/plain": [
              "'Y'"
            ]
          },
          "execution_count": 36,
          "metadata": {},
          "output_type": "execute_result"
        }
      ],
      "source": [
        "df2['SUPPORT_H1B'].value_counts().idxmax()"
      ]
    },
    {
      "cell_type": "code",
      "execution_count": 37,
      "metadata": {
        "colab": {
          "base_uri": "https://localhost:8080/",
          "height": 36
        },
        "id": "VLxhCTlkGsDA",
        "outputId": "f7680ecb-7ebc-4b6e-a3df-57d5c5b85e95"
      },
      "outputs": [
        {
          "data": {
            "application/vnd.google.colaboratory.intrinsic+json": {
              "type": "string"
            },
            "text/plain": [
              "'N'"
            ]
          },
          "execution_count": 37,
          "metadata": {},
          "output_type": "execute_result"
        }
      ],
      "source": [
        "df2['WILLFUL_VIOLATOR'].value_counts().idxmax()"
      ]
    },
    {
      "cell_type": "markdown",
      "metadata": {
        "id": "HdM-I0sWZPWM"
      },
      "source": [
        "Replace **NULL** values with Maximum Values"
      ]
    },
    {
      "cell_type": "code",
      "execution_count": 38,
      "metadata": {
        "id": "5LSOExk5FtWa"
      },
      "outputs": [],
      "source": [
        "df2[\"SECONDARY_ENTITY_1\"].replace(np.nan, \"N\", inplace=True)\n",
        "df2[\"AGENT_REPRESENTING_EMPLOYER\"].replace(np.nan, \"Y\", inplace=True)\n",
        "df2[\"H-1B_DEPENDENT\"].replace(np.nan, \"N\", inplace=True)\n",
        "df2[\"SUPPORT_H1B\"].replace(np.nan, \"Y\", inplace=True)\n",
        "df2[\"WILLFUL_VIOLATOR\"].replace(np.nan, \"N\", inplace=True)"
      ]
    },
    {
      "cell_type": "markdown",
      "metadata": {
        "id": "sMuHyJ6lZYs5"
      },
      "source": [
        "drop rest of the null values"
      ]
    },
    {
      "cell_type": "code",
      "execution_count": 39,
      "metadata": {
        "id": "C9hzjNyyHnC-"
      },
      "outputs": [],
      "source": [
        "df2 = df2.dropna()"
      ]
    },
    {
      "cell_type": "code",
      "execution_count": 40,
      "metadata": {
        "colab": {
          "base_uri": "https://localhost:8080/"
        },
        "id": "uKTz44OiEmIP",
        "outputId": "d7c7c5ff-7db8-4298-8281-89963a364aa9"
      },
      "outputs": [
        {
          "data": {
            "text/plain": [
              "CASE_STATUS                    0\n",
              "VISA_CLASS                     0\n",
              "EMPLOYER_NAME                  0\n",
              "SECONDARY_ENTITY_1             0\n",
              "AGENT_REPRESENTING_EMPLOYER    0\n",
              "JOB_TITLE                      0\n",
              "SOC_TITLE                      0\n",
              "SOC_CODE                       0\n",
              "NAICS_CODE                     0\n",
              "CONTINUED_EMPLOYMENT           0\n",
              "CHANGE_PREVIOUS_EMPLOYMENT     0\n",
              "NEW_CONCURRENT_EMPLOYMENT      0\n",
              "CHANGE_EMPLOYER                0\n",
              "AMENDED_PETITION               0\n",
              "H-1B_DEPENDENT                 0\n",
              "SUPPORT_H1B                    0\n",
              "WILLFUL_VIOLATOR               0\n",
              "WAGE_RATE_OF_PAY_FROM_1        0\n",
              "WAGE_UNIT_OF_PAY_1             0\n",
              "TOTAL_WORKER_POSITIONS         0\n",
              "dtype: int64"
            ]
          },
          "execution_count": 40,
          "metadata": {},
          "output_type": "execute_result"
        }
      ],
      "source": [
        "df2.apply(lambda x: sum(x.isnull()))"
      ]
    },
    {
      "cell_type": "code",
      "execution_count": 41,
      "metadata": {
        "colab": {
          "base_uri": "https://localhost:8080/",
          "height": 548
        },
        "id": "GdOfbz_1H9Qx",
        "outputId": "d7f48c9a-2059-405d-c7aa-c6e4a886642f"
      },
      "outputs": [
        {
          "data": {
            "text/html": [
              "\n",
              "  <div id=\"df-7011cbae-97cc-49f9-a324-36d65ce4f400\">\n",
              "    <div class=\"colab-df-container\">\n",
              "      <div>\n",
              "<style scoped>\n",
              "    .dataframe tbody tr th:only-of-type {\n",
              "        vertical-align: middle;\n",
              "    }\n",
              "\n",
              "    .dataframe tbody tr th {\n",
              "        vertical-align: top;\n",
              "    }\n",
              "\n",
              "    .dataframe thead th {\n",
              "        text-align: right;\n",
              "    }\n",
              "</style>\n",
              "<table border=\"1\" class=\"dataframe\">\n",
              "  <thead>\n",
              "    <tr style=\"text-align: right;\">\n",
              "      <th></th>\n",
              "      <th>CASE_STATUS</th>\n",
              "      <th>VISA_CLASS</th>\n",
              "      <th>EMPLOYER_NAME</th>\n",
              "      <th>SECONDARY_ENTITY_1</th>\n",
              "      <th>AGENT_REPRESENTING_EMPLOYER</th>\n",
              "      <th>JOB_TITLE</th>\n",
              "      <th>SOC_TITLE</th>\n",
              "      <th>SOC_CODE</th>\n",
              "      <th>NAICS_CODE</th>\n",
              "      <th>CONTINUED_EMPLOYMENT</th>\n",
              "      <th>CHANGE_PREVIOUS_EMPLOYMENT</th>\n",
              "      <th>NEW_CONCURRENT_EMPLOYMENT</th>\n",
              "      <th>CHANGE_EMPLOYER</th>\n",
              "      <th>AMENDED_PETITION</th>\n",
              "      <th>H-1B_DEPENDENT</th>\n",
              "      <th>SUPPORT_H1B</th>\n",
              "      <th>WILLFUL_VIOLATOR</th>\n",
              "      <th>WAGE_RATE_OF_PAY_FROM_1</th>\n",
              "      <th>WAGE_UNIT_OF_PAY_1</th>\n",
              "      <th>TOTAL_WORKER_POSITIONS</th>\n",
              "    </tr>\n",
              "  </thead>\n",
              "  <tbody>\n",
              "    <tr>\n",
              "      <th>0</th>\n",
              "      <td>WITHDRAWN</td>\n",
              "      <td>H-1B</td>\n",
              "      <td>R/GA MEDIA GROUP, INC.</td>\n",
              "      <td>N</td>\n",
              "      <td>Y</td>\n",
              "      <td>ASSOCIATE CREATIVE DIRECTOR</td>\n",
              "      <td>ADVERTISING AND PROMOTIONS MANAGERS</td>\n",
              "      <td>11-2011</td>\n",
              "      <td>541810.0</td>\n",
              "      <td>1</td>\n",
              "      <td>0</td>\n",
              "      <td>0.0</td>\n",
              "      <td>0</td>\n",
              "      <td>0</td>\n",
              "      <td>N</td>\n",
              "      <td>Y</td>\n",
              "      <td>N</td>\n",
              "      <td>179000.0</td>\n",
              "      <td>Year</td>\n",
              "      <td>1.0</td>\n",
              "    </tr>\n",
              "    <tr>\n",
              "      <th>5</th>\n",
              "      <td>WITHDRAWN</td>\n",
              "      <td>H-1B</td>\n",
              "      <td>MCCANN-ERICKSON MARKETING, INC.</td>\n",
              "      <td>N</td>\n",
              "      <td>Y</td>\n",
              "      <td>GLOBAL BRAND SUPERVISOR</td>\n",
              "      <td>ADVERTISING AND PROMOTIONS MANAGERS</td>\n",
              "      <td>11-2011</td>\n",
              "      <td>541810.0</td>\n",
              "      <td>1</td>\n",
              "      <td>0</td>\n",
              "      <td>0.0</td>\n",
              "      <td>0</td>\n",
              "      <td>0</td>\n",
              "      <td>N</td>\n",
              "      <td>Y</td>\n",
              "      <td>N</td>\n",
              "      <td>84400.0</td>\n",
              "      <td>Year</td>\n",
              "      <td>1.0</td>\n",
              "    </tr>\n",
              "    <tr>\n",
              "      <th>6</th>\n",
              "      <td>WITHDRAWN</td>\n",
              "      <td>H-1B</td>\n",
              "      <td>MH SUB I LLC</td>\n",
              "      <td>N</td>\n",
              "      <td>Y</td>\n",
              "      <td>DIRECTOR OF BUSINESS DEVELOPMENT</td>\n",
              "      <td>ADVERTISING AND PROMOTIONS MANAGERS</td>\n",
              "      <td>11-2011</td>\n",
              "      <td>454111.0</td>\n",
              "      <td>0</td>\n",
              "      <td>1</td>\n",
              "      <td>0.0</td>\n",
              "      <td>0</td>\n",
              "      <td>0</td>\n",
              "      <td>N</td>\n",
              "      <td>Y</td>\n",
              "      <td>N</td>\n",
              "      <td>100000.0</td>\n",
              "      <td>Year</td>\n",
              "      <td>1.0</td>\n",
              "    </tr>\n",
              "    <tr>\n",
              "      <th>7</th>\n",
              "      <td>WITHDRAWN</td>\n",
              "      <td>H-1B</td>\n",
              "      <td>KIIP, INC.</td>\n",
              "      <td>N</td>\n",
              "      <td>Y</td>\n",
              "      <td>HEAD OF BUSINESS DEVELOPMENT</td>\n",
              "      <td>ADVERTISING AND PROMOTIONS MANAGERS</td>\n",
              "      <td>11-2011</td>\n",
              "      <td>541990.0</td>\n",
              "      <td>1</td>\n",
              "      <td>0</td>\n",
              "      <td>0.0</td>\n",
              "      <td>0</td>\n",
              "      <td>0</td>\n",
              "      <td>N</td>\n",
              "      <td>Y</td>\n",
              "      <td>N</td>\n",
              "      <td>131685.0</td>\n",
              "      <td>Year</td>\n",
              "      <td>1.0</td>\n",
              "    </tr>\n",
              "    <tr>\n",
              "      <th>8</th>\n",
              "      <td>WITHDRAWN</td>\n",
              "      <td>H-1B</td>\n",
              "      <td>SUNSHINE SACHS &amp; ASSOCIATES WEST, LLC</td>\n",
              "      <td>N</td>\n",
              "      <td>Y</td>\n",
              "      <td>ACCOUNT DIRECTOR, SOCIAL MEDIA</td>\n",
              "      <td>ADVERTISING AND PROMOTIONS MANAGERS</td>\n",
              "      <td>11-2011</td>\n",
              "      <td>541820.0</td>\n",
              "      <td>1</td>\n",
              "      <td>0</td>\n",
              "      <td>0.0</td>\n",
              "      <td>0</td>\n",
              "      <td>0</td>\n",
              "      <td>N</td>\n",
              "      <td>Y</td>\n",
              "      <td>N</td>\n",
              "      <td>99750.0</td>\n",
              "      <td>Year</td>\n",
              "      <td>1.0</td>\n",
              "    </tr>\n",
              "  </tbody>\n",
              "</table>\n",
              "</div>\n",
              "      <button class=\"colab-df-convert\" onclick=\"convertToInteractive('df-7011cbae-97cc-49f9-a324-36d65ce4f400')\"\n",
              "              title=\"Convert this dataframe to an interactive table.\"\n",
              "              style=\"display:none;\">\n",
              "        \n",
              "  <svg xmlns=\"http://www.w3.org/2000/svg\" height=\"24px\"viewBox=\"0 0 24 24\"\n",
              "       width=\"24px\">\n",
              "    <path d=\"M0 0h24v24H0V0z\" fill=\"none\"/>\n",
              "    <path d=\"M18.56 5.44l.94 2.06.94-2.06 2.06-.94-2.06-.94-.94-2.06-.94 2.06-2.06.94zm-11 1L8.5 8.5l.94-2.06 2.06-.94-2.06-.94L8.5 2.5l-.94 2.06-2.06.94zm10 10l.94 2.06.94-2.06 2.06-.94-2.06-.94-.94-2.06-.94 2.06-2.06.94z\"/><path d=\"M17.41 7.96l-1.37-1.37c-.4-.4-.92-.59-1.43-.59-.52 0-1.04.2-1.43.59L10.3 9.45l-7.72 7.72c-.78.78-.78 2.05 0 2.83L4 21.41c.39.39.9.59 1.41.59.51 0 1.02-.2 1.41-.59l7.78-7.78 2.81-2.81c.8-.78.8-2.07 0-2.86zM5.41 20L4 18.59l7.72-7.72 1.47 1.35L5.41 20z\"/>\n",
              "  </svg>\n",
              "      </button>\n",
              "      \n",
              "  <style>\n",
              "    .colab-df-container {\n",
              "      display:flex;\n",
              "      flex-wrap:wrap;\n",
              "      gap: 12px;\n",
              "    }\n",
              "\n",
              "    .colab-df-convert {\n",
              "      background-color: #E8F0FE;\n",
              "      border: none;\n",
              "      border-radius: 50%;\n",
              "      cursor: pointer;\n",
              "      display: none;\n",
              "      fill: #1967D2;\n",
              "      height: 32px;\n",
              "      padding: 0 0 0 0;\n",
              "      width: 32px;\n",
              "    }\n",
              "\n",
              "    .colab-df-convert:hover {\n",
              "      background-color: #E2EBFA;\n",
              "      box-shadow: 0px 1px 2px rgba(60, 64, 67, 0.3), 0px 1px 3px 1px rgba(60, 64, 67, 0.15);\n",
              "      fill: #174EA6;\n",
              "    }\n",
              "\n",
              "    [theme=dark] .colab-df-convert {\n",
              "      background-color: #3B4455;\n",
              "      fill: #D2E3FC;\n",
              "    }\n",
              "\n",
              "    [theme=dark] .colab-df-convert:hover {\n",
              "      background-color: #434B5C;\n",
              "      box-shadow: 0px 1px 3px 1px rgba(0, 0, 0, 0.15);\n",
              "      filter: drop-shadow(0px 1px 2px rgba(0, 0, 0, 0.3));\n",
              "      fill: #FFFFFF;\n",
              "    }\n",
              "  </style>\n",
              "\n",
              "      <script>\n",
              "        const buttonEl =\n",
              "          document.querySelector('#df-7011cbae-97cc-49f9-a324-36d65ce4f400 button.colab-df-convert');\n",
              "        buttonEl.style.display =\n",
              "          google.colab.kernel.accessAllowed ? 'block' : 'none';\n",
              "\n",
              "        async function convertToInteractive(key) {\n",
              "          const element = document.querySelector('#df-7011cbae-97cc-49f9-a324-36d65ce4f400');\n",
              "          const dataTable =\n",
              "            await google.colab.kernel.invokeFunction('convertToInteractive',\n",
              "                                                     [key], {});\n",
              "          if (!dataTable) return;\n",
              "\n",
              "          const docLinkHtml = 'Like what you see? Visit the ' +\n",
              "            '<a target=\"_blank\" href=https://colab.research.google.com/notebooks/data_table.ipynb>data table notebook</a>'\n",
              "            + ' to learn more about interactive tables.';\n",
              "          element.innerHTML = '';\n",
              "          dataTable['output_type'] = 'display_data';\n",
              "          await google.colab.output.renderOutput(dataTable, element);\n",
              "          const docLink = document.createElement('div');\n",
              "          docLink.innerHTML = docLinkHtml;\n",
              "          element.appendChild(docLink);\n",
              "        }\n",
              "      </script>\n",
              "    </div>\n",
              "  </div>\n",
              "  "
            ],
            "text/plain": [
              "  CASE_STATUS VISA_CLASS                          EMPLOYER_NAME  \\\n",
              "0   WITHDRAWN       H-1B                 R/GA MEDIA GROUP, INC.   \n",
              "5   WITHDRAWN       H-1B        MCCANN-ERICKSON MARKETING, INC.   \n",
              "6   WITHDRAWN       H-1B                           MH SUB I LLC   \n",
              "7   WITHDRAWN       H-1B                             KIIP, INC.   \n",
              "8   WITHDRAWN       H-1B  SUNSHINE SACHS & ASSOCIATES WEST, LLC   \n",
              "\n",
              "  SECONDARY_ENTITY_1 AGENT_REPRESENTING_EMPLOYER  \\\n",
              "0                  N                           Y   \n",
              "5                  N                           Y   \n",
              "6                  N                           Y   \n",
              "7                  N                           Y   \n",
              "8                  N                           Y   \n",
              "\n",
              "                          JOB_TITLE                            SOC_TITLE  \\\n",
              "0       ASSOCIATE CREATIVE DIRECTOR  ADVERTISING AND PROMOTIONS MANAGERS   \n",
              "5           GLOBAL BRAND SUPERVISOR  ADVERTISING AND PROMOTIONS MANAGERS   \n",
              "6  DIRECTOR OF BUSINESS DEVELOPMENT  ADVERTISING AND PROMOTIONS MANAGERS   \n",
              "7      HEAD OF BUSINESS DEVELOPMENT  ADVERTISING AND PROMOTIONS MANAGERS   \n",
              "8    ACCOUNT DIRECTOR, SOCIAL MEDIA  ADVERTISING AND PROMOTIONS MANAGERS   \n",
              "\n",
              "  SOC_CODE  NAICS_CODE CONTINUED_EMPLOYMENT  CHANGE_PREVIOUS_EMPLOYMENT  \\\n",
              "0  11-2011    541810.0                    1                           0   \n",
              "5  11-2011    541810.0                    1                           0   \n",
              "6  11-2011    454111.0                    0                           1   \n",
              "7  11-2011    541990.0                    1                           0   \n",
              "8  11-2011    541820.0                    1                           0   \n",
              "\n",
              "   NEW_CONCURRENT_EMPLOYMENT  CHANGE_EMPLOYER  AMENDED_PETITION  \\\n",
              "0                        0.0                0                 0   \n",
              "5                        0.0                0                 0   \n",
              "6                        0.0                0                 0   \n",
              "7                        0.0                0                 0   \n",
              "8                        0.0                0                 0   \n",
              "\n",
              "  H-1B_DEPENDENT SUPPORT_H1B WILLFUL_VIOLATOR  WAGE_RATE_OF_PAY_FROM_1  \\\n",
              "0              N           Y                N                 179000.0   \n",
              "5              N           Y                N                  84400.0   \n",
              "6              N           Y                N                 100000.0   \n",
              "7              N           Y                N                 131685.0   \n",
              "8              N           Y                N                  99750.0   \n",
              "\n",
              "  WAGE_UNIT_OF_PAY_1  TOTAL_WORKER_POSITIONS  \n",
              "0               Year                     1.0  \n",
              "5               Year                     1.0  \n",
              "6               Year                     1.0  \n",
              "7               Year                     1.0  \n",
              "8               Year                     1.0  "
            ]
          },
          "execution_count": 41,
          "metadata": {},
          "output_type": "execute_result"
        }
      ],
      "source": [
        "df2.head()"
      ]
    },
    {
      "cell_type": "code",
      "execution_count": 42,
      "metadata": {
        "colab": {
          "base_uri": "https://localhost:8080/"
        },
        "id": "RT1vOT5feRUI",
        "outputId": "d158ca89-cdce-4b5a-e1b6-a9f3ad3adb2d"
      },
      "outputs": [
        {
          "data": {
            "text/plain": [
              "CERTIFIED              578635\n",
              "CERTIFIED-WITHDRAWN     46046\n",
              "WITHDRAWN               19221\n",
              "DENIED                   5156\n",
              "Name: CASE_STATUS, dtype: int64"
            ]
          },
          "execution_count": 42,
          "metadata": {},
          "output_type": "execute_result"
        }
      ],
      "source": [
        "df2.CASE_STATUS.value_counts()"
      ]
    },
    {
      "cell_type": "markdown",
      "metadata": {
        "id": "EYDmrHraadC5"
      },
      "source": [
        "replace CERTIFIED-WITHDRAWN with CERTIFIED and WITHDRAWN with DENIED"
      ]
    },
    {
      "cell_type": "code",
      "execution_count": 43,
      "metadata": {
        "colab": {
          "base_uri": "https://localhost:8080/"
        },
        "id": "HkEvwOPllpci",
        "outputId": "54abdc1a-036d-4620-f339-10a73c0c3071"
      },
      "outputs": [
        {
          "data": {
            "text/plain": [
              "CERTIFIED    624681\n",
              "DENIED        24377\n",
              "Name: CASE_STATUS, dtype: int64"
            ]
          },
          "execution_count": 43,
          "metadata": {},
          "output_type": "execute_result"
        }
      ],
      "source": [
        "df2['CASE_STATUS'] = df2['CASE_STATUS'].replace({'CERTIFIED-WITHDRAWN':'CERTIFIED', 'WITHDRAWN':'DENIED'})\n",
        "df2['CASE_STATUS'].value_counts()"
      ]
    },
    {
      "cell_type": "code",
      "execution_count": 44,
      "metadata": {
        "colab": {
          "base_uri": "https://localhost:8080/",
          "height": 342
        },
        "id": "5AgfgukNeRgr",
        "outputId": "07ad2ce6-dbb4-44cd-c5da-005eed712834"
      },
      "outputs": [
        {
          "data": {
            "image/png": "[encoded data removed]",
            "text/plain": [
              "<Figure size 432x288 with 1 Axes>"
            ]
          },
          "metadata": {
            "needs_background": "light"
          },
          "output_type": "display_data"
        }
      ],
      "source": [
        "status = df2['CASE_STATUS'].value_counts()\n",
        "sns.barplot(status.index, status.values, alpha=1)\n",
        "plt.xticks(rotation='vertical')\n",
        "plt.xlabel('Case Status', fontsize=14)\n",
        "plt.ylabel('Number of applicants', fontsize=14)\n",
        "plt.title(\"Number of applicants with respect to case status\", fontsize=16)\n",
        "plt.show()"
      ]
    },
    {
      "cell_type": "markdown",
      "metadata": {
        "id": "I0XJ_UQzL4Mw"
      },
      "source": [
        "<h3> Visa Class"
      ]
    },
    {
      "cell_type": "markdown",
      "metadata": {
        "id": "lgYfNy_WMEBs"
      },
      "source": [
        "On **Visa Class** we only want **H-1B** visa class so we alreay drop rest of the  Classes"
      ]
    },
    {
      "cell_type": "code",
      "execution_count": 45,
      "metadata": {
        "colab": {
          "base_uri": "https://localhost:8080/",
          "height": 441
        },
        "id": "Kxkmhb3cKDRE",
        "outputId": "e94748c3-626e-463e-93cb-10a5e47955f7"
      },
      "outputs": [
        {
          "data": {
            "image/png": "[encoded data removed]",
            "text/plain": [
              "<Figure size 1080x432 with 2 Axes>"
            ]
          },
          "metadata": {
            "needs_background": "light"
          },
          "output_type": "display_data"
        }
      ],
      "source": [
        "plt.figure(figsize=(15,6))\n",
        "plt.subplot(1, 2, 1)\n",
        "new_data.VISA_CLASS.value_counts().plot(kind='bar',title='Before drop other visa class')\n",
        "plt.subplot(1, 2, 2)\n",
        "df2.VISA_CLASS.value_counts().plot(kind='bar',title='After drop , here only H-1B Class')\n",
        "plt.tight_layout()\n",
        "plt.show()"
      ]
    },
    {
      "cell_type": "markdown",
      "metadata": {
        "id": "JgGVjNRWa4pN"
      },
      "source": [
        "<h3>Display top 20 EMPLOYER_NAME\n"
      ]
    },
    {
      "cell_type": "code",
      "execution_count": 46,
      "metadata": {
        "colab": {
          "base_uri": "https://localhost:8080/",
          "height": 676
        },
        "id": "7Q1_qpVZcgdg",
        "outputId": "ac0b007c-a04e-49aa-e27d-ad18f51cd379"
      },
      "outputs": [
        {
          "data": {
            "text/html": [
              "\n",
              "  <div id=\"df-ccb8884b-0d44-4fc9-af94-7056750c94dc\">\n",
              "    <div class=\"colab-df-container\">\n",
              "      <div>\n",
              "<style scoped>\n",
              "    .dataframe tbody tr th:only-of-type {\n",
              "        vertical-align: middle;\n",
              "    }\n",
              "\n",
              "    .dataframe tbody tr th {\n",
              "        vertical-align: top;\n",
              "    }\n",
              "\n",
              "    .dataframe thead th {\n",
              "        text-align: right;\n",
              "    }\n",
              "</style>\n",
              "<table border=\"1\" class=\"dataframe\">\n",
              "  <thead>\n",
              "    <tr style=\"text-align: right;\">\n",
              "      <th></th>\n",
              "      <th>EMPLOYER_NAME</th>\n",
              "    </tr>\n",
              "  </thead>\n",
              "  <tbody>\n",
              "    <tr>\n",
              "      <th>COGNIZANT TECHNOLOGY SOLUTIONS US CORP</th>\n",
              "      <td>28415</td>\n",
              "    </tr>\n",
              "    <tr>\n",
              "      <th>INFOSYS LIMITED</th>\n",
              "      <td>21416</td>\n",
              "    </tr>\n",
              "    <tr>\n",
              "      <th>TATA CONSULTANCY SERVICES LIMITED</th>\n",
              "      <td>11866</td>\n",
              "    </tr>\n",
              "    <tr>\n",
              "      <th>GOOGLE LLC</th>\n",
              "      <td>9758</td>\n",
              "    </tr>\n",
              "    <tr>\n",
              "      <th>ERNST &amp; YOUNG U.S. LLP</th>\n",
              "      <td>8662</td>\n",
              "    </tr>\n",
              "    <tr>\n",
              "      <th>CAPGEMINI AMERICA INC</th>\n",
              "      <td>7863</td>\n",
              "    </tr>\n",
              "    <tr>\n",
              "      <th>DELOITTE CONSULTING LLP</th>\n",
              "      <td>7698</td>\n",
              "    </tr>\n",
              "    <tr>\n",
              "      <th>AMAZON.COM SERVICES, INC.</th>\n",
              "      <td>6852</td>\n",
              "    </tr>\n",
              "    <tr>\n",
              "      <th>MICROSOFT CORPORATION</th>\n",
              "      <td>5889</td>\n",
              "    </tr>\n",
              "    <tr>\n",
              "      <th>ACCENTURE LLP</th>\n",
              "      <td>5628</td>\n",
              "    </tr>\n",
              "    <tr>\n",
              "      <th>IBM CORPORATION</th>\n",
              "      <td>5038</td>\n",
              "    </tr>\n",
              "    <tr>\n",
              "      <th>HCL AMERICA, INC.</th>\n",
              "      <td>4671</td>\n",
              "    </tr>\n",
              "    <tr>\n",
              "      <th>WIPRO LIMITED</th>\n",
              "      <td>4274</td>\n",
              "    </tr>\n",
              "    <tr>\n",
              "      <th>LARSEN &amp; TOUBRO INFOTECH LIMITED</th>\n",
              "      <td>3616</td>\n",
              "    </tr>\n",
              "    <tr>\n",
              "      <th>TECH MAHINDRA (AMERICAS),INC.</th>\n",
              "      <td>2911</td>\n",
              "    </tr>\n",
              "    <tr>\n",
              "      <th>FACEBOOK, INC.</th>\n",
              "      <td>2513</td>\n",
              "    </tr>\n",
              "    <tr>\n",
              "      <th>WAL-MART ASSOCIATES, INC.</th>\n",
              "      <td>2265</td>\n",
              "    </tr>\n",
              "    <tr>\n",
              "      <th>IBM INDIA PRIVATE LIMITED</th>\n",
              "      <td>2171</td>\n",
              "    </tr>\n",
              "    <tr>\n",
              "      <th>L&amp;T TECHNOLOGY SERVICES LIMITED</th>\n",
              "      <td>2034</td>\n",
              "    </tr>\n",
              "    <tr>\n",
              "      <th>SYNTEL INC</th>\n",
              "      <td>1883</td>\n",
              "    </tr>\n",
              "  </tbody>\n",
              "</table>\n",
              "</div>\n",
              "      <button class=\"colab-df-convert\" onclick=\"convertToInteractive('df-ccb8884b-0d44-4fc9-af94-7056750c94dc')\"\n",
              "              title=\"Convert this dataframe to an interactive table.\"\n",
              "              style=\"display:none;\">\n",
              "        \n",
              "  <svg xmlns=\"http://www.w3.org/2000/svg\" height=\"24px\"viewBox=\"0 0 24 24\"\n",
              "       width=\"24px\">\n",
              "    <path d=\"M0 0h24v24H0V0z\" fill=\"none\"/>\n",
              "    <path d=\"M18.56 5.44l.94 2.06.94-2.06 2.06-.94-2.06-.94-.94-2.06-.94 2.06-2.06.94zm-11 1L8.5 8.5l.94-2.06 2.06-.94-2.06-.94L8.5 2.5l-.94 2.06-2.06.94zm10 10l.94 2.06.94-2.06 2.06-.94-2.06-.94-.94-2.06-.94 2.06-2.06.94z\"/><path d=\"M17.41 7.96l-1.37-1.37c-.4-.4-.92-.59-1.43-.59-.52 0-1.04.2-1.43.59L10.3 9.45l-7.72 7.72c-.78.78-.78 2.05 0 2.83L4 21.41c.39.39.9.59 1.41.59.51 0 1.02-.2 1.41-.59l7.78-7.78 2.81-2.81c.8-.78.8-2.07 0-2.86zM5.41 20L4 18.59l7.72-7.72 1.47 1.35L5.41 20z\"/>\n",
              "  </svg>\n",
              "      </button>\n",
              "      \n",
              "  <style>\n",
              "    .colab-df-container {\n",
              "      display:flex;\n",
              "      flex-wrap:wrap;\n",
              "      gap: 12px;\n",
              "    }\n",
              "\n",
              "    .colab-df-convert {\n",
              "      background-color: #E8F0FE;\n",
              "      border: none;\n",
              "      border-radius: 50%;\n",
              "      cursor: pointer;\n",
              "      display: none;\n",
              "      fill: #1967D2;\n",
              "      height: 32px;\n",
              "      padding: 0 0 0 0;\n",
              "      width: 32px;\n",
              "    }\n",
              "\n",
              "    .colab-df-convert:hover {\n",
              "      background-color: #E2EBFA;\n",
              "      box-shadow: 0px 1px 2px rgba(60, 64, 67, 0.3), 0px 1px 3px 1px rgba(60, 64, 67, 0.15);\n",
              "      fill: #174EA6;\n",
              "    }\n",
              "\n",
              "    [theme=dark] .colab-df-convert {\n",
              "      background-color: #3B4455;\n",
              "      fill: #D2E3FC;\n",
              "    }\n",
              "\n",
              "    [theme=dark] .colab-df-convert:hover {\n",
              "      background-color: #434B5C;\n",
              "      box-shadow: 0px 1px 3px 1px rgba(0, 0, 0, 0.15);\n",
              "      filter: drop-shadow(0px 1px 2px rgba(0, 0, 0, 0.3));\n",
              "      fill: #FFFFFF;\n",
              "    }\n",
              "  </style>\n",
              "\n",
              "      <script>\n",
              "        const buttonEl =\n",
              "          document.querySelector('#df-ccb8884b-0d44-4fc9-af94-7056750c94dc button.colab-df-convert');\n",
              "        buttonEl.style.display =\n",
              "          google.colab.kernel.accessAllowed ? 'block' : 'none';\n",
              "\n",
              "        async function convertToInteractive(key) {\n",
              "          const element = document.querySelector('#df-ccb8884b-0d44-4fc9-af94-7056750c94dc');\n",
              "          const dataTable =\n",
              "            await google.colab.kernel.invokeFunction('convertToInteractive',\n",
              "                                                     [key], {});\n",
              "          if (!dataTable) return;\n",
              "\n",
              "          const docLinkHtml = 'Like what you see? Visit the ' +\n",
              "            '<a target=\"_blank\" href=https://colab.research.google.com/notebooks/data_table.ipynb>data table notebook</a>'\n",
              "            + ' to learn more about interactive tables.';\n",
              "          element.innerHTML = '';\n",
              "          dataTable['output_type'] = 'display_data';\n",
              "          await google.colab.output.renderOutput(dataTable, element);\n",
              "          const docLink = document.createElement('div');\n",
              "          docLink.innerHTML = docLinkHtml;\n",
              "          element.appendChild(docLink);\n",
              "        }\n",
              "      </script>\n",
              "    </div>\n",
              "  </div>\n",
              "  "
            ],
            "text/plain": [
              "                                        EMPLOYER_NAME\n",
              "COGNIZANT TECHNOLOGY SOLUTIONS US CORP          28415\n",
              "INFOSYS LIMITED                                 21416\n",
              "TATA CONSULTANCY SERVICES LIMITED               11866\n",
              "GOOGLE LLC                                       9758\n",
              "ERNST & YOUNG U.S. LLP                           8662\n",
              "CAPGEMINI AMERICA INC                            7863\n",
              "DELOITTE CONSULTING LLP                          7698\n",
              "AMAZON.COM SERVICES, INC.                        6852\n",
              "MICROSOFT CORPORATION                            5889\n",
              "ACCENTURE LLP                                    5628\n",
              "IBM CORPORATION                                  5038\n",
              "HCL AMERICA, INC.                                4671\n",
              "WIPRO LIMITED                                    4274\n",
              "LARSEN & TOUBRO INFOTECH LIMITED                 3616\n",
              "TECH MAHINDRA (AMERICAS),INC.                    2911\n",
              "FACEBOOK, INC.                                   2513\n",
              "WAL-MART ASSOCIATES, INC.                        2265\n",
              "IBM INDIA PRIVATE LIMITED                        2171\n",
              "L&T TECHNOLOGY SERVICES LIMITED                  2034\n",
              "SYNTEL INC                                       1883"
            ]
          },
          "execution_count": 46,
          "metadata": {},
          "output_type": "execute_result"
        }
      ],
      "source": [
        "top_twenty1=df2['EMPLOYER_NAME'].value_counts()[:20]\n",
        "top_twenty1.to_frame()"
      ]
    },
    {
      "cell_type": "markdown",
      "metadata": {
        "id": "RIpOZsIxa7Cd"
      },
      "source": [
        "<h3>Display top 5 Company and Job Position\n"
      ]
    },
    {
      "cell_type": "code",
      "execution_count": 47,
      "metadata": {
        "colab": {
          "base_uri": "https://localhost:8080/",
          "height": 441
        },
        "id": "LqfVJN4P6aHd",
        "outputId": "09d15a76-b90f-4a0b-f2b8-2161d11cbd13"
      },
      "outputs": [
        {
          "data": {
            "image/png": "[encoded data removed]",
            "text/plain": [
              "<Figure size 1080x432 with 2 Axes>"
            ]
          },
          "metadata": {
            "needs_background": "light"
          },
          "output_type": "display_data"
        }
      ],
      "source": [
        "plt.figure(figsize=(15,6))\n",
        "plt.subplot(1, 2, 1)\n",
        "df2.EMPLOYER_NAME.value_counts().head(5).plot(kind='bar',title='Top 5 Company')\n",
        "plt.subplot(1, 2, 2)\n",
        "df2.SOC_TITLE.value_counts().head(5).plot(kind='bar',title='Top 5 Job Position')\n",
        "plt.tight_layout()\n",
        "plt.show()"
      ]
    },
    {
      "cell_type": "markdown",
      "metadata": {
        "id": "dBPMY9Tqj97Z"
      },
      "source": [
        "<h3>Top OCCUPATIONS of the H1-B's being filed by the employers"
      ]
    },
    {
      "cell_type": "code",
      "execution_count": 48,
      "metadata": {
        "colab": {
          "base_uri": "https://localhost:8080/",
          "height": 299
        },
        "id": "iuJMjkdDjEST",
        "outputId": "089d9d25-8096-4843-ae3f-dbfee6072d9f"
      },
      "outputs": [
        {
          "data": {
            "text/plain": [
              "<matplotlib.axes._subplots.AxesSubplot at 0x7f1ecbd7e790>"
            ]
          },
          "execution_count": 48,
          "metadata": {},
          "output_type": "execute_result"
        },
        {
          "data": {
            "image/png": "[encoded data removed]",
            "text/plain": [
              "<Figure size 432x288 with 1 Axes>"
            ]
          },
          "metadata": {
            "needs_background": "light"
          },
          "output_type": "display_data"
        }
      ],
      "source": [
        "top = df2.groupby('EMPLOYER_NAME').CASE_STATUS.count().nlargest(20).index.tolist()\n",
        "top_df = df2.loc[df2.EMPLOYER_NAME.isin(top)]\n",
        "top_df.groupby('SOC_TITLE').EMPLOYER_NAME.count().nlargest(10).plot(kind='barh',title='Occupation of the top h1b companies')"
      ]
    },
    {
      "cell_type": "markdown",
      "metadata": {
        "id": "1CdCa1krbF2H"
      },
      "source": [
        "<h3>Plot some columns with CASE_STATUS"
      ]
    },
    {
      "cell_type": "code",
      "execution_count": 49,
      "metadata": {
        "colab": {
          "base_uri": "https://localhost:8080/",
          "height": 353
        },
        "id": "bkX0g-ryeRt1",
        "outputId": "01d25c43-3ded-42c4-ef14-fd3cf669323f"
      },
      "outputs": [
        {
          "data": {
            "text/plain": [
              "<matplotlib.axes._subplots.AxesSubplot at 0x7f1ecb217890>"
            ]
          },
          "execution_count": 49,
          "metadata": {},
          "output_type": "execute_result"
        },
        {
          "data": {
            "image/png": "[encoded data removed]",
            "text/plain": [
              "<Figure size 1080x360 with 1 Axes>"
            ]
          },
          "metadata": {
            "needs_background": "light"
          },
          "output_type": "display_data"
        }
      ],
      "source": [
        "plt.figure(figsize = (15,5))\n",
        "plt.subplot(1,2,1)\n",
        "sns.countplot('VISA_CLASS', hue = 'CASE_STATUS', data = df2)\n"
      ]
    },
    {
      "cell_type": "code",
      "execution_count": 50,
      "metadata": {
        "colab": {
          "base_uri": "https://localhost:8080/",
          "height": 353
        },
        "id": "gokxbkQCeRxk",
        "outputId": "d319f5e3-400e-4595-ad2c-8a24bcff25c1"
      },
      "outputs": [
        {
          "data": {
            "text/plain": [
              "<matplotlib.axes._subplots.AxesSubplot at 0x7f1ecaf76050>"
            ]
          },
          "execution_count": 50,
          "metadata": {},
          "output_type": "execute_result"
        },
        {
          "data": {
            "image/png": "[encoded data removed]",
            "text/plain": [
              "<Figure size 1080x360 with 1 Axes>"
            ]
          },
          "metadata": {
            "needs_background": "light"
          },
          "output_type": "display_data"
        }
      ],
      "source": [
        "plt.figure(figsize = (15,5))\n",
        "plt.subplot(1,2,1)\n",
        "sns.countplot('SECONDARY_ENTITY_1', hue = 'CASE_STATUS', data = df2)"
      ]
    },
    {
      "cell_type": "code",
      "execution_count": 51,
      "metadata": {
        "colab": {
          "base_uri": "https://localhost:8080/",
          "height": 353
        },
        "id": "vDRwfWE-eRzu",
        "outputId": "5b167217-fbba-45e1-d5db-6a3f90280324"
      },
      "outputs": [
        {
          "data": {
            "text/plain": [
              "<matplotlib.axes._subplots.AxesSubplot at 0x7f1ecb974cd0>"
            ]
          },
          "execution_count": 51,
          "metadata": {},
          "output_type": "execute_result"
        },
        {
          "data": {
            "image/png": "[encoded data removed]",
            "text/plain": [
              "<Figure size 1080x360 with 1 Axes>"
            ]
          },
          "metadata": {
            "needs_background": "light"
          },
          "output_type": "display_data"
        }
      ],
      "source": [
        "plt.figure(figsize = (15,5))\n",
        "plt.subplot(1,2,1)\n",
        "sns.countplot('AGENT_REPRESENTING_EMPLOYER', hue = 'CASE_STATUS', data = df2)"
      ]
    },
    {
      "cell_type": "code",
      "execution_count": 52,
      "metadata": {
        "colab": {
          "base_uri": "https://localhost:8080/",
          "height": 353
        },
        "id": "Ys16DFNE6Z_8",
        "outputId": "9567f90e-0d00-4d32-ddc0-e3a2ea949a7f"
      },
      "outputs": [
        {
          "data": {
            "text/plain": [
              "<matplotlib.axes._subplots.AxesSubplot at 0x7f1ecbbb4350>"
            ]
          },
          "execution_count": 52,
          "metadata": {},
          "output_type": "execute_result"
        },
        {
          "data": {
            "image/png": "[encoded data removed]",
            "text/plain": [
              "<Figure size 1080x360 with 1 Axes>"
            ]
          },
          "metadata": {
            "needs_background": "light"
          },
          "output_type": "display_data"
        }
      ],
      "source": [
        "plt.figure(figsize = (15,5))\n",
        "plt.subplot(1,2,1)\n",
        "sns.countplot('H-1B_DEPENDENT', hue = 'CASE_STATUS', data = df2)"
      ]
    },
    {
      "cell_type": "code",
      "execution_count": 53,
      "metadata": {
        "colab": {
          "base_uri": "https://localhost:8080/",
          "height": 353
        },
        "id": "fFPGjrAT6aDq",
        "outputId": "18c24432-2461-477f-bc68-8379e5a0fbb2"
      },
      "outputs": [
        {
          "data": {
            "text/plain": [
              "<matplotlib.axes._subplots.AxesSubplot at 0x7f1ecb685ad0>"
            ]
          },
          "execution_count": 53,
          "metadata": {},
          "output_type": "execute_result"
        },
        {
          "data": {
            "image/png": "[encoded data removed]",
            "text/plain": [
              "<Figure size 1080x360 with 1 Axes>"
            ]
          },
          "metadata": {
            "needs_background": "light"
          },
          "output_type": "display_data"
        }
      ],
      "source": [
        "plt.figure(figsize = (15,5))\n",
        "plt.subplot(1,2,1)\n",
        "sns.countplot('SUPPORT_H1B', hue = 'CASE_STATUS', data = df2)"
      ]
    },
    {
      "cell_type": "code",
      "execution_count": 54,
      "metadata": {
        "colab": {
          "base_uri": "https://localhost:8080/",
          "height": 353
        },
        "id": "1xyHoOFd64lo",
        "outputId": "551e8529-eb07-4cf7-cb3c-4ffd053461a9"
      },
      "outputs": [
        {
          "data": {
            "text/plain": [
              "<matplotlib.axes._subplots.AxesSubplot at 0x7f1ecbb9da90>"
            ]
          },
          "execution_count": 54,
          "metadata": {},
          "output_type": "execute_result"
        },
        {
          "data": {
            "image/png": "[encoded data removed]",
            "text/plain": [
              "<Figure size 1080x360 with 1 Axes>"
            ]
          },
          "metadata": {
            "needs_background": "light"
          },
          "output_type": "display_data"
        }
      ],
      "source": [
        "plt.figure(figsize = (15,5))\n",
        "plt.subplot(1,2,1)\n",
        "sns.countplot('WILLFUL_VIOLATOR', hue = 'CASE_STATUS', data = df2)"
      ]
    },
    {
      "cell_type": "code",
      "execution_count": 55,
      "metadata": {
        "colab": {
          "base_uri": "https://localhost:8080/",
          "height": 353
        },
        "id": "z49SOudYcJf0",
        "outputId": "b534c221-6d36-4f1d-c50b-fef659c5897e"
      },
      "outputs": [
        {
          "data": {
            "text/plain": [
              "<matplotlib.axes._subplots.AxesSubplot at 0x7f1eca69a550>"
            ]
          },
          "execution_count": 55,
          "metadata": {},
          "output_type": "execute_result"
        },
        {
          "data": {
            "image/png": "[encoded data removed]",
            "text/plain": [
              "<Figure size 1080x360 with 1 Axes>"
            ]
          },
          "metadata": {
            "needs_background": "light"
          },
          "output_type": "display_data"
        }
      ],
      "source": [
        "plt.figure(figsize = (15,5))\n",
        "plt.subplot(1,2,1)\n",
        "sns.countplot('VISA_CLASS', hue = 'CASE_STATUS', data = df2)"
      ]
    },
    {
      "cell_type": "markdown",
      "metadata": {
        "id": "ersB-ieIbVRI"
      },
      "source": [
        "<h3> Wage Distribution of case status CERTIFIED and DENIED with there Average"
      ]
    },
    {
      "cell_type": "code",
      "execution_count": 56,
      "metadata": {
        "id": "dM2wUAXZMCRi"
      },
      "outputs": [],
      "source": [
        "certified_cases = df[df['CASE_STATUS']=='CERTIFIED']\n",
        "declined_cases = df[df['CASE_STATUS']=='DENIED']"
      ]
    },
    {
      "cell_type": "code",
      "execution_count": 57,
      "metadata": {
        "colab": {
          "base_uri": "https://localhost:8080/",
          "height": 414
        },
        "id": "VP9OFZs2Oi6M",
        "outputId": "4a8e010d-b925-4ef5-b755-f5ae674e9498"
      },
      "outputs": [
        {
          "data": {
            "image/png": "[encoded data removed]",
            "text/plain": [
              "<Figure size 1440x432 with 1 Axes>"
            ]
          },
          "metadata": {
            "needs_background": "light"
          },
          "output_type": "display_data"
        }
      ],
      "source": [
        "plt.figure(figsize=(20,6))\n",
        "certified_cases[certified_cases['PREVAILING_WAGE_1']<150000].PREVAILING_WAGE_1.hist(bins=40,color='pink')\n",
        "plt.axvline(certified_cases[certified_cases['PREVAILING_WAGE_1']<=849680].PREVAILING_WAGE_1.mean(), color='blue', linestyle='dashed', linewidth=4)\n",
        "plt.xlabel('PREVALING WAGES',size=15)\n",
        "plt.ylabel('COUNT OF CERTIFIED CASES', size=15)\n",
        "plt.title('WAGE DISTRIBUTION of Certified Cases',size=20)\n",
        "plt.show()"
      ]
    },
    {
      "cell_type": "code",
      "execution_count": 58,
      "metadata": {
        "colab": {
          "base_uri": "https://localhost:8080/",
          "height": 414
        },
        "id": "uKaycF-uO2rH",
        "outputId": "c090ccd3-bd22-4ba1-a6a5-eedd92983811"
      },
      "outputs": [
        {
          "data": {
            "image/png": "[encoded data removed]",
            "text/plain": [
              "<Figure size 1440x432 with 1 Axes>"
            ]
          },
          "metadata": {
            "needs_background": "light"
          },
          "output_type": "display_data"
        }
      ],
      "source": [
        "plt.figure(figsize=(20,6))\n",
        "declined_cases[declined_cases['PREVAILING_WAGE_1']<150000].PREVAILING_WAGE_1.hist(bins=40,color='pink')\n",
        "plt.axvline(declined_cases[declined_cases['PREVAILING_WAGE_1']<=849680].PREVAILING_WAGE_1.mean(), color='blue', linestyle='dashed', linewidth=4)\n",
        "plt.xlabel('PREVALING WAGES',size=15)\n",
        "plt.ylabel('COUNT OF DECLINED CASES', size=15)\n",
        "plt.title('WAGE DISTRIBUTION of Declined Cases',size=20)\n",
        "plt.show()"
      ]
    },
    {
      "cell_type": "markdown",
      "metadata": {
        "id": "O4zssPPTSxy_"
      },
      "source": [
        "<h2>Outlier"
      ]
    },
    {
      "cell_type": "code",
      "execution_count": 59,
      "metadata": {
        "colab": {
          "base_uri": "https://localhost:8080/",
          "height": 1000
        },
        "id": "kIp1yBE8TmKY",
        "outputId": "1fad4ae4-0146-4b9b-c93a-9c3d08dbbcf2"
      },
      "outputs": [
        {
          "data": {
            "image/png": "[encoded data removed]",
            "text/plain": [
              "<Figure size 432x288 with 1 Axes>"
            ]
          },
          "metadata": {
            "needs_background": "light"
          },
          "output_type": "display_data"
        },
        {
          "data": {
            "image/png": "[encoded data removed]",
            "text/plain": [
              "<Figure size 432x288 with 1 Axes>"
            ]
          },
          "metadata": {
            "needs_background": "light"
          },
          "output_type": "display_data"
        },
        {
          "data": {
            "image/png": "[encoded data removed]",
            "text/plain": [
              "<Figure size 432x288 with 1 Axes>"
            ]
          },
          "metadata": {
            "needs_background": "light"
          },
          "output_type": "display_data"
        },
        {
          "data": {
            "image/png": "[encoded data removed]",
            "text/plain": [
              "<Figure size 432x288 with 1 Axes>"
            ]
          },
          "metadata": {
            "needs_background": "light"
          },
          "output_type": "display_data"
        },
        {
          "data": {
            "image/png": "[encoded data removed]",
            "text/plain": [
              "<Figure size 432x288 with 1 Axes>"
            ]
          },
          "metadata": {
            "needs_background": "light"
          },
          "output_type": "display_data"
        },
        {
          "data": {
            "image/png": "[encoded data removed]",
            "text/plain": [
              "<Figure size 432x288 with 1 Axes>"
            ]
          },
          "metadata": {
            "needs_background": "light"
          },
          "output_type": "display_data"
        },
        {
          "data": {
            "image/png": "[encoded data removed]",
            "text/plain": [
              "<Figure size 432x288 with 1 Axes>"
            ]
          },
          "metadata": {
            "needs_background": "light"
          },
          "output_type": "display_data"
        }
      ],
      "source": [
        "for column in numvars:\n",
        "    plt.figure()\n",
        "    plt.title(column)\n",
        "    df2.boxplot([column])"
      ]
    },
    {
      "cell_type": "markdown",
      "metadata": {
        "id": "jeYx6TY2ck76"
      },
      "source": [
        "so the above shown features are having outliers"
      ]
    },
    {
      "cell_type": "code",
      "execution_count": null,
      "metadata": {
        "id": "DGFus0UTVf02"
      },
      "outputs": [],
      "source": []
    },
    {
      "cell_type": "code",
      "execution_count": null,
      "metadata": {
        "id": "sP-Vf0MKVf5F"
      },
      "outputs": [],
      "source": []
    },
    {
      "cell_type": "code",
      "execution_count": null,
      "metadata": {
        "id": "pk1ow4SjVf7p"
      },
      "outputs": [],
      "source": []
    },
    {
      "cell_type": "code",
      "execution_count": null,
      "metadata": {
        "id": "1uyG3QxgVgAS"
      },
      "outputs": [],
      "source": []
    }
  ],
  "metadata": {
    "colab": {
      "collapsed_sections": [],
      "name": "H1B_Work_visa_approval_ALAN.ipynb",
      "provenance": []
    },
    "kernelspec": {
      "display_name": "Python 3",
      "name": "python3"
    },
    "language_info": {
      "name": "python"
    }
  },
  "nbformat": 4,
  "nbformat_minor": 0
}
